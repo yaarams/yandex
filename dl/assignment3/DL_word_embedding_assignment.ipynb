{
 "cells": [
  {
   "cell_type": "markdown",
   "metadata": {
    "colab_type": "text",
    "id": "y19HjTDqIN0u"
   },
   "source": [
    "# Word Embedding - Home Assigment\n",
    "## Dr. Omri Allouche 2018. YData Deep Learning Course\n",
    "\n",
    "[Open in Google Colab](https://colab.research.google.com/github/omriallouche/deep_learning_course/blob/master/DL_word_embedding_assignment.ipynb)\n",
    "    \n",
    "    \n",
    "In this exercise, you'll use word vectors trained on a corpus of 380,000 lyrics of songs from MetroLyrics (https://www.kaggle.com/gyani95/380000-lyrics-from-metrolyrics).  \n",
    "The dataset contains these fields for each song, in CSV format:\n",
    "1. index\n",
    "1. song\n",
    "1. year\n",
    "1. artist\n",
    "1. genre\n",
    "1. lyrics\n",
    "\n",
    "Before doing this exercise, we recommend that you go over the \"Bag of words meets bag of popcorn\" tutorial (https://www.kaggle.com/c/word2vec-nlp-tutorial)\n",
    "\n",
    "Other recommended resources:\n",
    "- https://rare-technologies.com/word2vec-tutorial/\n",
    "- https://www.kaggle.com/pierremegret/gensim-word2vec-tutorial"
   ]
  },
  {
   "cell_type": "markdown",
   "metadata": {
    "colab_type": "text",
    "id": "D-q21WpCIN0x"
   },
   "source": [
    "### Train word vectors\n",
    "Train word vectors using the Skipgram Word2vec algorithm and the gensim package.\n",
    "Make sure you perform the following:\n",
    "- Tokenize words\n",
    "- Lowercase all words\n",
    "- Remove punctuation marks\n",
    "- Remove rare words\n",
    "- Remove stopwords\n",
    "\n",
    "Use 300 as the dimension of the word vectors. Try different context sizes."
   ]
  },
  {
   "cell_type": "code",
   "execution_count": 2,
   "metadata": {
    "colab": {
     "base_uri": "https://localhost:8080/",
     "height": 72
    },
    "colab_type": "code",
    "executionInfo": {
     "elapsed": 2614,
     "status": "ok",
     "timestamp": 1586424402444,
     "user": {
      "displayName": "Maria Osipova",
      "photoUrl": "https://lh3.googleusercontent.com/a-/AOh14GibxjIg8VAFApdxLM77DFjB-Zx4v27qQEWFJYyO=s64",
      "userId": "01551535179706988455"
     },
     "user_tz": -180
    },
    "id": "BrCScymzIN0z",
    "outputId": "9ff84067-8fb9-4ca2-9f0f-3075d845ca51"
   },
   "outputs": [],
   "source": [
    "from collections import Counter\n",
    "from gensim import corpora, similarities\n",
    "from gensim.models import word2vec\n",
    "from gensim.parsing.preprocessing import preprocess_string, remove_stopwords, strip_multiple_whitespaces, \\\n",
    "                                         strip_non_alphanum, strip_numeric, strip_punctuation, strip_short, stem_text\n",
    "from matplotlib import colors as mcolors\n",
    "from nltk import tokenize  # We will need nltk and nltk_data.\n",
    "from sklearn.decomposition import PCA\n",
    "from sklearn.feature_extraction.text import CountVectorizer, TfidfTransformer, TfidfVectorizer\n",
    "from sklearn.linear_model import LinearRegression\n",
    "from sklearn.manifold import TSNE\n",
    "from sklearn.metrics import classification_report, confusion_matrix, mean_squared_error\n",
    "from sklearn.model_selection import train_test_split\n",
    "from sklearn.naive_bayes import GaussianNB\n",
    "from sklearn.pipeline import Pipeline\n",
    "import gc\n",
    "import matplotlib.pyplot as plt\n",
    "import multiprocessing\n",
    "import numpy as np\n",
    "import numpy.linalg as ln\n",
    "import pandas as pd       \n",
    "import seaborn as sns\n",
    "import warnings\n",
    "\n",
    "%matplotlib inline\n",
    "sns.set_style('darkgrid')\n",
    "warnings.filterwarnings('ignore')"
   ]
  },
  {
   "cell_type": "code",
   "execution_count": 4,
   "metadata": {
    "colab": {},
    "colab_type": "code",
    "id": "rp7n4Mp-KdRj"
   },
   "outputs": [],
   "source": [
    "# For work with google colab.\n",
    "from google.colab import drive\n",
    "import os\n",
    "import nltk\n",
    "nltk.download('punkt')\n",
    "drive.mount('/content/drive/')\n",
    "os.chdir('drive/My Drive/Y-Data/Deep Learning/assignment3/')"
   ]
  },
  {
   "cell_type": "code",
   "execution_count": 5,
   "metadata": {
    "colab": {
     "base_uri": "https://localhost:8080/",
     "height": 224
    },
    "colab_type": "code",
    "executionInfo": {
     "elapsed": 11933,
     "status": "ok",
     "timestamp": 1586424483215,
     "user": {
      "displayName": "Maria Osipova",
      "photoUrl": "https://lh3.googleusercontent.com/a-/AOh14GibxjIg8VAFApdxLM77DFjB-Zx4v27qQEWFJYyO=s64",
      "userId": "01551535179706988455"
     },
     "user_tz": -180
    },
    "id": "SY3ESuc2IN0-",
    "outputId": "a8372c5c-d686-4ab0-be27-502ea3798419"
   },
   "outputs": [
    {
     "name": "stdout",
     "output_type": "stream",
     "text": [
      "(362237, 6)\n"
     ]
    },
    {
     "data": {
      "text/html": [
       "<div>\n",
       "<style scoped>\n",
       "    .dataframe tbody tr th:only-of-type {\n",
       "        vertical-align: middle;\n",
       "    }\n",
       "\n",
       "    .dataframe tbody tr th {\n",
       "        vertical-align: top;\n",
       "    }\n",
       "\n",
       "    .dataframe thead th {\n",
       "        text-align: right;\n",
       "    }\n",
       "</style>\n",
       "<table border=\"1\" class=\"dataframe\">\n",
       "  <thead>\n",
       "    <tr style=\"text-align: right;\">\n",
       "      <th></th>\n",
       "      <th>index</th>\n",
       "      <th>song</th>\n",
       "      <th>year</th>\n",
       "      <th>artist</th>\n",
       "      <th>genre</th>\n",
       "      <th>lyrics</th>\n",
       "    </tr>\n",
       "  </thead>\n",
       "  <tbody>\n",
       "    <tr>\n",
       "      <td>0</td>\n",
       "      <td>0</td>\n",
       "      <td>ego-remix</td>\n",
       "      <td>2009</td>\n",
       "      <td>beyonce-knowles</td>\n",
       "      <td>Pop</td>\n",
       "      <td>Oh baby, how you doing?\\nYou know I'm gonna cu...</td>\n",
       "    </tr>\n",
       "    <tr>\n",
       "      <td>1</td>\n",
       "      <td>1</td>\n",
       "      <td>then-tell-me</td>\n",
       "      <td>2009</td>\n",
       "      <td>beyonce-knowles</td>\n",
       "      <td>Pop</td>\n",
       "      <td>playin' everything so easy,\\nit's like you see...</td>\n",
       "    </tr>\n",
       "    <tr>\n",
       "      <td>2</td>\n",
       "      <td>2</td>\n",
       "      <td>honesty</td>\n",
       "      <td>2009</td>\n",
       "      <td>beyonce-knowles</td>\n",
       "      <td>Pop</td>\n",
       "      <td>If you search\\nFor tenderness\\nIt isn't hard t...</td>\n",
       "    </tr>\n",
       "    <tr>\n",
       "      <td>3</td>\n",
       "      <td>3</td>\n",
       "      <td>you-are-my-rock</td>\n",
       "      <td>2009</td>\n",
       "      <td>beyonce-knowles</td>\n",
       "      <td>Pop</td>\n",
       "      <td>Oh oh oh I, oh oh oh I\\n[Verse 1:]\\nIf I wrote...</td>\n",
       "    </tr>\n",
       "    <tr>\n",
       "      <td>4</td>\n",
       "      <td>4</td>\n",
       "      <td>black-culture</td>\n",
       "      <td>2009</td>\n",
       "      <td>beyonce-knowles</td>\n",
       "      <td>Pop</td>\n",
       "      <td>Party the people, the people the party it's po...</td>\n",
       "    </tr>\n",
       "  </tbody>\n",
       "</table>\n",
       "</div>"
      ],
      "text/plain": [
       "   index             song  year           artist genre  \\\n",
       "0      0        ego-remix  2009  beyonce-knowles   Pop   \n",
       "1      1     then-tell-me  2009  beyonce-knowles   Pop   \n",
       "2      2          honesty  2009  beyonce-knowles   Pop   \n",
       "3      3  you-are-my-rock  2009  beyonce-knowles   Pop   \n",
       "4      4    black-culture  2009  beyonce-knowles   Pop   \n",
       "\n",
       "                                              lyrics  \n",
       "0  Oh baby, how you doing?\\nYou know I'm gonna cu...  \n",
       "1  playin' everything so easy,\\nit's like you see...  \n",
       "2  If you search\\nFor tenderness\\nIt isn't hard t...  \n",
       "3  Oh oh oh I, oh oh oh I\\n[Verse 1:]\\nIf I wrote...  \n",
       "4  Party the people, the people the party it's po...  "
      ]
     },
     "execution_count": 5,
     "metadata": {},
     "output_type": "execute_result"
    }
   ],
   "source": [
    "data = pd.read_csv('lyrics.csv', header=0)\n",
    "\n",
    "print(data.shape)\n",
    "data.head()"
   ]
  },
  {
   "cell_type": "code",
   "execution_count": 6,
   "metadata": {
    "colab": {
     "base_uri": "https://localhost:8080/",
     "height": 34
    },
    "colab_type": "code",
    "executionInfo": {
     "elapsed": 8492,
     "status": "ok",
     "timestamp": 1586424483217,
     "user": {
      "displayName": "Maria Osipova",
      "photoUrl": "https://lh3.googleusercontent.com/a-/AOh14GibxjIg8VAFApdxLM77DFjB-Zx4v27qQEWFJYyO=s64",
      "userId": "01551535179706988455"
     },
     "user_tz": -180
    },
    "id": "tsWXzfsvIN1G",
    "outputId": "31444da7-8702-4725-b158-f607fbb96ce0"
   },
   "outputs": [
    {
     "data": {
      "text/plain": [
       "95680"
      ]
     },
     "execution_count": 6,
     "metadata": {},
     "output_type": "execute_result"
    }
   ],
   "source": [
    "# Check if there are nans in the lyrics column.\n",
    "len(data[data.lyrics.isnull()])"
   ]
  },
  {
   "cell_type": "code",
   "execution_count": 7,
   "metadata": {
    "colab": {},
    "colab_type": "code",
    "id": "FrB-5puHIN1M"
   },
   "outputs": [],
   "source": [
    "# Create a list of non-null texts, grouped by genres to further reuse.\n",
    "texts_by_genres = data[['lyrics', 'genre']].dropna().groupby(['genre']).agg(lambda x: '\\n'.join(x)).reset_index()\n",
    "\n",
    "# Split the texts into sentences.\n",
    "sentences_by_genres = {\n",
    "    genre: tokenize.sent_tokenize(texts_by_genres[texts_by_genres.genre==genre].lyrics.values[0]) \n",
    "    for genre in texts_by_genres.genre}"
   ]
  },
  {
   "cell_type": "code",
   "execution_count": null,
   "metadata": {
    "colab": {},
    "colab_type": "code",
    "id": "67v5MwXBIN1S"
   },
   "outputs": [],
   "source": [
    "remove_punctuation_marks = lambda word: strip_punctuation(word.replace(\"'\", \"\"))\n",
    "\n",
    "preprocessors = [\n",
    "    stem_text,                   # Reduce words to their base forms - doesn't work well, e.g. stem of \n",
    "                                 # \"Mary\" should be \"Mary\" but \"mar\" is returned, doesn't stem some words.\n",
    "    lambda word: word.lower(),   # Lowercase the word.\n",
    "    strip_numeric,               # Remove digits.\n",
    "    strip_non_alphanum,          # Remove non-alphanumeric characters.\n",
    "    strip_multiple_whitespaces,  # Remove repeating whitespaces.\n",
    "    strip_short,                 # Remove words with length less than 3.\n",
    "    remove_punctuation_marks,    # Remove the \"'\" character and replace punctuation marks by a whitespace.\n",
    "    remove_stopwords             # Remove stopwords.\n",
    "                                 # TODO(maria): Consider specifying stopwords manually rather than using a \n",
    "                                 # built-in list.\n",
    "]\n",
    "\n",
    "# Process the sentences: remove stop words, punctuation marks, and tokenize them.\n",
    "words_by_sentences_by_genre = [\n",
    "    [preprocess_string(sentence, preprocessors) for sentence in sentences_by_genres[genre]]\n",
    "    for genre in texts_by_genres.genre\n",
    "]"
   ]
  },
  {
   "cell_type": "code",
   "execution_count": null,
   "metadata": {
    "colab": {},
    "colab_type": "code",
    "id": "SEjfXjbxIN1Y"
   },
   "outputs": [],
   "source": [
    "num_features = 300                         # Word vector dimensionality.                  \n",
    "min_word_count = 40                        # Minimum word count.               \n",
    "num_workers = multiprocessing.cpu_count()  # Number of threads to run in parallel.\n",
    "context = 10                               # Context window size.                                                                  \n",
    "downsampling = 1e-3                        # Downsample setting for frequent words.\n",
    "\n",
    "all_sentences = np.concatenate(words_by_sentences_by_genre)\n",
    "model = word2vec.Word2Vec(all_sentences, size=num_features, min_count=min_word_count, \\\n",
    "                          window=context, sample=downsampling, workers=num_workers)\n",
    "\n",
    "# We don't plan to train the model any further, therefore, \n",
    "# we call init_sims to make the model more memory-efficient.\n",
    "model.init_sims(replace=True)"
   ]
  },
  {
   "cell_type": "code",
   "execution_count": null,
   "metadata": {
    "colab": {},
    "colab_type": "code",
    "id": "DrpfRt3NRVCm"
   },
   "outputs": [],
   "source": [
    "del data\n",
    "del sentences_by_genres\n",
    "gc.collect()"
   ]
  },
  {
   "cell_type": "markdown",
   "metadata": {
    "colab_type": "text",
    "id": "Z2Xp-hbCIN1e"
   },
   "source": [
    "### Review most similar words\n",
    "Get initial evaluation of the word vectors by analyzing the most similar words for a few interesting words in the text. \n",
    "\n",
    "Choose words yourself, and find the most similar words to them."
   ]
  },
  {
   "cell_type": "code",
   "execution_count": null,
   "metadata": {
    "colab": {
     "base_uri": "https://localhost:8080/",
     "height": 124
    },
    "colab_type": "code",
    "executionInfo": {
     "elapsed": 1140,
     "status": "ok",
     "timestamp": 1586424323291,
     "user": {
      "displayName": "Maria Osipova",
      "photoUrl": "https://lh3.googleusercontent.com/a-/AOh14GibxjIg8VAFApdxLM77DFjB-Zx4v27qQEWFJYyO=s64",
      "userId": "01551535179706988455"
     },
     "user_tz": -180
    },
    "id": "B0GuIiaZIN1f",
    "outputId": "43cde961-c921-4ee0-c9bb-6201a8245d8b"
   },
   "outputs": [],
   "source": [
    "words = ['glass', 'black', 'student']\n",
    "\n",
    "for word in words:\n",
    "    similar_word, similarity = model.wv.most_similar(word, topn=1)[0]\n",
    "    print('The most similar word to \"%s\" is \"%s\" (similarity %.2f)' % (word, similar_word, similarity))"
   ]
  },
  {
   "cell_type": "markdown",
   "metadata": {
    "colab_type": "text",
    "id": "ym_6IqEXIN1k"
   },
   "source": [
    "### Word Vectors Algebra\n",
    "We've seen in class examples of algebraic games on the word vectors (e.g. man - woman + king = queen ). \n",
    "\n",
    "Try a few vector algebra terms, and evaluate how well they work. Try to use the Cosine distance and compare it to the Euclidean distance."
   ]
  },
  {
   "cell_type": "code",
   "execution_count": null,
   "metadata": {
    "colab": {
     "base_uri": "https://localhost:8080/",
     "height": 124
    },
    "colab_type": "code",
    "executionInfo": {
     "elapsed": 981,
     "status": "ok",
     "timestamp": 1586424335592,
     "user": {
      "displayName": "Maria Osipova",
      "photoUrl": "https://lh3.googleusercontent.com/a-/AOh14GibxjIg8VAFApdxLM77DFjB-Zx4v27qQEWFJYyO=s64",
      "userId": "01551535179706988455"
     },
     "user_tz": -180
    },
    "id": "OuUfY0_2IN1k",
    "outputId": "cffcb600-877d-424e-dd62-c9cec1b68f69"
   },
   "outputs": [],
   "source": [
    "def print_stats(w1, w2):\n",
    "    v1 = model.wv[w1]\n",
    "    v2 = model.wv[w2]\n",
    "    cosine_dist = np.dot(v1, v2) / (ln.norm(v1) * ln.norm(v2))\n",
    "    euclidean_dist = ln.norm(v1 - v2)\n",
    "    similarity = model.wv.similarity(w1, w2)\n",
    "    print('\"%s\" and \"%s\": cosine distance %.2f, Euclidean distance %.2f, similarity %.2f' % \n",
    "         (w1, w2, cosine_dist, euclidean_dist, similarity))\n",
    "\n",
    "# Try out similar words.\n",
    "print_stats('glass', 'shard')\n",
    "print_stats('black', 'white')\n",
    "\n",
    "# Compute stats for uncorrelated words.\n",
    "print_stats('bacardi', 'education')"
   ]
  },
  {
   "cell_type": "code",
   "execution_count": null,
   "metadata": {
    "colab": {
     "base_uri": "https://localhost:8080/",
     "height": 89
    },
    "colab_type": "code",
    "executionInfo": {
     "elapsed": 1118,
     "status": "ok",
     "timestamp": 1586424345713,
     "user": {
      "displayName": "Maria Osipova",
      "photoUrl": "https://lh3.googleusercontent.com/a-/AOh14GibxjIg8VAFApdxLM77DFjB-Zx4v27qQEWFJYyO=s64",
      "userId": "01551535179706988455"
     },
     "user_tz": -180
    },
    "id": "IWYEn09aIN1q",
    "outputId": "3a5bfbe7-b922-4363-df05-1fc5fcdb5afc"
   },
   "outputs": [],
   "source": [
    "def print_stats_2(positive, negative):\n",
    "    w2, similarity = model.wv.most_similar(positive=positive, negative=negative, topn=1)[0]\n",
    "    v2 = model.wv[w2] \n",
    "    v1 = np.sum(model.wv[positive], axis=0) - np.sum(model.wv[negative], axis=0)\n",
    "    cosine_dist = np.dot(v1, v2) / (ln.norm(v1) * ln.norm(v2))\n",
    "    euclidean_dist = ln.norm(v1 - v2)\n",
    "    print('The most similar word \"%s\": cosine distance %.2f, Euclidean distance %.2f, similarity %.2f' % \n",
    "         (w2, cosine_dist, euclidean_dist, similarity))\n",
    "\n",
    "print_stats_2(['white', 'glass'], ['shard'])"
   ]
  },
  {
   "cell_type": "markdown",
   "metadata": {
    "colab_type": "text",
    "id": "70TU58aJIN1v"
   },
   "source": [
    "We see that cosine distance has better correlatation to the similarity of the model."
   ]
  },
  {
   "cell_type": "markdown",
   "metadata": {
    "colab_type": "text",
    "id": "vr3raTpLIN1w"
   },
   "source": [
    "## Sentiment Analysis\n",
    "Estimate sentiment of words using word vectors.  \n",
    "In this section, we'll use the SemEval-2015 English Twitter Sentiment Lexicon.  \n",
    "The lexicon was used as an official test set in the SemEval-2015 shared Task #10: Subtask E, and contains a polarity score for words in range -1 (negative) to 1 (positive) - http://saifmohammad.com/WebPages/SCL.html#OPP"
   ]
  },
  {
   "cell_type": "markdown",
   "metadata": {
    "colab_type": "text",
    "id": "G9fNv1bVIN1x"
   },
   "source": [
    "Build a classifier for the sentiment of a word given its word vector. Split the data to a train and test sets, and report the model performance on both sets."
   ]
  },
  {
   "cell_type": "code",
   "execution_count": null,
   "metadata": {
    "colab": {
     "base_uri": "https://localhost:8080/",
     "height": 206
    },
    "colab_type": "code",
    "executionInfo": {
     "elapsed": 2866,
     "status": "ok",
     "timestamp": 1586424325029,
     "user": {
      "displayName": "Maria Osipova",
      "photoUrl": "https://lh3.googleusercontent.com/a-/AOh14GibxjIg8VAFApdxLM77DFjB-Zx4v27qQEWFJYyO=s64",
      "userId": "01551535179706988455"
     },
     "user_tz": -180
    },
    "id": "O2JHvi5jIN11",
    "outputId": "488a6511-0244-4dc3-9a2b-474c247a0899"
   },
   "outputs": [],
   "source": [
    "df = pd.read_csv('twitter/SemEval2015-English-Twitter-Lexicon.txt', header=None, delimiter='\\t')\n",
    "df.rename(columns={0: 'score', 1: 'entry'}, inplace=True)\n",
    "df.head()"
   ]
  },
  {
   "cell_type": "code",
   "execution_count": null,
   "metadata": {
    "colab": {
     "base_uri": "https://localhost:8080/",
     "height": 52
    },
    "colab_type": "code",
    "executionInfo": {
     "elapsed": 4522,
     "status": "ok",
     "timestamp": 1586424326698,
     "user": {
      "displayName": "Maria Osipova",
      "photoUrl": "https://lh3.googleusercontent.com/a-/AOh14GibxjIg8VAFApdxLM77DFjB-Zx4v27qQEWFJYyO=s64",
      "userId": "01551535179706988455"
     },
     "user_tz": -180
    },
    "id": "J-wBFF8NIN15",
    "outputId": "b4c64c1c-b7a9-4df1-e79c-6b10c9a6ee61"
   },
   "outputs": [],
   "source": [
    "vocab = set(model.wv.vocab)\n",
    "y = df[[\"score\"]].values[:,0]\n",
    "\n",
    "mask = []\n",
    "all_entry_words = []\n",
    "for entry, in df[[\"entry\"]].values:\n",
    "    # Run the same preprocessors as for the lyrics dataset.\n",
    "    entry_words = preprocess_string(entry, preprocessors)\n",
    "    diff = set(entry_words) - set(vocab)\n",
    "    # Skip words missing in the lyrics vocabulary, and entries consisting of several words.\n",
    "    include = len(diff) == 0 and len(entry_words) == 1\n",
    "    all_entry_words.append(entry_words if include else [])\n",
    "    mask.append(include)\n",
    "all_entry_words = np.concatenate(np.array(all_entry_words)[mask])\n",
    "X = np.array([model.wv[word] for word in all_entry_words])\n",
    "y = np.array(y)[mask]\n",
    "\n",
    "X_train, X_test, y_train, y_test = train_test_split(X, y, test_size=0.2)\n",
    "reg_model = LinearRegression().fit(X_train, y_train)\n",
    "\n",
    "print('Accuracy on the train set %.2f' % (1 - mean_squared_error(y_train, reg_model.predict(X_train))))\n",
    "print('Accuracy on the test set %.2f' % (1 - mean_squared_error(y_test, reg_model.predict(X_test))))"
   ]
  },
  {
   "cell_type": "markdown",
   "metadata": {
    "colab_type": "text",
    "id": "uqjZ2MllIN1-"
   },
   "source": [
    "Use your trained model from the previous question to predict the sentiment score of words in the lyrics corpus that are not part of the original sentiment dataset. Review the words with the highest positive and negative sentiment. Do the results make sense?"
   ]
  },
  {
   "cell_type": "code",
   "execution_count": null,
   "metadata": {
    "colab": {
     "base_uri": "https://localhost:8080/",
     "height": 364
    },
    "colab_type": "code",
    "executionInfo": {
     "elapsed": 1425,
     "status": "ok",
     "timestamp": 1586424360461,
     "user": {
      "displayName": "Maria Osipova",
      "photoUrl": "https://lh3.googleusercontent.com/a-/AOh14GibxjIg8VAFApdxLM77DFjB-Zx4v27qQEWFJYyO=s64",
      "userId": "01551535179706988455"
     },
     "user_tz": -180
    },
    "id": "etsRNkObIN2A",
    "outputId": "e60adb36-8730-47ea-84cd-4d77637f54f0"
   },
   "outputs": [],
   "source": [
    "sentiment_vocab = set(all_entry_words)\n",
    "diff = list(vocab - sentiment_vocab)\n",
    "word_vectors = np.array([model.wv[word] for word in diff])\n",
    "scores = reg_model.predict(word_vectors)\n",
    "\n",
    "order = scores.argsort()\n",
    "result = np.array([np.array(diff)[order], scores[order]]).transpose()\n",
    "\n",
    "print('The words with the highest negative sentiment:\\n', result[0:10])\n",
    "print('The words with the highest positive sentiment:\\n', result[result.shape[1]-10:])"
   ]
  },
  {
   "cell_type": "markdown",
   "metadata": {
    "colab_type": "text",
    "id": "o7zhbFB9IN2F"
   },
   "source": [
    "### Visualize Word Vectors\n",
    "In this section, you'll plot words on a 2D grid based on their inner similarity. We'll use the tSNE transformation to reduce dimensions from 300 to 2. You can get sample code from https://www.kaggle.com/pierremegret/gensim-word2vec-tutorial or other tutorials online.\n",
    "\n",
    "Perform the following:\n",
    "- Keep only the 3,000 most frequent words (after removing stopwords)\n",
    "- For this list, compute for each word its relative abundance in each of the genres\n",
    "- Compute the ratio between the proportion of each word in each genre and the proportion of the word in the entire corpus (the background distribution)\n",
    "- Pick the top 50 words for each genre. These words give good indication for that genre. Join the words from all genres into a single list of top significant words. \n",
    "- Compute tSNE transformation to 2D for all words, based on their word vectors\n",
    "- Plot the list of the top significant words in 2D. Next to each word output its text. The color of each point should indicate the genre for which it is most significant.\n",
    "\n",
    "You might prefer to use a different number of points or a slightly different methodology for improved results.  \n",
    "Analyze the results."
   ]
  },
  {
   "cell_type": "code",
   "execution_count": null,
   "metadata": {
    "colab": {},
    "colab_type": "code",
    "id": "kAjIMsp-IN2F"
   },
   "outputs": [],
   "source": [
    "n_words_over_all = 3000      # Number of most frequent words to pick.\n",
    "\n",
    "# Find most common words.\n",
    "all_words = np.concatenate(all_sentences)\n",
    "most_common_over_all = Counter(all_words).most_common(n_words_over_all)\n",
    "# Convert to dictionary.\n",
    "most_common_over_all = {k: v for k, v in most_common_over_all}"
   ]
  },
  {
   "cell_type": "code",
   "execution_count": null,
   "metadata": {
    "colab": {},
    "colab_type": "code",
    "id": "LZi0aSzpIN2J"
   },
   "outputs": [],
   "source": [
    "all_common_words = list(most_common_over_all.keys())\n",
    "occurences = np.array([most_common_over_all[w] for w in all_common_words])\n",
    "\n",
    "n_genres = len(texts_by_genres.genre)\n",
    "\n",
    "# Compute for each word its relative abundance in each of the genres.\n",
    "occurences_per_genre = []\n",
    "for i in range(n_genres):\n",
    "    c = Counter(np.concatenate(words_by_sentences_by_genre[i]))\n",
    "    occurences_per_genre.append([c[w] for w in all_common_words])\n",
    "occurences_per_genre = np.array(occurences_per_genre)"
   ]
  },
  {
   "cell_type": "code",
   "execution_count": null,
   "metadata": {
    "colab": {},
    "colab_type": "code",
    "id": "oP4h3NAuIN2O"
   },
   "outputs": [],
   "source": [
    "# Compute the background distribution.\n",
    "d = np.divide(occurences_per_genre, occurences, dtype=float)\n",
    "d"
   ]
  },
  {
   "cell_type": "code",
   "execution_count": null,
   "metadata": {
    "colab": {},
    "colab_type": "code",
    "id": "Fwq7XGNFIN2R"
   },
   "outputs": [],
   "source": [
    "top_n = 50       # Number of most frequent words to pick for each genre.\n",
    "\n",
    "words_arr = np.array(all_common_words)\n",
    "\n",
    "top_words_per_genre = []\n",
    "scores_per_genre = []\n",
    "for i in range(n_genres):\n",
    "    mask = (-d[i]).argsort()[:top_n]\n",
    "    top_words_per_genre.append(words_arr[mask])\n",
    "    scores_per_genre.append(d[i][mask])\n",
    "top_words_per_genre = np.array(top_words_per_genre)\n",
    "scores_per_genre = np.array(scores_per_genre)\n",
    "\n",
    "all_top_words = np.unique(np.concatenate(top_words_per_genre))"
   ]
  },
  {
   "cell_type": "code",
   "execution_count": null,
   "metadata": {
    "colab": {},
    "colab_type": "code",
    "id": "Aqx8LU0TIN2V"
   },
   "outputs": [],
   "source": [
    "css_colors = ['gray', 'green', 'blue', 'yellow', 'pink', 'black', 'purple', 'moccasin', 'indigo', 'orchid', 'khaki', 'salmon']\n",
    "css_color_codes = dict(**mcolors.CSS4_COLORS)\n",
    "\n",
    "def get_genre_index(word):\n",
    "    indices = np.argwhere(top_words_per_genre==word)\n",
    "    scores = [scores_per_genre[genre_index, word_index] for genre_index, word_index in indices]\n",
    "    return indices[np.argmax(scores)][0]\n",
    "\n",
    "get_color = lambda word: css_color_codes[css_colors[get_genre_index(word)]]\n",
    "\n",
    "arrays = np.empty((0, num_features), dtype='f')\n",
    "\n",
    "word_labels = all_top_words\n",
    "color_list  = [get_color(w) for w in all_top_words]\n",
    "arrays = model.wv[all_top_words]\n",
    "    \n",
    "# Reduce the dimensionality from 300 to 16 dimensions with PCA.\n",
    "pca = PCA(n_components=16).fit_transform(arrays)\n",
    "    \n",
    "# Find t-SNE coordinates for 2 dimensions.\n",
    "np.set_printoptions(suppress=True)\n",
    "Y = TSNE(n_components=2, random_state=0, perplexity=15).fit_transform(pca)\n",
    "    \n",
    "fig, _ = plt.subplots()\n",
    "fig.set_size_inches(50, 50)\n",
    "df = pd.DataFrame({'x': [x for x in Y[:,0]], 'y': [y for y in Y[:,1]], \n",
    "                   'words': word_labels, 'color': color_list})\n",
    "p1 = sns.regplot(data=df, x=\"x\", y=\"y\", fit_reg=False, marker=\"o\",\n",
    "                 scatter_kws={'s': 40, 'facecolors': df['color']})\n",
    "    \n",
    "# Add annotations.\n",
    "for line in range(0, df.shape[0]):\n",
    "    title = '  ' + df[\"words\"][line].title()\n",
    "    p1.text(df[\"x\"][line], df['y'][line], title,\n",
    "            horizontalalignment='left', verticalalignment='bottom', size='medium',\n",
    "            color=df['color'][line], weight='normal').set_size(15)\n",
    "\n",
    "# TODO(maria): Find out how to add a legend with a map of colors to genres, and remove this line.\n",
    "print(np.stack([css_colors, texts_by_genres.genre], axis=1))\n",
    "\n",
    "plt.xlim(Y[:, 0].min()-1, Y[:, 0].max()+1)\n",
    "plt.ylim(Y[:, 1].min()-1, Y[:, 1].max()+1)\n",
    "            \n",
    "plt.title('t-SNE visualization')"
   ]
  },
  {
   "cell_type": "markdown",
   "metadata": {
    "colab_type": "text",
    "id": "AJ5hIj2hIN2Z"
   },
   "source": [
    "## Text Classification\n",
    "In this section, you'll build a text classifier, determining the genre of a song based on its lyrics."
   ]
  },
  {
   "cell_type": "markdown",
   "metadata": {
    "colab_type": "text",
    "id": "FJ_Jx3ipIN2Z"
   },
   "source": [
    "### Text classification using Bag-of-Words\n",
    "Build a Naive Bayes classifier based on the bag of Words.  \n",
    "You will need to divide your dataset into a train and test sets."
   ]
  },
  {
   "cell_type": "code",
   "execution_count": null,
   "metadata": {
    "colab": {},
    "colab_type": "code",
    "id": "jvDibeDoIN2a"
   },
   "outputs": [],
   "source": [
    "vocab = list(model.wv.vocab)\n",
    "\n",
    "string_sentences = []\n",
    "y = []\n",
    "for i in range(n_genres):\n",
    "    for words_by_sentences in words_by_sentences_by_genre[i]:\n",
    "        string_sentences.append(''.join(words_by_sentences))\n",
    "        y.append(i)\n",
    "    \n",
    "vectorizer = CountVectorizer()\n",
    "X = vectorizer.fit_transform(string_sentences)    \n",
    "y = np.array(y)\n",
    "\n",
    "X_train, X_test, y_train, y_test = train_test_split(X, y, test_size=0.3)"
   ]
  },
  {
   "cell_type": "code",
   "execution_count": null,
   "metadata": {
    "colab": {},
    "colab_type": "code",
    "id": "ae_76X75IN2d"
   },
   "outputs": [],
   "source": [
    "clf = GaussianNB()\n",
    "clf.fit(X_train.todense(), y_train)"
   ]
  },
  {
   "cell_type": "markdown",
   "metadata": {
    "colab_type": "text",
    "id": "lBfkyKzxIN2h"
   },
   "source": [
    "Show the confusion matrix."
   ]
  },
  {
   "cell_type": "code",
   "execution_count": null,
   "metadata": {
    "colab": {},
    "colab_type": "code",
    "id": "qehoJ5v9IN2h"
   },
   "outputs": [],
   "source": [
    "def show_confusion_matrix(y_pred, y_true):\n",
    "    m = confusion_matrix(y_pred, y_true)\n",
    "    plt.figure(figsize = (10,7))\n",
    "    sn.heatmap(m) # df_cm = pd.DataFrame(m)\n",
    "    \n",
    "# show_confusion_matrix(clf.predict(X_train.todense()), y_train)"
   ]
  },
  {
   "cell_type": "markdown",
   "metadata": {
    "colab_type": "text",
    "id": "-T5gDAC9IN2l"
   },
   "source": [
    "Show the classification report - precision, recall, f1 for each class."
   ]
  },
  {
   "cell_type": "code",
   "execution_count": 0,
   "metadata": {
    "colab": {},
    "colab_type": "code",
    "id": "_5pRHYElIN2m"
   },
   "outputs": [],
   "source": [
    "y_test_pred = clf.predict(X_train)\n",
    "classification_report(y_test_pred, y_test, target_names=texts_by_genres.genre)"
   ]
  },
  {
   "cell_type": "markdown",
   "metadata": {
    "colab_type": "text",
    "id": "4xDLx59jIN2q"
   },
   "source": [
    "### Text classification using Word Vectors\n",
    "#### Average word vectors\n",
    "Do the same, using a classifier that averages the word vectors of words in the document."
   ]
  },
  {
   "cell_type": "code",
   "execution_count": 0,
   "metadata": {
    "colab": {},
    "colab_type": "code",
    "id": "Q_wDk5s2IN2q"
   },
   "outputs": [],
   "source": []
  },
  {
   "cell_type": "markdown",
   "metadata": {
    "colab_type": "text",
    "id": "P86NdBN8IN2u"
   },
   "source": [
    "#### TfIdf Weighting\n",
    "Do the same, using a classifier that averages the word vectors of words in the document, weighting each word by its TfIdf.\n"
   ]
  },
  {
   "cell_type": "code",
   "execution_count": null,
   "metadata": {
    "colab": {},
    "colab_type": "code",
    "id": "JL5zrBCnIN2u"
   },
   "outputs": [],
   "source": [
    "X_train, X_test, y_train, y_test = train_test_split(string_sentences, y, test_size=0.3)\n",
    "\n",
    "pipe = Pipeline([('tfidf', TfidfVectorizer(vocabulary=vocab)),\n",
    "                 ('tfid', TfidfTransformer())]).fit(X_train)\n",
    "\n",
    "y_train_pred = pipe['tfidf'].transform(X_train).toarray()\n",
    "y_test_pred = pipe['tfidf'].transform(X_test).toarray()"
   ]
  },
  {
   "cell_type": "code",
   "execution_count": null,
   "metadata": {},
   "outputs": [],
   "source": [
    "show_confusion_matrix(y_train_pred, y_train)"
   ]
  },
  {
   "cell_type": "code",
   "execution_count": null,
   "metadata": {},
   "outputs": [],
   "source": [
    "classification_report(y_test_pred, y_test, target_names=texts_by_genres.genre)"
   ]
  },
  {
   "cell_type": "markdown",
   "metadata": {
    "colab_type": "text",
    "id": "0Qc8CI6XIN2y"
   },
   "source": [
    "### Text classification using ConvNet\n",
    "Do the same, using a ConvNet.  \n",
    "The ConvNet should get as input a 2D matrix where each column is an embedding vector of a single word, and words are in order. Use zero padding so that all matrices have a similar length.  \n",
    "Some songs might be very long. Trim them so you keep a maximum of 128 words (after cleaning stop words and rare words).  \n",
    "Initialize the embedding layer using the word vectors that you've trained before, but allow them to change during training.  \n",
    "\n",
    "Extra: Try training the ConvNet with 2 slight modifications:\n",
    "1. freezing the the weights trained using Word2vec (preventing it from updating)\n",
    "1. random initialization of the embedding layer"
   ]
  },
  {
   "cell_type": "markdown",
   "metadata": {
    "colab_type": "text",
    "id": "IUhnmPJQIN2y"
   },
   "source": [
    "You are encouraged to try this question on your own.  \n",
    "\n",
    "You might prefer to get ideas from the paper \"Convolutional Neural Networks for Sentence Classification\" (Kim 2014, [link](https://arxiv.org/abs/1408.5882)).\n",
    "\n",
    "There are several implementations of the paper code in PyTorch online (see for example [this repo](https://github.com/prakashpandey9/Text-Classification-Pytorch) for a PyTorch implementation of CNN and other architectures for text classification). If you get stuck, they might provide you with a reference for your own code."
   ]
  },
  {
   "cell_type": "code",
   "execution_count": 0,
   "metadata": {
    "colab": {},
    "colab_type": "code",
    "id": "qaFGxMy9IN2z"
   },
   "outputs": [],
   "source": []
  }
 ],
 "metadata": {
  "accelerator": "GPU",
  "colab": {
   "collapsed_sections": [],
   "name": "DL_word_embedding_assignment.ipynb",
   "provenance": []
  },
  "kernelspec": {
   "display_name": "Python 3",
   "language": "python",
   "name": "python3"
  },
  "language_info": {
   "codemirror_mode": {
    "name": "ipython",
    "version": 3
   },
   "file_extension": ".py",
   "mimetype": "text/x-python",
   "name": "python",
   "nbconvert_exporter": "python",
   "pygments_lexer": "ipython3",
   "version": "3.7.4"
  }
 },
 "nbformat": 4,
 "nbformat_minor": 1
}
