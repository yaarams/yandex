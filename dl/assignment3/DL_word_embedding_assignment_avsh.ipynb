{
 "cells": [
  {
   "cell_type": "markdown",
   "metadata": {},
   "source": [
    "# Word Embedding - Home Assigment\n",
    "## Dr. Omri Allouche 2018. YData Deep Learning Course\n",
    "\n",
    "[Open in Google Colab](https://colab.research.google.com/github/omriallouche/deep_learning_course/blob/master/DL_word_embedding_assignment.ipynb)\n",
    "    \n",
    "    \n",
    "In this exercise, you'll use word vectors trained on a corpus of 380,000 lyrics of songs from MetroLyrics (https://www.kaggle.com/gyani95/380000-lyrics-from-metrolyrics).  \n",
    "The dataset contains these fields for each song, in CSV format:\n",
    "1. index\n",
    "1. song\n",
    "1. year\n",
    "1. artist\n",
    "1. genre\n",
    "1. lyrics\n",
    "\n",
    "Before doing this exercise, we recommend that you go over the \"Bag of words meets bag of popcorn\" tutorial (https://www.kaggle.com/c/word2vec-nlp-tutorial)\n",
    "\n",
    "Other recommended resources:\n",
    "- https://rare-technologies.com/word2vec-tutorial/\n",
    "- https://www.kaggle.com/pierremegret/gensim-word2vec-tutorial"
   ]
  },
  {
   "cell_type": "markdown",
   "metadata": {},
   "source": [
    "### Train word vectors\n",
    "Train word vectors using the Skipgram Word2vec algorithm and the gensim package.\n",
    "Make sure you perform the following:\n",
    "- Tokenize words\n",
    "- Lowercase all words\n",
    "- Remove punctuation marks\n",
    "- Remove rare words\n",
    "- Remove stopwords\n",
    "\n",
    "Use 300 as the dimension of the word vectors. Try different context sizes."
   ]
  },
  {
   "cell_type": "code",
   "execution_count": 1,
   "metadata": {},
   "outputs": [],
   "source": [
    "import pandas as pd\n",
    "import nltk\n",
    "from nltk.stem.porter import PorterStemmer\n",
    "from nltk.corpus import stopwords\n",
    "stop_words = set(stopwords.words('english'))\n",
    "import string\n",
    "from nltk.tokenize import RegexpTokenizer\n",
    "tokenizer = RegexpTokenizer(\"[\\w']+\")\n",
    "from gensim.models import Word2Vec\n",
    "from gensim.test.utils import get_tmpfile\n",
    "from sklearn.model_selection import train_test_split\n",
    "from sklearn.ensemble import GradientBoostingRegressor\n",
    "from sklearn.metrics import mean_squared_error\n",
    "import numpy as np\n",
    "from sklearn.naive_bayes import MultinomialNB\n",
    "from sklearn.metrics import confusion_matrix\n",
    "import matplotlib.pyplot as plt\n",
    "import seaborn as sns\n",
    "import matplotlib.pyplot as plt"
   ]
  },
  {
   "cell_type": "code",
   "execution_count": 3,
   "metadata": {},
   "outputs": [],
   "source": [
    "df = pd.read_csv('lyrics.csv')"
   ]
  },
  {
   "cell_type": "code",
   "execution_count": 4,
   "metadata": {},
   "outputs": [],
   "source": [
    "df['tokenized'] = df.apply(lambda row: tokenizer.tokenize(str(row['lyrics'])), axis=1)\n",
    "# df['lyrics']"
   ]
  },
  {
   "cell_type": "code",
   "execution_count": 5,
   "metadata": {},
   "outputs": [],
   "source": [
    "df[\"tokenized_l\"] = df[\"tokenized\"].apply(lambda v: list(map(lambda x: x.lower(), v)))"
   ]
  },
  {
   "cell_type": "code",
   "execution_count": 6,
   "metadata": {},
   "outputs": [],
   "source": [
    "import string\n",
    "table = str.maketrans({key: None for key in string.punctuation})\n",
    "def remove_punctuation(x):\n",
    "    return x.translate(table)\n",
    "df['tokenized_lp'] = df['tokenized_l'].apply(lambda v: list(map(remove_punctuation, v)))"
   ]
  },
  {
   "cell_type": "code",
   "execution_count": 7,
   "metadata": {},
   "outputs": [],
   "source": [
    "stop_words = set(map(remove_punctuation, stop_words))\n",
    "stop_words.add('im')\n",
    "\n",
    "def remove_stopwords(words):\n",
    "    return [w for w in words if not w in stop_words] \n",
    "        \n",
    "df['no_stopwords'] = df['tokenized_lp'].apply(lambda v: remove_stopwords(v))"
   ]
  },
  {
   "cell_type": "code",
   "execution_count": 8,
   "metadata": {},
   "outputs": [],
   "source": [
    "def switch_numeric(words):\n",
    "    return [w if not w.isnumeric() else 'NUMBER' for w in words]\n",
    "\n",
    "df['no_stopwords_no_numbers'] = df['no_stopwords'].apply(lambda v: switch_numeric(v))"
   ]
  },
  {
   "cell_type": "code",
   "execution_count": 9,
   "metadata": {},
   "outputs": [],
   "source": [
    "freqs = df['no_stopwords_no_numbers'].explode().value_counts(normalize=True).to_frame('freq')"
   ]
  },
  {
   "cell_type": "code",
   "execution_count": 10,
   "metadata": {},
   "outputs": [],
   "source": [
    "# freqs.iloc[:20]\n",
    "# \n",
    "# df['no_stopwords_final'] = df['no_stopwords_no_numbers'].apply(lambda v: remove_stopwords(v))\n",
    "# freqs = df['no_stopwords_final'].explode().value_counts(normalize=True).to_frame('freq')"
   ]
  },
  {
   "cell_type": "code",
   "execution_count": 11,
   "metadata": {},
   "outputs": [],
   "source": [
    "\n",
    "frequent_words = set(freqs[freqs['freq'] > freqs['freq'].quantile(q=0.95)].index)\n",
    "(frequent_words.remove(''))"
   ]
  },
  {
   "cell_type": "code",
   "execution_count": null,
   "metadata": {},
   "outputs": [],
   "source": [
    "EMBEDDING_SIZE = 100"
   ]
  },
  {
   "cell_type": "code",
   "execution_count": 12,
   "metadata": {},
   "outputs": [],
   "source": [
    "# frequent_words = set(freqs[freqs['freq'] > freqs['freq'].quantile(q=0.96)].index)\n",
    "def remove_non_frequent(words):\n",
    "    return [w for w in words if w in frequent_words] \n",
    "\n",
    "df['final_words'] = df['no_stopwords_no_numbers'].apply(lambda v: remove_non_frequent(v))\n",
    "\n",
    "# model = Word2Vec(df['final_words'], size=EMBEDDING_SIZE, window=3, min_count=1, workers=8)\n",
    "# model.save(\"word2vec.model\")\n"
   ]
  },
  {
   "cell_type": "code",
   "execution_count": 2,
   "metadata": {},
   "outputs": [],
   "source": [
    "# df = df.sample(frac=1).reset_index(drop=True)\n",
    "\n",
    "# df.to_pickle(\"df.pkl\")\n",
    "\n",
    "df = pd.read_pickle(\"df.pkl\")\n",
    "\n",
    "model = Word2Vec.load(\"word2vec.model\")\n"
   ]
  },
  {
   "cell_type": "markdown",
   "metadata": {},
   "source": [
    "### Review most similar words\n",
    "Get initial evaluation of the word vectors by analyzing the most similar words for a few interesting words in the text. \n",
    "\n",
    "Choose words yourself, and find the most similar words to them."
   ]
  },
  {
   "cell_type": "code",
   "execution_count": 176,
   "metadata": {},
   "outputs": [
    {
     "data": {
      "text/plain": [
       "[('friends', 0.7329444289207458),\n",
       " ('lover', 0.7007007002830505),\n",
       " ('mine', 0.6148495078086853),\n",
       " ('best', 0.5769045352935791),\n",
       " ('girlfriend', 0.5347352027893066),\n",
       " ('companion', 0.5265414118766785),\n",
       " ('depend', 0.5223906636238098),\n",
       " ('brother', 0.521097719669342),\n",
       " ('pretend', 0.5187185406684875),\n",
       " ('always', 0.5175248384475708)]"
      ]
     },
     "execution_count": 176,
     "metadata": {},
     "output_type": "execute_result"
    }
   ],
   "source": [
    "model.wv.similar_by_word('friend')"
   ]
  },
  {
   "cell_type": "code",
   "execution_count": 85,
   "metadata": {},
   "outputs": [
    {
     "data": {
      "text/plain": [
       "[('flying', 0.6655927896499634),\n",
       " ('flyin', 0.6134728789329529),\n",
       " ('float', 0.6007909774780273),\n",
       " ('flown', 0.5840531587600708),\n",
       " ('eagles', 0.5678684711456299),\n",
       " ('high', 0.567510187625885),\n",
       " ('soar', 0.5672122836112976),\n",
       " ('wings', 0.5620856285095215),\n",
       " ('ride', 0.5557847023010254),\n",
       " ('bird', 0.5420757532119751)]"
      ]
     },
     "execution_count": 85,
     "metadata": {},
     "output_type": "execute_result"
    }
   ],
   "source": [
    "model.wv.similar_by_word('fly')"
   ]
  },
  {
   "cell_type": "code",
   "execution_count": 86,
   "metadata": {},
   "outputs": [
    {
     "data": {
      "text/plain": [
       "[('1st', 0.6522047519683838),\n",
       " ('2nd', 0.6292223930358887),\n",
       " ('sadat', 0.6061900854110718),\n",
       " ('fabolous', 0.5914676785469055),\n",
       " ('verse', 0.5718549489974976),\n",
       " ('3rd', 0.5595517158508301),\n",
       " ('three', 0.5545392036437988),\n",
       " ('ferg', 0.5376378297805786),\n",
       " ('six', 0.5316325426101685),\n",
       " ('x', 0.529700517654419)]"
      ]
     },
     "execution_count": 86,
     "metadata": {},
     "output_type": "execute_result"
    }
   ],
   "source": [
    "model.wv.similar_by_word('NUMBER')"
   ]
  },
  {
   "cell_type": "code",
   "execution_count": 87,
   "metadata": {},
   "outputs": [
    {
     "data": {
      "text/plain": [
       "[('hard', 0.6606412529945374),\n",
       " ('easier', 0.5876562595367432),\n",
       " ('way', 0.5702636241912842),\n",
       " ('supposed', 0.5447270274162292),\n",
       " ('try', 0.5387265086174011),\n",
       " ('cause', 0.5205551385879517),\n",
       " ('believe', 0.50733482837677),\n",
       " ('sometimes', 0.49786123633384705),\n",
       " ('sure', 0.4902315139770508),\n",
       " ('life', 0.4879237413406372)]"
      ]
     },
     "execution_count": 87,
     "metadata": {},
     "output_type": "execute_result"
    }
   ],
   "source": [
    "model.wv.similar_by_word('easy')"
   ]
  },
  {
   "cell_type": "markdown",
   "metadata": {},
   "source": [
    "### Word Vectors Algebra\n",
    "We've seen in class examples of algebraic games on the word vectors (e.g. man - woman + king = queen ). \n",
    "\n",
    "Try a few vector algebra terms, and evaluate how well they work. Try to use the Cosine distance and compare it to the Euclidean distance."
   ]
  },
  {
   "cell_type": "code",
   "execution_count": 88,
   "metadata": {},
   "outputs": [
    {
     "name": "stdout",
     "output_type": "stream",
     "text": [
      "[('nurse', 0.743979811668396), ('woman', 0.5961484313011169), ('doctor', 0.4894254207611084), ('husband', 0.4654938876628876)]\n",
      "[('shoes', 0.7174487709999084), ('socks', 0.5123054385185242), ('clothes', 0.5078741908073425), ('heels', 0.5052093863487244), ('boots', 0.4752254784107208), ('shirt', 0.47169578075408936)]\n"
     ]
    }
   ],
   "source": [
    "import numpy as np\n",
    "\n",
    "# doctor for man is similar to nurse for woman (racial bias as well)\n",
    "print(model.wv.similar_by_vector(model.wv['woman'] + model.wv['nurse'] - model.wv['man'], 4))\n",
    "# running + shoes = walking + boots\n",
    "print(model.wv.similar_by_vector(model.wv['running'] + model.wv['shoes'] - model.wv['walking'] , 6))"
   ]
  },
  {
   "cell_type": "code",
   "execution_count": 89,
   "metadata": {},
   "outputs": [
    {
     "name": "stdout",
     "output_type": "stream",
     "text": [
      "cosine distance between man and doctor 0.7146157026290894\n",
      "cosine distance between woman and nurse 0.7047650218009949\n",
      "euclidean distance between man and doctor 11.51116\n",
      "cosine distance between woman and nurse 10.800777\n"
     ]
    }
   ],
   "source": [
    "\n",
    "print('cosine distance between man and doctor', model.wv.distance('man', 'doctor'))\n",
    "print('cosine distance between woman and nurse', model.wv.distance('woman', 'nurse'))\n",
    "\n",
    "print('euclidean distance between man and doctor', np.linalg.norm(model.wv['man'] - model.wv['doctor']))\n",
    "print('cosine distance between woman and nurse', np.linalg.norm(model.wv['woman'] - model.wv['nurse']))"
   ]
  },
  {
   "cell_type": "markdown",
   "metadata": {},
   "source": [
    "## Sentiment Analysis\n",
    "Estimate sentiment of words using word vectors.  \n",
    "In this section, we'll use the SemEval-2015 English Twitter Sentiment Lexicon.  \n",
    "The lexicon was used as an official test set in the SemEval-2015 shared Task #10: Subtask E, and contains a polarity score for words in range -1 (negative) to 1 (positive) - http://saifmohammad.com/WebPages/SCL.html#OPP"
   ]
  },
  {
   "cell_type": "markdown",
   "metadata": {},
   "source": [
    "Build a classifier for the sentiment of a word given its word vector. Split the data to a train and test sets, and report the model performance on both sets."
   ]
  },
  {
   "cell_type": "code",
   "execution_count": 90,
   "metadata": {},
   "outputs": [],
   "source": [
    "# tweets = pd.read_csv('SCL-OPP/SCL-OPP.txt',names=['tweet', 'polarity', 'structure', 'idx'], sep='\\t')\n",
    "lex = pd.read_csv('SemEval2015-English-Twitter-Lexicon/SemEval2015-English-Twitter-Lexicon.txt',names=['polarity', 'word'], sep='\\t')\n",
    "lex['wv'] = lex['word'].apply(lambda w: model.wv[w] if w in frequent_words else None)\n"
   ]
  },
  {
   "cell_type": "code",
   "execution_count": 91,
   "metadata": {},
   "outputs": [
    {
     "data": {
      "text/plain": [
       "732"
      ]
     },
     "execution_count": 91,
     "metadata": {},
     "output_type": "execute_result"
    }
   ],
   "source": [
    "lex = lex.dropna()\n",
    "len(lex)"
   ]
  },
  {
   "cell_type": "code",
   "execution_count": 92,
   "metadata": {},
   "outputs": [],
   "source": [
    "X = np.matrix(lex['wv'].tolist())\n",
    "Y = lex['polarity'].values.tolist()"
   ]
  },
  {
   "cell_type": "code",
   "execution_count": 151,
   "metadata": {},
   "outputs": [
    {
     "name": "stdout",
     "output_type": "stream",
     "text": [
      "Test MSE: 0.1549\n",
      "Train MSE: 0.0037\n"
     ]
    }
   ],
   "source": [
    "X_train, X_test, y_train, y_test = train_test_split(X, Y, random_state=1)\n",
    "\n",
    "params = {'n_estimators': 100, 'max_depth': 4, 'min_samples_split': 2,\n",
    "          'learning_rate': 0.1, 'loss': 'ls'}\n",
    "clf = GradientBoostingRegressor(**params)\n",
    "clf.fit(X_train, y_train)\n",
    "test_mse = mean_squared_error(y_test, clf.predict(X_test))\n",
    "train_mse = mean_squared_error(y_train, clf.predict(X_train))\n",
    "print(\"Test MSE: %.4f\" % test_mse)\n",
    "print(\"Train MSE: %.4f\" % train_mse)"
   ]
  },
  {
   "cell_type": "markdown",
   "metadata": {},
   "source": [
    "Use your trained model from the previous question to predict the sentiment score of words in the lyrics corpus that are not part of the original sentiment dataset. Review the words with the highest positive and negative sentiment. Do the results make sense?"
   ]
  },
  {
   "cell_type": "code",
   "execution_count": 94,
   "metadata": {},
   "outputs": [
    {
     "name": "stdout",
     "output_type": "stream",
     "text": [
      "happiness [0.73444778]\n",
      "gagged [-0.66667076]\n",
      "confinement [-0.67894231]\n",
      "numbing [-0.73316332]\n",
      "devours [-0.68946253]\n",
      "desperation [-0.77583066]\n",
      "gab [0.67475794]\n",
      "agony [-0.73271985]\n",
      "cunt [-0.81273179]\n",
      "deformed [-0.75342089]\n",
      "shamed [-0.66552577]\n",
      "unleash [-0.65840492]\n",
      "venomous [-0.69302]\n",
      "afflicted [-0.73947583]\n",
      "brighten [0.74242467]\n",
      "plagues [-0.792272]\n",
      "sickened [-0.91199348]\n",
      "shining [0.67203835]\n",
      "thankful [0.7103242]\n",
      "grateful [0.75901348]\n",
      "scorn [-0.6613]\n",
      "strangled [-0.84310085]\n",
      "emptiness [-0.67969495]\n",
      "exotic [0.6777969]\n",
      "engulfed [-0.86188542]\n",
      "futile [-0.74814973]\n",
      "peculiar [0.68627003]\n",
      "hmmm [0.68955931]\n",
      "positively [0.69215393]\n",
      "distorted [-0.67851141]\n",
      "seduced [-0.67944799]\n",
      "bestial [-0.66465051]\n",
      "destroys [-0.75591287]\n",
      "seeps [-0.6747868]\n",
      "dearest [0.65690037]\n",
      "desecrate [-0.78824691]\n",
      "breeds [-0.7449691]\n",
      "wondrous [0.67889126]\n",
      "labyrinth [-0.76104677]\n",
      "affliction [-0.80002152]\n",
      "incest [-0.69672239]\n",
      "tortured [-0.67285152]\n",
      "mindless [-0.6930827]\n",
      "lifeless [-0.89948278]\n",
      "faceless [-0.7792884]\n",
      "primal [-0.71808459]\n",
      "bitterness [-0.7559683]\n",
      "paralysed [-0.68255001]\n",
      "shinning [0.68855735]\n",
      "plagued [-0.83770524]\n",
      "writhing [-0.93106882]\n",
      "wretched [-0.67611092]\n",
      "anger [-0.75350915]\n",
      "subside [-0.67505274]\n",
      "feeds [-0.71904357]\n",
      "seething [-0.76139065]\n",
      "sleighing [0.65175172]\n",
      "crippled [-0.86543592]\n",
      "choking [-0.69584338]\n",
      "feeble [-0.8248682]\n",
      "unleashed [-0.69862755]\n",
      "throes [-0.67081568]\n",
      "shined [0.68050903]\n",
      "splendid [0.74915667]\n",
      "senseless [-0.88893999]\n",
      "weakened [-0.68051405]\n",
      "consumed [-0.94452953]\n",
      "muted [-0.80309243]\n",
      "aligned [0.69548628]\n",
      "slaughtered [-0.83789548]\n",
      "haunted [-0.65783288]\n",
      "rare [0.77064967]\n",
      "killer [-0.6611204]\n",
      "irreplaceable [0.70952585]\n",
      "corrupt [-0.67165121]\n",
      "ridden [-0.7378073]\n",
      "deprived [-0.71738789]\n",
      "present [0.68791952]\n",
      "intestines [-0.66545154]\n",
      "immense [-0.6938363]\n",
      "overwhelming [-0.65569578]\n",
      "disillusioned [-0.86912526]\n",
      "gift [0.78574989]\n",
      "raped [-0.81123455]\n",
      "gore [-0.69973014]\n",
      "stench [-0.88261484]\n",
      "rabid [-0.87374908]\n",
      "mere [0.69236569]\n",
      "hellish [-0.7364331]\n",
      "dormant [-0.82810855]\n",
      "inflict [-0.67397058]\n",
      "infest [-0.85191307]\n",
      "morbid [-0.91610975]\n",
      "exceptional [0.65964439]\n",
      "subsides [-0.79423582]\n",
      "nothingness [-0.65261106]\n",
      "spain [0.65581782]\n",
      "defenseless [-0.67566899]\n",
      "anguish [-0.79330284]\n",
      "deceit [-0.87011384]\n",
      "pleasures [0.75005896]\n",
      "decapitated [-0.82751333]\n",
      "decayed [-0.75326929]\n",
      "diseased [-0.6566253]\n",
      "painful [-0.68702372]\n",
      "tender [0.69069032]\n",
      "victoria [0.66236802]\n",
      "unheard [-0.65817223]\n",
      "twitching [-0.68106442]\n",
      "accord [0.67701029]\n",
      "indecision [-0.71420081]\n",
      "fuels [-0.66313507]\n",
      "escapes [-0.83177568]\n",
      "stricken [-0.76800199]\n",
      "vortex [-0.65550466]\n",
      "destroyed [-0.70109856]\n",
      "hunted [-0.66801683]\n",
      "disfigured [-0.68985772]\n",
      "shivering [-0.77047001]\n",
      "torment [-0.78232959]\n",
      "terminal [-0.68675129]\n",
      "sweeter [0.71210976]\n",
      "illness [-0.69266369]\n",
      "plague [-0.68207422]\n",
      "writhe [-0.80352298]\n",
      "lustful [-0.79143308]\n",
      "unconscious [-0.72486254]\n",
      "degenerate [-0.67530565]\n",
      "jamaica [0.66355343]\n",
      "internal [-0.79850333]\n",
      "devastation [-0.66131089]\n",
      "tormented [-0.76081805]\n"
     ]
    }
   ],
   "source": [
    "words_with_sentiments = set(lex['word'].values)\n",
    "i = 0\n",
    "for word in frequent_words:\n",
    "    i += 1\n",
    "#     set(lex['word'].values)\n",
    "    if word not in words_with_sentiments:\n",
    "#         print(model.wv[word].reshape(-1,1))\n",
    "        pred = clf.predict(model.wv[word].reshape(1,-1))\n",
    "        if np.abs(pred) > 0.65:\n",
    "            print(word, pred)"
   ]
  },
  {
   "cell_type": "markdown",
   "metadata": {},
   "source": [
    "### Visualize Word Vectors\n",
    "In this section, you'll plot words on a 2D grid based on their inner similarity. We'll use the tSNE transformation to reduce dimensions from 300 to 2. You can get sample code from https://www.kaggle.com/pierremegret/gensim-word2vec-tutorial or other tutorials online.\n",
    "\n",
    "Perform the following:\n",
    "- Keep only the 3,000 most frequent words (after removing stopwords)\n",
    "- For this list, compute for each word its relative abundance in each of the genres\n",
    "- Compute the ratio between the proportion of each word in each genre and the proportion of the word in the entire corpus (the background distribution)\n",
    "- Pick the top 50 words for each genre. These words give good indication for that genre. Join the words from all genres into a single list of top significant words. \n",
    "- Compute tSNE transformation to 2D for all words, based on their word vectors\n",
    "- Plot the list of the top significant words in 2D. Next to each word output its text. The color of each point should indicate the genre for which it is most significant.\n",
    "\n",
    "You might prefer to use a different number of points or a slightly different methodology for improved results.  \n",
    "Analyze the results."
   ]
  },
  {
   "cell_type": "code",
   "execution_count": null,
   "metadata": {},
   "outputs": [],
   "source": []
  },
  {
   "cell_type": "markdown",
   "metadata": {},
   "source": [
    "## Text Classification\n",
    "In this section, you'll build a text classifier, determining the genre of a song based on its lyrics."
   ]
  },
  {
   "cell_type": "markdown",
   "metadata": {},
   "source": [
    "### Text classification using Bag-of-Words\n",
    "Build a Naive Bayes classifier based on the bag of Words.  \n",
    "You will need to divide your dataset into a train and test sets."
   ]
  },
  {
   "cell_type": "code",
   "execution_count": 52,
   "metadata": {
    "scrolled": true
   },
   "outputs": [],
   "source": [
    "X1 = np.zeros((len(df), len(frequent_words)))\n",
    "Y1 = df['genre'].values\n",
    "indices = {k:v for v,k in enumerate(frequent_words)}\n",
    "\n",
    "for i, doc in enumerate(df['final_words']):\n",
    "    for word in doc:\n",
    "        if word in frequent_words:\n",
    "            X1[i, indices[word]] += 1"
   ]
  },
  {
   "cell_type": "code",
   "execution_count": 53,
   "metadata": {},
   "outputs": [],
   "source": [
    "# X_train, X_test, y_train, y_test = train_test_split(X1, Y1, random_state=1)\n",
    "X1_train = X1[:300000]\n",
    "Y1_train = Y1[:300000]\n",
    "X1_test = X1[300000:]\n",
    "Y1_test = Y1[300000:]\n",
    "\n",
    "clf = MultinomialNB()\n",
    "clf.fit(X1_train, Y1_train)\n",
    "Y1_pred = clf.predict(X1_test)"
   ]
  },
  {
   "cell_type": "markdown",
   "metadata": {},
   "source": [
    "Show the confusion matrix."
   ]
  },
  {
   "cell_type": "code",
   "execution_count": 54,
   "metadata": {},
   "outputs": [
    {
     "data": {
      "image/png": "[encoded data removed]",
      "text/plain": [
       "<Figure size 1944x1944 with 2 Axes>"
      ]
     },
     "metadata": {
      "needs_background": "light"
     },
     "output_type": "display_data"
    }
   ],
   "source": [
    "\n",
    "\n",
    "plt.figure(figsize=(27, 27))\n",
    "cm = confusion_matrix(Y1_pred, Y1_test)\n",
    "\n",
    "cm = cm / cm.astype(np.float).sum(axis=1, keepdims=True) \n",
    "\n",
    "ax = plt.subplot()\n",
    "sns.heatmap(cm, annot=True, ax = ax)\n",
    "ax.set_xlabel('Predicted labels')\n",
    "ax.set_ylabel('True labels')\n",
    "ax.set_xticklabels(clf.classes_)\n",
    "ax.set_yticklabels(clf.classes_)\n",
    "\n",
    "plt.show()"
   ]
  },
  {
   "cell_type": "markdown",
   "metadata": {},
   "source": [
    "Show the classification report - precision, recall, f1 for each class."
   ]
  },
  {
   "cell_type": "code",
   "execution_count": 55,
   "metadata": {},
   "outputs": [
    {
     "name": "stdout",
     "output_type": "stream",
     "text": [
      "               precision    recall  f1-score   support\n",
      "\n",
      "      Country       0.21      0.62      0.31      2954\n",
      "   Electronic       0.15      0.08      0.10      2784\n",
      "         Folk       0.14      0.15      0.14       549\n",
      "      Hip-Hop       0.66      0.51      0.58      5884\n",
      "        Indie       0.06      0.05      0.05       938\n",
      "         Jazz       0.27      0.14      0.18      2915\n",
      "        Metal       0.43      0.58      0.49      4810\n",
      "Not Available       0.29      0.12      0.17      5111\n",
      "        Other       0.18      0.82      0.30      4051\n",
      "          Pop       0.49      0.05      0.09      8487\n",
      "          R&B       0.04      0.19      0.07      1003\n",
      "         Rock       0.61      0.34      0.43     22751\n",
      "\n",
      "     accuracy                           0.33     62237\n",
      "    macro avg       0.29      0.30      0.24     62237\n",
      " weighted avg       0.45      0.33      0.33     62237\n",
      "\n"
     ]
    }
   ],
   "source": [
    "#Seems like many different genres get classified as Rock\n",
    "#Rock Pop Metal and Hip-Hop are the only genres that have relatively good performance\n",
    "from sklearn.metrics import classification_report\n",
    "\n",
    "print(classification_report(Y1_test, Y1_pred, target_names=clf.classes_))"
   ]
  },
  {
   "cell_type": "markdown",
   "metadata": {},
   "source": [
    "### Text classification using Word Vectors\n",
    "#### Average word vectors\n",
    "Do the same, using a classifier that averages the word vectors of words in the document."
   ]
  },
  {
   "cell_type": "code",
   "execution_count": 56,
   "metadata": {},
   "outputs": [
    {
     "name": "stderr",
     "output_type": "stream",
     "text": [
      "/Users/avshalommanevich/opt/anaconda3/envs/py4dp/lib/python3.6/site-packages/numpy/core/fromnumeric.py:3257: RuntimeWarning: Mean of empty slice.\n",
      "  out : ndarray, optional\n",
      "/Users/avshalommanevich/opt/anaconda3/envs/py4dp/lib/python3.6/site-packages/numpy/core/_methods.py:154: RuntimeWarning: invalid value encountered in true_divide\n",
      "  ret, rcount, out=ret, casting='unsafe', subok=False)\n"
     ]
    }
   ],
   "source": [
    "\n",
    "X1v = np.zeros((len(df), EMBEDDING_SIZE))\n",
    "Y1v = df['genre'].values\n",
    "\n",
    "for i, doc in enumerate(df['final_words']):\n",
    "    vects = np.zeros((len(doc), EMBEDDING_SIZE))\n",
    "#     pr = len(doc) == 2\n",
    "    for j, word in enumerate(doc):\n",
    "        vects[j] = model.wv[word]\n",
    "    X1v[i] = np.mean(vects, axis=0)\n"
   ]
  },
  {
   "cell_type": "code",
   "execution_count": 57,
   "metadata": {},
   "outputs": [
    {
     "name": "stderr",
     "output_type": "stream",
     "text": [
      "/Users/avshalommanevich/opt/anaconda3/envs/py4dp/lib/python3.6/site-packages/sklearn/linear_model/_logistic.py:940: ConvergenceWarning: lbfgs failed to converge (status=1):\n",
      "STOP: TOTAL NO. of ITERATIONS REACHED LIMIT.\n",
      "\n",
      "Increase the number of iterations (max_iter) or scale the data as shown in:\n",
      "    https://scikit-learn.org/stable/modules/preprocessing.html\n",
      "Please also refer to the documentation for alternative solver options:\n",
      "    https://scikit-learn.org/stable/modules/linear_model.html#logistic-regression\n",
      "  extra_warning_msg=_LOGISTIC_SOLVER_CONVERGENCE_MSG)\n",
      "/Users/avshalommanevich/opt/anaconda3/envs/py4dp/lib/python3.6/site-packages/sklearn/linear_model/_logistic.py:940: ConvergenceWarning: lbfgs failed to converge (status=1):\n",
      "STOP: TOTAL NO. of ITERATIONS REACHED LIMIT.\n",
      "\n",
      "Increase the number of iterations (max_iter) or scale the data as shown in:\n",
      "    https://scikit-learn.org/stable/modules/preprocessing.html\n",
      "Please also refer to the documentation for alternative solver options:\n",
      "    https://scikit-learn.org/stable/modules/linear_model.html#logistic-regression\n",
      "  extra_warning_msg=_LOGISTIC_SOLVER_CONVERGENCE_MSG)\n",
      "/Users/avshalommanevich/opt/anaconda3/envs/py4dp/lib/python3.6/site-packages/sklearn/linear_model/_logistic.py:940: ConvergenceWarning: lbfgs failed to converge (status=1):\n",
      "STOP: TOTAL NO. of ITERATIONS REACHED LIMIT.\n",
      "\n",
      "Increase the number of iterations (max_iter) or scale the data as shown in:\n",
      "    https://scikit-learn.org/stable/modules/preprocessing.html\n",
      "Please also refer to the documentation for alternative solver options:\n",
      "    https://scikit-learn.org/stable/modules/linear_model.html#logistic-regression\n",
      "  extra_warning_msg=_LOGISTIC_SOLVER_CONVERGENCE_MSG)\n",
      "/Users/avshalommanevich/opt/anaconda3/envs/py4dp/lib/python3.6/site-packages/sklearn/linear_model/_logistic.py:940: ConvergenceWarning: lbfgs failed to converge (status=1):\n",
      "STOP: TOTAL NO. of ITERATIONS REACHED LIMIT.\n",
      "\n",
      "Increase the number of iterations (max_iter) or scale the data as shown in:\n",
      "    https://scikit-learn.org/stable/modules/preprocessing.html\n",
      "Please also refer to the documentation for alternative solver options:\n",
      "    https://scikit-learn.org/stable/modules/linear_model.html#logistic-regression\n",
      "  extra_warning_msg=_LOGISTIC_SOLVER_CONVERGENCE_MSG)\n",
      "/Users/avshalommanevich/opt/anaconda3/envs/py4dp/lib/python3.6/site-packages/sklearn/linear_model/_logistic.py:940: ConvergenceWarning: lbfgs failed to converge (status=1):\n",
      "STOP: TOTAL NO. of ITERATIONS REACHED LIMIT.\n",
      "\n",
      "Increase the number of iterations (max_iter) or scale the data as shown in:\n",
      "    https://scikit-learn.org/stable/modules/preprocessing.html\n",
      "Please also refer to the documentation for alternative solver options:\n",
      "    https://scikit-learn.org/stable/modules/linear_model.html#logistic-regression\n",
      "  extra_warning_msg=_LOGISTIC_SOLVER_CONVERGENCE_MSG)\n",
      "/Users/avshalommanevich/opt/anaconda3/envs/py4dp/lib/python3.6/site-packages/sklearn/linear_model/_logistic.py:940: ConvergenceWarning: lbfgs failed to converge (status=1):\n",
      "STOP: TOTAL NO. of ITERATIONS REACHED LIMIT.\n",
      "\n",
      "Increase the number of iterations (max_iter) or scale the data as shown in:\n",
      "    https://scikit-learn.org/stable/modules/preprocessing.html\n",
      "Please also refer to the documentation for alternative solver options:\n",
      "    https://scikit-learn.org/stable/modules/linear_model.html#logistic-regression\n",
      "  extra_warning_msg=_LOGISTIC_SOLVER_CONVERGENCE_MSG)\n"
     ]
    }
   ],
   "source": [
    "np.nan_to_num(X1v, copy=False)\n",
    "from sklearn.preprocessing import MinMaxScaler\n",
    "from sklearn.linear_model import LogisticRegressionCV\n",
    "\n",
    "scaler = MinMaxScaler(copy=False)\n",
    "scaler.fit_transform(X1v)\n",
    "\n",
    "X1v_train = X1v[:300000]\n",
    "Y1v_train = Y1v[:300000]\n",
    "X1v_test = X1v[300000:]\n",
    "Y1v_test = Y1v[300000:]\n",
    "clf2 = LogisticRegressionCV(cv=5, random_state=0, max_iter=333)\n",
    "# clf2 = MultinomialNB()\n",
    "clf2.fit(X1v_train, Y1v_train)\n",
    "Y1v_pred = clf2.predict(X1v_test)"
   ]
  },
  {
   "cell_type": "code",
   "execution_count": 58,
   "metadata": {},
   "outputs": [
    {
     "name": "stderr",
     "output_type": "stream",
     "text": [
      "/Users/avshalommanevich/opt/anaconda3/envs/py4dp/lib/python3.6/site-packages/ipykernel_launcher.py:4: RuntimeWarning: invalid value encountered in true_divide\n",
      "  after removing the cwd from sys.path.\n"
     ]
    },
    {
     "data": {
      "image/png": "[encoded data removed]",
      "text/plain": [
       "<Figure size 1944x1944 with 2 Axes>"
      ]
     },
     "metadata": {
      "needs_background": "light"
     },
     "output_type": "display_data"
    }
   ],
   "source": [
    "plt.figure(figsize=(27, 27))\n",
    "cm = confusion_matrix(Y1v_pred, Y1v_test)\n",
    "\n",
    "cm = cm / cm.astype(np.float).sum(axis=1, keepdims=True) \n",
    "\n",
    "ax = plt.subplot()\n",
    "sns.heatmap(cm, annot=True, ax = ax)\n",
    "ax.set_xlabel('Predicted labels')\n",
    "ax.set_ylabel('True labels')\n",
    "ax.set_xticklabels(clf2.classes_)\n",
    "ax.set_yticklabels(clf2.classes_)\n",
    "\n",
    "plt.show()"
   ]
  },
  {
   "cell_type": "code",
   "execution_count": 59,
   "metadata": {},
   "outputs": [
    {
     "name": "stderr",
     "output_type": "stream",
     "text": [
      "/Users/avshalommanevich/opt/anaconda3/envs/py4dp/lib/python3.6/site-packages/sklearn/metrics/_classification.py:1272: UndefinedMetricWarning: Recall and F-score are ill-defined and being set to 0.0 in labels with no true samples. Use `zero_division` parameter to control this behavior.\n",
      "  _warn_prf(average, modifier, msg_start, len(result))\n"
     ]
    },
    {
     "name": "stdout",
     "output_type": "stream",
     "text": [
      "               precision    recall  f1-score   support\n",
      "\n",
      "      Country       0.08      0.32      0.13       775\n",
      "   Electronic       0.00      0.18      0.00        33\n",
      "         Folk       0.00      0.12      0.00         8\n",
      "      Hip-Hop       0.46      0.71      0.56      3863\n",
      "        Indie       0.00      0.00      0.00         1\n",
      "         Jazz       0.03      0.31      0.05       242\n",
      "        Metal       0.38      0.65      0.48      2812\n",
      "Not Available       0.06      0.33      0.10       951\n",
      "        Other       0.00      0.20      0.00         5\n",
      "          Pop       0.14      0.35      0.20      3440\n",
      "          R&B       0.00      0.00      0.00         0\n",
      "         Rock       0.90      0.41      0.56     50107\n",
      "\n",
      "     accuracy                           0.43     62237\n",
      "    macro avg       0.17      0.30      0.17     62237\n",
      " weighted avg       0.78      0.43      0.52     62237\n",
      "\n"
     ]
    }
   ],
   "source": [
    "print(classification_report(Y1v_pred, Y1v_test, target_names=clf2.classes_))"
   ]
  },
  {
   "cell_type": "markdown",
   "metadata": {},
   "source": [
    "#### TfIdf Weighting\n",
    "Do the same, using a classifier that averages the word vectors of words in the document, weighting each word by its TfIdf.\n"
   ]
  },
  {
   "cell_type": "code",
   "execution_count": 3,
   "metadata": {},
   "outputs": [],
   "source": [
    "from sklearn.feature_extraction.text import TfidfVectorizer\n",
    "\n",
    "vectorizer = TfidfVectorizer()\n",
    "\n",
    "transformed = vectorizer.fit_transform(df['final_words'].apply(lambda l: ' '.join(l)))\n"
   ]
  },
  {
   "cell_type": "code",
   "execution_count": 4,
   "metadata": {},
   "outputs": [
    {
     "name": "stdout",
     "output_type": "stream",
     "text": [
      "        100s  10s  12th  13th  15s  16s  1st   1x  20s  20th  ...   ð¾  ð¾ð  \\\n",
      "0        0.0  0.0   0.0   0.0  0.0  0.0  0.0  0.0  0.0   0.0  ...  0.0  0.0   \n",
      "1        0.0  0.0   0.0   0.0  0.0  0.0  0.0  0.0  0.0   0.0  ...  0.0  0.0   \n",
      "2        0.0  0.0   0.0   0.0  0.0  0.0  0.0  0.0  0.0   0.0  ...  0.0  0.0   \n",
      "3        0.0  0.0   0.0   0.0  0.0  0.0  0.0  0.0  0.0   0.0  ...  0.0  0.0   \n",
      "4        0.0  0.0   0.0   0.0  0.0  0.0  0.0  0.0  0.0   0.0  ...  0.0  0.0   \n",
      "...      ...  ...   ...   ...  ...  ...  ...  ...  ...   ...  ...  ...  ...   \n",
      "362232   0.0  0.0   0.0   0.0  0.0  0.0  0.0  0.0  0.0   0.0  ...  0.0  0.0   \n",
      "362233   0.0  0.0   0.0   0.0  0.0  0.0  0.0  0.0  0.0   0.0  ...  0.0  0.0   \n",
      "362234   0.0  0.0   0.0   0.0  0.0  0.0  0.0  0.0  0.0   0.0  ...  0.0  0.0   \n",
      "362235   0.0  0.0   0.0   0.0  0.0  0.0  0.0  0.0  0.0   0.0  ...  0.0  0.0   \n",
      "362236   0.0  0.0   0.0   0.0  0.0  0.0  0.0  0.0  0.0   0.0  ...  0.0  0.0   \n",
      "\n",
      "        ð¾ñ   øª  øªø  øªù  ø³ù  ø¹ø  ø¹ù  über  \n",
      "0       0.0  0.0  0.0  0.0  0.0  0.0  0.0   0.0  \n",
      "1       0.0  0.0  0.0  0.0  0.0  0.0  0.0   0.0  \n",
      "2       0.0  0.0  0.0  0.0  0.0  0.0  0.0   0.0  \n",
      "3       0.0  0.0  0.0  0.0  0.0  0.0  0.0   0.0  \n",
      "4       0.0  0.0  0.0  0.0  0.0  0.0  0.0   0.0  \n",
      "...     ...  ...  ...  ...  ...  ...  ...   ...  \n",
      "362232  0.0  0.0  0.0  0.0  0.0  0.0  0.0   0.0  \n",
      "362233  0.0  0.0  0.0  0.0  0.0  0.0  0.0   0.0  \n",
      "362234  0.0  0.0  0.0  0.0  0.0  0.0  0.0   0.0  \n",
      "362235  0.0  0.0  0.0  0.0  0.0  0.0  0.0   0.0  \n",
      "362236  0.0  0.0  0.0  0.0  0.0  0.0  0.0   0.0  \n",
      "\n",
      "[362237 rows x 21755 columns]\n"
     ]
    }
   ],
   "source": [
    "df_tfidf = pd.DataFrame(transformed.toarray(), columns = vectorizer.get_feature_names())\n",
    "print(df_tfidf)"
   ]
  },
  {
   "cell_type": "code",
   "execution_count": 149,
   "metadata": {},
   "outputs": [
    {
     "data": {
      "text/plain": [
       "100s    0.0\n",
       "10s     0.0\n",
       "12th    0.0\n",
       "13th    0.0\n",
       "15s     0.0\n",
       "       ... \n",
       "øªù     0.0\n",
       "ø³ù     0.0\n",
       "ø¹ø     0.0\n",
       "ø¹ù     0.0\n",
       "über    0.0\n",
       "Name: 10, Length: 21755, dtype: float64"
      ]
     },
     "execution_count": 149,
     "metadata": {},
     "output_type": "execute_result"
    }
   ],
   "source": [
    "df_tfidf.loc[10]\n"
   ]
  },
  {
   "cell_type": "code",
   "execution_count": null,
   "metadata": {},
   "outputs": [],
   "source": []
  },
  {
   "cell_type": "code",
   "execution_count": null,
   "metadata": {},
   "outputs": [],
   "source": []
  },
  {
   "cell_type": "code",
   "execution_count": null,
   "metadata": {},
   "outputs": [
    {
     "name": "stderr",
     "output_type": "stream",
     "text": [
      "/Users/avshalommanevich/opt/anaconda3/envs/py4dp/lib/python3.6/site-packages/numpy/core/fromnumeric.py:3335: RuntimeWarning: Mean of empty slice.\n",
      "  out=out, **kwargs)\n",
      "/Users/avshalommanevich/opt/anaconda3/envs/py4dp/lib/python3.6/site-packages/numpy/core/_methods.py:154: RuntimeWarning: invalid value encountered in true_divide\n",
      "  ret, rcount, out=ret, casting='unsafe', subok=False)\n"
     ]
    }
   ],
   "source": [
    "X1v_tfidf = np.zeros((len(df), EMBEDDING_SIZE))\n",
    "Y1v_tfidf = df['genre'].values\n",
    "missing = 0\n",
    "for i, doc in enumerate(df['final_words']):\n",
    "    vects = np.zeros((len(doc), EMBEDDING_SIZE))\n",
    "\n",
    "    for j, word in enumerate(doc):\n",
    "        if word.lower() in df_tfidf.loc[i]:\n",
    "            tfidf = df_tfidf.loc[i][word.lower()]\n",
    "        else:\n",
    "            missing += 1\n",
    "            tfidf = 1.0\n",
    "        vects[j] = tfidf * model.wv[word]\n",
    "    X1v_tfidf[i] = np.mean(vects, axis=0)\n"
   ]
  },
  {
   "cell_type": "code",
   "execution_count": null,
   "metadata": {},
   "outputs": [],
   "source": [
    "np.nan_to_num(X1v_tfidf, copy=False)\n",
    "\n",
    "scaler = MinMaxScaler(copy=False)\n",
    "scaler.fit_transform(X1v_tfidf)\n",
    "\n",
    "X1v_tfidf_train = X1v_tfidf[:300000]\n",
    "Y1v_train = Y1v[:300000]\n",
    "X1v_tfidf_test = X1v_tfidf[300000:]\n",
    "Y1v_test = Y1v[300000:]\n",
    "clf3 = LogisticRegressionCV(cv=5, random_state=0, max_iter=333)\n",
    "# clf2 = MultinomialNB()\n",
    "clf3.fit(X1v_tfidf_train, Y1v_train)\n",
    "Y1v_tfidf_pred = clf3.predict(X1v_tfidf_test)"
   ]
  },
  {
   "cell_type": "code",
   "execution_count": null,
   "metadata": {},
   "outputs": [],
   "source": [
    "plt.figure(figsize=(27, 27))\n",
    "cm = confusion_matrix(Y1v_tfidf_pred, Y1v_test)\n",
    "\n",
    "cm = cm / cm.astype(np.float).sum(axis=1, keepdims=True) \n",
    "\n",
    "ax = plt.subplot()\n",
    "sns.heatmap(cm, annot=True, ax = ax)\n",
    "ax.set_xlabel('Predicted labels')\n",
    "ax.set_ylabel('True labels')\n",
    "ax.set_xticklabels(clf3.classes_)\n",
    "ax.set_yticklabels(clf3.classes_)\n",
    "\n",
    "plt.show()"
   ]
  },
  {
   "cell_type": "code",
   "execution_count": null,
   "metadata": {},
   "outputs": [],
   "source": [
    "print(classification_report(Y1v_tfidf_pred, Y1v_test, target_names=clf3.classes_))\n"
   ]
  },
  {
   "cell_type": "markdown",
   "metadata": {},
   "source": [
    "### Text classification using ConvNet\n",
    "Do the same, using a ConvNet.  \n",
    "The ConvNet should get as input a 2D matrix where each column is an embedding vector of a single word, and words are in order. Use zero padding so that all matrices have a similar length.  \n",
    "Some songs might be very long. Trim them so you keep a maximum of 128 words (after cleaning stop words and rare words).  \n",
    "Initialize the embedding layer using the word vectors that you've trained before, but allow them to change during training.  \n",
    "\n",
    "Extra: Try training the ConvNet with 2 slight modifications:\n",
    "1. freezing the the weights trained using Word2vec (preventing it from updating)\n",
    "1. random initialization of the embedding layer"
   ]
  },
  {
   "cell_type": "markdown",
   "metadata": {},
   "source": [
    "You are encouraged to try this question on your own.  \n",
    "\n",
    "You might prefer to get ideas from the paper \"Convolutional Neural Networks for Sentence Classification\" (Kim 2014, [link](https://arxiv.org/abs/1408.5882)).\n",
    "\n",
    "There are several implementations of the paper code in PyTorch online (see for example [this repo](https://github.com/prakashpandey9/Text-Classification-Pytorch) for a PyTorch implementation of CNN and other architectures for text classification). If you get stuck, they might provide you with a reference for your own code."
   ]
  },
  {
   "cell_type": "code",
   "execution_count": 30,
   "metadata": {},
   "outputs": [],
   "source": [
    "import torch\n",
    "import torch.nn as nn\n",
    "from torch.autograd import Variable\n",
    "from torch.nn import functional as F\n",
    "\n",
    "class CNN(nn.Module):\n",
    "    def __init__(self, batch_size, output_size, in_channels, out_channels, kernel_heights, stride, padding, keep_probab, vocab_size, embedding_length, weights):\n",
    "        super(CNN, self).__init__()\n",
    "        self.batch_size = batch_size\n",
    "        self.output_size = output_size\n",
    "        self.in_channels = in_channels\n",
    "        self.out_channels = out_channels\n",
    "        self.kernel_heights = kernel_heights\n",
    "        self.stride = stride\n",
    "        self.padding = padding\n",
    "        self.vocab_size = vocab_size\n",
    "        self.embedding_length = embedding_length\n",
    "        self.word_embeddings = nn.Embedding(vocab_size, embedding_length)\n",
    "        self.word_embeddings.weight = nn.Parameter(weights, requires_grad=False)\n",
    "        self.conv1 = nn.Conv2d(in_channels, out_channels, (kernel_heights[0], embedding_length), stride, padding)\n",
    "        self.conv2 = nn.Conv2d(in_channels, out_channels, (kernel_heights[1], embedding_length), stride, padding)\n",
    "        self.conv3 = nn.Conv2d(in_channels, out_channels, (kernel_heights[2], embedding_length), stride, padding)\n",
    "        self.dropout = nn.Dropout(keep_probab)\n",
    "        self.label = nn.Linear(len(kernel_heights)*out_channels, output_size)\n",
    "\n",
    "    def conv_block(self, input, conv_layer):\n",
    "        conv_out = conv_layer(input)# conv_out.size() = (batch_size, out_channels, dim, 1)\n",
    "        activation = F.relu(conv_out.squeeze(3))# activation.size() = (batch_size, out_channels, dim1)\n",
    "        max_out = F.max_pool1d(activation, activation.size()[2]).squeeze(2)# maxpool_out.size() = (batch_size, out_channels)\n",
    "        return max_out\n",
    "\n",
    "    def forward(self, input_sentences, batch_size=None):\n",
    "        input = self.word_embeddings(input_sentences)\n",
    "        # input.size() = (batch_size, num_seq, embedding_length)\n",
    "        input = input.unsqueeze(1)\n",
    "        # input.size() = (batch_size, 1, num_seq, embedding_length)\n",
    "        max_out1 = self.conv_block(input, self.conv1)\n",
    "        max_out2 = self.conv_block(input, self.conv2)\n",
    "        max_out3 = self.conv_block(input, self.conv3)\n",
    "        all_out = torch.cat((max_out1, max_out2, max_out3), 1)\n",
    "        # all_out.size() = (batch_size, num_kernels*out_channels)\n",
    "        fc_in = self.dropout(all_out)\n",
    "        # fc_in.size()) = (batch_size, num_kernels*out_channels)\n",
    "        logits = self.label(fc_in)\n",
    "        return logits\n",
    "\n",
    "    \n",
    "batch_size = 8\n",
    "output_size = 12\n",
    "in_channels = 1\n",
    "out_channels = 100\n",
    "vocab_size = model.wv.vectors.shape[0]\n",
    "kernel_heights = [3, 4, 5]\n",
    "stride = 1\n",
    "padding = 0\n",
    "keep_probab = 0.5\n",
    "embedding_length = model.wv.vectors.shape[1]\n",
    "word_embeddings = torch.from_numpy(model.wv.vectors)\n",
    "    \n",
    "\n",
    "model.wv.vocab['oh']\n",
    "\n",
    "cnn = CNN(batch_size, output_size, in_channels, out_channels, kernel_heights, stride, padding, keep_probab, vocab_size, embedding_length, word_embeddings)\n",
    "\n",
    "N_EPOCHS = 5\n",
    "min_valid_loss = float('inf')\n",
    "\n",
    "criterion = torch.nn.CrossEntropyLoss()\n",
    "optimizer = torch.optim.SGD(cnn.parameters(), lr=4.0)\n",
    "scheduler = torch.optim.lr_scheduler.StepLR(optimizer, 1, gamma=0.9)\n",
    "\n",
    "\n"
   ]
  },
  {
   "cell_type": "code",
   "execution_count": 14,
   "metadata": {},
   "outputs": [],
   "source": [
    "def to_matrix(words):\n",
    "    X = np.zeros((128, EMBEDDING_SIZE))\n",
    "    for i, word in enumerate(words):\n",
    "        X[i] = model.wv[word]\n",
    "    return X.T\n",
    "\n",
    "matrices = df['final_words'].apply(lambda x: x if len(x) <= 128 else x[:128]).apply(to_matrix)"
   ]
  },
  {
   "cell_type": "code",
   "execution_count": 48,
   "metadata": {},
   "outputs": [],
   "source": [
    "# df_mat = pd.concat([matrices,df['genre']], axis=1)\n",
    "df2 = pd.concat([df['final_words'].apply(lambda x: x if len(x) <= 128 else x[:128]), df['genre']], axis=1)\n"
   ]
  },
  {
   "cell_type": "code",
   "execution_count": 49,
   "metadata": {},
   "outputs": [
    {
     "data": {
      "text/html": [
       "<div>\n",
       "<style scoped>\n",
       "    .dataframe tbody tr th:only-of-type {\n",
       "        vertical-align: middle;\n",
       "    }\n",
       "\n",
       "    .dataframe tbody tr th {\n",
       "        vertical-align: top;\n",
       "    }\n",
       "\n",
       "    .dataframe thead th {\n",
       "        text-align: right;\n",
       "    }\n",
       "</style>\n",
       "<table border=\"1\" class=\"dataframe\">\n",
       "  <thead>\n",
       "    <tr style=\"text-align: right;\">\n",
       "      <th></th>\n",
       "      <th>final_words</th>\n",
       "      <th>genre</th>\n",
       "    </tr>\n",
       "  </thead>\n",
       "  <tbody>\n",
       "    <tr>\n",
       "      <th>0</th>\n",
       "      <td>[oh, baby, know, gonna, cut, right, chase, wom...</td>\n",
       "      <td>Pop</td>\n",
       "    </tr>\n",
       "    <tr>\n",
       "      <th>1</th>\n",
       "      <td>[playin, everything, easy, like, seem, sure, s...</td>\n",
       "      <td>Pop</td>\n",
       "    </tr>\n",
       "    <tr>\n",
       "      <th>2</th>\n",
       "      <td>[search, tenderness, hard, find, love, need, l...</td>\n",
       "      <td>Pop</td>\n",
       "    </tr>\n",
       "    <tr>\n",
       "      <th>3</th>\n",
       "      <td>[oh, oh, oh, oh, oh, oh, verse, NUMBER, wrote,...</td>\n",
       "      <td>Pop</td>\n",
       "    </tr>\n",
       "    <tr>\n",
       "      <th>4</th>\n",
       "      <td>[party, people, people, party, popping, sittin...</td>\n",
       "      <td>Pop</td>\n",
       "    </tr>\n",
       "    <tr>\n",
       "      <th>...</th>\n",
       "      <td>...</td>\n",
       "      <td>...</td>\n",
       "    </tr>\n",
       "    <tr>\n",
       "      <th>362232</th>\n",
       "      <td>[gotta, say, boy, couple, dates, hands, blowin...</td>\n",
       "      <td>Country</td>\n",
       "    </tr>\n",
       "    <tr>\n",
       "      <th>362233</th>\n",
       "      <td>[helped, find, diamond, ring, made, try, every...</td>\n",
       "      <td>Country</td>\n",
       "    </tr>\n",
       "    <tr>\n",
       "      <th>362234</th>\n",
       "      <td>[look, couple, corner, booth, looks, lot, like...</td>\n",
       "      <td>Country</td>\n",
       "    </tr>\n",
       "    <tr>\n",
       "      <th>362235</th>\n",
       "      <td>[fly, mortal, earth, measured, depth, father, ...</td>\n",
       "      <td>Country</td>\n",
       "    </tr>\n",
       "    <tr>\n",
       "      <th>362236</th>\n",
       "      <td>[heard, friend, friend, friend, finally, got, ...</td>\n",
       "      <td>Country</td>\n",
       "    </tr>\n",
       "  </tbody>\n",
       "</table>\n",
       "<p>362237 rows × 2 columns</p>\n",
       "</div>"
      ],
      "text/plain": [
       "                                              final_words    genre\n",
       "0       [oh, baby, know, gonna, cut, right, chase, wom...      Pop\n",
       "1       [playin, everything, easy, like, seem, sure, s...      Pop\n",
       "2       [search, tenderness, hard, find, love, need, l...      Pop\n",
       "3       [oh, oh, oh, oh, oh, oh, verse, NUMBER, wrote,...      Pop\n",
       "4       [party, people, people, party, popping, sittin...      Pop\n",
       "...                                                   ...      ...\n",
       "362232  [gotta, say, boy, couple, dates, hands, blowin...  Country\n",
       "362233  [helped, find, diamond, ring, made, try, every...  Country\n",
       "362234  [look, couple, corner, booth, looks, lot, like...  Country\n",
       "362235  [fly, mortal, earth, measured, depth, father, ...  Country\n",
       "362236  [heard, friend, friend, friend, finally, got, ...  Country\n",
       "\n",
       "[362237 rows x 2 columns]"
      ]
     },
     "execution_count": 49,
     "metadata": {},
     "output_type": "execute_result"
    }
   ],
   "source": [
    "# train_size = int(0.75*len(df_mat))\n",
    "train_size = 100\n",
    "df_mat_train = df2[:train_size]\n",
    "df_mat_test = df2[train_size:]"
   ]
  },
  {
   "cell_type": "code",
   "execution_count": 50,
   "metadata": {},
   "outputs": [
    {
     "name": "stdout",
     "output_type": "stream",
     "text": [
      "0    Pop\n",
      "1    Pop\n",
      "2    Pop\n",
      "3    Pop\n",
      "4    Pop\n",
      "5    Pop\n",
      "6    Pop\n",
      "7    Pop\n",
      "Name: genre, dtype: object\n",
      "8     Pop\n",
      "9     Pop\n",
      "10    Pop\n",
      "11    Pop\n",
      "12    Pop\n",
      "13    Pop\n",
      "14    Pop\n",
      "15    Pop\n",
      "Name: genre, dtype: object\n",
      "16    Pop\n",
      "17    Pop\n",
      "18    Pop\n",
      "19    Pop\n",
      "20    Pop\n",
      "21    Pop\n",
      "22    Pop\n",
      "23    Pop\n",
      "Name: genre, dtype: object\n",
      "24    Pop\n",
      "25    Pop\n",
      "26    Pop\n",
      "27    Pop\n",
      "28    Pop\n",
      "29    Pop\n",
      "30    Pop\n",
      "31    Pop\n",
      "Name: genre, dtype: object\n",
      "32    Pop\n",
      "33    Pop\n",
      "34    Pop\n",
      "35    Pop\n",
      "36    Pop\n",
      "37    Pop\n",
      "38    Pop\n",
      "39    Pop\n",
      "Name: genre, dtype: object\n",
      "40    Pop\n",
      "41    Pop\n",
      "42    Pop\n",
      "43    Pop\n",
      "44    Pop\n",
      "45    Pop\n",
      "46    Pop\n",
      "47    Pop\n",
      "Name: genre, dtype: object\n",
      "48    Pop\n",
      "49    Pop\n",
      "50    Pop\n",
      "51    Pop\n",
      "52    Pop\n",
      "53    Pop\n",
      "54    Pop\n",
      "55    Pop\n",
      "Name: genre, dtype: object\n",
      "56    Pop\n",
      "57    Pop\n",
      "58    Pop\n",
      "59    Pop\n",
      "60    Pop\n",
      "61    Pop\n",
      "62    Pop\n",
      "63    Pop\n",
      "Name: genre, dtype: object\n",
      "64    Pop\n",
      "65    Pop\n",
      "66    Pop\n",
      "67    Pop\n",
      "68    Pop\n",
      "69    Pop\n",
      "70    Pop\n",
      "71    Pop\n",
      "Name: genre, dtype: object\n",
      "72    Pop\n",
      "73    Pop\n",
      "74    Pop\n",
      "75    Pop\n",
      "76    Pop\n",
      "77    Pop\n",
      "78    Pop\n",
      "79    Pop\n",
      "Name: genre, dtype: object\n",
      "80    Pop\n",
      "81    Pop\n",
      "82    Pop\n",
      "83    Pop\n",
      "84    Pop\n",
      "85    Pop\n",
      "86    Pop\n",
      "87    Pop\n",
      "Name: genre, dtype: object\n",
      "88    Pop\n",
      "89    Pop\n",
      "90    Pop\n",
      "91    Pop\n",
      "92    Pop\n",
      "93    Pop\n",
      "94    Pop\n",
      "95    Pop\n",
      "Name: genre, dtype: object\n",
      "96    Pop\n",
      "97    Pop\n",
      "98    Pop\n",
      "99    Pop\n",
      "Name: genre, dtype: object\n",
      "0    Pop\n",
      "1    Pop\n",
      "2    Pop\n",
      "3    Pop\n",
      "4    Pop\n",
      "5    Pop\n",
      "6    Pop\n",
      "7    Pop\n",
      "Name: genre, dtype: object\n",
      "8     Pop\n",
      "9     Pop\n",
      "10    Pop\n",
      "11    Pop\n",
      "12    Pop\n",
      "13    Pop\n",
      "14    Pop\n",
      "15    Pop\n",
      "Name: genre, dtype: object\n",
      "16    Pop\n",
      "17    Pop\n",
      "18    Pop\n",
      "19    Pop\n",
      "20    Pop\n",
      "21    Pop\n",
      "22    Pop\n",
      "23    Pop\n",
      "Name: genre, dtype: object\n",
      "24    Pop\n",
      "25    Pop\n",
      "26    Pop\n",
      "27    Pop\n",
      "28    Pop\n",
      "29    Pop\n",
      "30    Pop\n",
      "31    Pop\n",
      "Name: genre, dtype: object\n",
      "32    Pop\n",
      "33    Pop\n",
      "34    Pop\n",
      "35    Pop\n",
      "36    Pop\n",
      "37    Pop\n",
      "38    Pop\n",
      "39    Pop\n",
      "Name: genre, dtype: object\n",
      "40    Pop\n",
      "41    Pop\n",
      "42    Pop\n",
      "43    Pop\n",
      "44    Pop\n",
      "45    Pop\n",
      "46    Pop\n",
      "47    Pop\n",
      "Name: genre, dtype: object\n",
      "48    Pop\n",
      "49    Pop\n",
      "50    Pop\n",
      "51    Pop\n",
      "52    Pop\n",
      "53    Pop\n",
      "54    Pop\n",
      "55    Pop\n",
      "Name: genre, dtype: object\n",
      "56    Pop\n",
      "57    Pop\n",
      "58    Pop\n",
      "59    Pop\n",
      "60    Pop\n",
      "61    Pop\n",
      "62    Pop\n",
      "63    Pop\n",
      "Name: genre, dtype: object\n",
      "64    Pop\n",
      "65    Pop\n",
      "66    Pop\n",
      "67    Pop\n",
      "68    Pop\n",
      "69    Pop\n",
      "70    Pop\n",
      "71    Pop\n",
      "Name: genre, dtype: object\n",
      "72    Pop\n",
      "73    Pop\n",
      "74    Pop\n",
      "75    Pop\n",
      "76    Pop\n",
      "77    Pop\n",
      "78    Pop\n",
      "79    Pop\n",
      "Name: genre, dtype: object\n",
      "80    Pop\n",
      "81    Pop\n",
      "82    Pop\n",
      "83    Pop\n",
      "84    Pop\n",
      "85    Pop\n",
      "86    Pop\n",
      "87    Pop\n",
      "Name: genre, dtype: object\n",
      "88    Pop\n",
      "89    Pop\n",
      "90    Pop\n",
      "91    Pop\n",
      "92    Pop\n",
      "93    Pop\n",
      "94    Pop\n",
      "95    Pop\n",
      "Name: genre, dtype: object\n",
      "96    Pop\n",
      "97    Pop\n",
      "98    Pop\n",
      "99    Pop\n",
      "Name: genre, dtype: object\n",
      "0    Pop\n",
      "1    Pop\n",
      "2    Pop\n",
      "3    Pop\n",
      "4    Pop\n",
      "5    Pop\n",
      "6    Pop\n",
      "7    Pop\n",
      "Name: genre, dtype: object\n",
      "8     Pop\n",
      "9     Pop\n",
      "10    Pop\n",
      "11    Pop\n",
      "12    Pop\n",
      "13    Pop\n",
      "14    Pop\n",
      "15    Pop\n",
      "Name: genre, dtype: object\n",
      "16    Pop\n",
      "17    Pop\n",
      "18    Pop\n",
      "19    Pop\n",
      "20    Pop\n",
      "21    Pop\n",
      "22    Pop\n",
      "23    Pop\n",
      "Name: genre, dtype: object\n",
      "24    Pop\n",
      "25    Pop\n",
      "26    Pop\n",
      "27    Pop\n",
      "28    Pop\n",
      "29    Pop\n",
      "30    Pop\n",
      "31    Pop\n",
      "Name: genre, dtype: object\n",
      "32    Pop\n",
      "33    Pop\n",
      "34    Pop\n",
      "35    Pop\n",
      "36    Pop\n",
      "37    Pop\n",
      "38    Pop\n",
      "39    Pop\n",
      "Name: genre, dtype: object\n",
      "40    Pop\n",
      "41    Pop\n",
      "42    Pop\n",
      "43    Pop\n",
      "44    Pop\n",
      "45    Pop\n",
      "46    Pop\n",
      "47    Pop\n",
      "Name: genre, dtype: object\n",
      "48    Pop\n",
      "49    Pop\n",
      "50    Pop\n",
      "51    Pop\n",
      "52    Pop\n",
      "53    Pop\n",
      "54    Pop\n",
      "55    Pop\n",
      "Name: genre, dtype: object\n",
      "56    Pop\n",
      "57    Pop\n",
      "58    Pop\n",
      "59    Pop\n",
      "60    Pop\n",
      "61    Pop\n",
      "62    Pop\n",
      "63    Pop\n",
      "Name: genre, dtype: object\n",
      "64    Pop\n",
      "65    Pop\n",
      "66    Pop\n",
      "67    Pop\n",
      "68    Pop\n",
      "69    Pop\n",
      "70    Pop\n",
      "71    Pop\n",
      "Name: genre, dtype: object\n",
      "72    Pop\n",
      "73    Pop\n",
      "74    Pop\n",
      "75    Pop\n",
      "76    Pop\n",
      "77    Pop\n",
      "78    Pop\n",
      "79    Pop\n",
      "Name: genre, dtype: object\n",
      "80    Pop\n",
      "81    Pop\n",
      "82    Pop\n",
      "83    Pop\n",
      "84    Pop\n",
      "85    Pop\n",
      "86    Pop\n",
      "87    Pop\n",
      "Name: genre, dtype: object\n",
      "88    Pop\n",
      "89    Pop\n",
      "90    Pop\n",
      "91    Pop\n",
      "92    Pop\n",
      "93    Pop\n",
      "94    Pop\n",
      "95    Pop\n",
      "Name: genre, dtype: object\n",
      "96    Pop\n",
      "97    Pop\n",
      "98    Pop\n",
      "99    Pop\n",
      "Name: genre, dtype: object\n",
      "0    Pop\n",
      "1    Pop\n",
      "2    Pop\n",
      "3    Pop\n",
      "4    Pop\n",
      "5    Pop\n",
      "6    Pop\n",
      "7    Pop\n",
      "Name: genre, dtype: object\n",
      "8     Pop\n",
      "9     Pop\n",
      "10    Pop\n",
      "11    Pop\n",
      "12    Pop\n",
      "13    Pop\n",
      "14    Pop\n",
      "15    Pop\n",
      "Name: genre, dtype: object\n",
      "16    Pop\n",
      "17    Pop\n",
      "18    Pop\n",
      "19    Pop\n",
      "20    Pop\n",
      "21    Pop\n",
      "22    Pop\n",
      "23    Pop\n",
      "Name: genre, dtype: object\n",
      "24    Pop\n",
      "25    Pop\n",
      "26    Pop\n",
      "27    Pop\n",
      "28    Pop\n",
      "29    Pop\n",
      "30    Pop\n",
      "31    Pop\n",
      "Name: genre, dtype: object\n",
      "32    Pop\n",
      "33    Pop\n",
      "34    Pop\n",
      "35    Pop\n",
      "36    Pop\n",
      "37    Pop\n",
      "38    Pop\n",
      "39    Pop\n",
      "Name: genre, dtype: object\n",
      "40    Pop\n",
      "41    Pop\n",
      "42    Pop\n",
      "43    Pop\n",
      "44    Pop\n",
      "45    Pop\n",
      "46    Pop\n",
      "47    Pop\n",
      "Name: genre, dtype: object\n",
      "48    Pop\n",
      "49    Pop\n",
      "50    Pop\n",
      "51    Pop\n",
      "52    Pop\n",
      "53    Pop\n",
      "54    Pop\n",
      "55    Pop\n",
      "Name: genre, dtype: object\n",
      "56    Pop\n",
      "57    Pop\n",
      "58    Pop\n",
      "59    Pop\n",
      "60    Pop\n",
      "61    Pop\n",
      "62    Pop\n",
      "63    Pop\n",
      "Name: genre, dtype: object\n",
      "64    Pop\n",
      "65    Pop\n",
      "66    Pop\n",
      "67    Pop\n",
      "68    Pop\n",
      "69    Pop\n",
      "70    Pop\n",
      "71    Pop\n",
      "Name: genre, dtype: object\n",
      "72    Pop\n",
      "73    Pop\n",
      "74    Pop\n",
      "75    Pop\n",
      "76    Pop\n",
      "77    Pop\n",
      "78    Pop\n",
      "79    Pop\n",
      "Name: genre, dtype: object\n",
      "80    Pop\n",
      "81    Pop\n",
      "82    Pop\n",
      "83    Pop\n",
      "84    Pop\n",
      "85    Pop\n",
      "86    Pop\n",
      "87    Pop\n",
      "Name: genre, dtype: object\n",
      "88    Pop\n",
      "89    Pop\n",
      "90    Pop\n",
      "91    Pop\n",
      "92    Pop\n",
      "93    Pop\n",
      "94    Pop\n",
      "95    Pop\n",
      "Name: genre, dtype: object\n",
      "96    Pop\n",
      "97    Pop\n",
      "98    Pop\n",
      "99    Pop\n",
      "Name: genre, dtype: object\n",
      "0    Pop\n",
      "1    Pop\n",
      "2    Pop\n",
      "3    Pop\n",
      "4    Pop\n",
      "5    Pop\n",
      "6    Pop\n",
      "7    Pop\n",
      "Name: genre, dtype: object\n",
      "8     Pop\n",
      "9     Pop\n",
      "10    Pop\n",
      "11    Pop\n",
      "12    Pop\n",
      "13    Pop\n",
      "14    Pop\n",
      "15    Pop\n",
      "Name: genre, dtype: object\n",
      "16    Pop\n",
      "17    Pop\n",
      "18    Pop\n",
      "19    Pop\n",
      "20    Pop\n",
      "21    Pop\n",
      "22    Pop\n",
      "23    Pop\n",
      "Name: genre, dtype: object\n",
      "24    Pop\n",
      "25    Pop\n",
      "26    Pop\n",
      "27    Pop\n",
      "28    Pop\n",
      "29    Pop\n",
      "30    Pop\n",
      "31    Pop\n",
      "Name: genre, dtype: object\n",
      "32    Pop\n",
      "33    Pop\n",
      "34    Pop\n",
      "35    Pop\n",
      "36    Pop\n",
      "37    Pop\n",
      "38    Pop\n",
      "39    Pop\n",
      "Name: genre, dtype: object\n",
      "40    Pop\n",
      "41    Pop\n",
      "42    Pop\n",
      "43    Pop\n",
      "44    Pop\n",
      "45    Pop\n",
      "46    Pop\n",
      "47    Pop\n",
      "Name: genre, dtype: object\n",
      "48    Pop\n",
      "49    Pop\n",
      "50    Pop\n",
      "51    Pop\n",
      "52    Pop\n",
      "53    Pop\n",
      "54    Pop\n",
      "55    Pop\n",
      "Name: genre, dtype: object\n",
      "56    Pop\n",
      "57    Pop\n",
      "58    Pop\n",
      "59    Pop\n",
      "60    Pop\n",
      "61    Pop\n",
      "62    Pop\n",
      "63    Pop\n",
      "Name: genre, dtype: object\n",
      "64    Pop\n",
      "65    Pop\n",
      "66    Pop\n",
      "67    Pop\n",
      "68    Pop\n",
      "69    Pop\n",
      "70    Pop\n",
      "71    Pop\n",
      "Name: genre, dtype: object\n",
      "72    Pop\n",
      "73    Pop\n",
      "74    Pop\n",
      "75    Pop\n",
      "76    Pop\n",
      "77    Pop\n",
      "78    Pop\n",
      "79    Pop\n",
      "Name: genre, dtype: object\n",
      "80    Pop\n",
      "81    Pop\n",
      "82    Pop\n",
      "83    Pop\n",
      "84    Pop\n",
      "85    Pop\n",
      "86    Pop\n",
      "87    Pop\n",
      "Name: genre, dtype: object\n",
      "88    Pop\n",
      "89    Pop\n",
      "90    Pop\n",
      "91    Pop\n",
      "92    Pop\n",
      "93    Pop\n",
      "94    Pop\n",
      "95    Pop\n",
      "Name: genre, dtype: object\n",
      "96    Pop\n",
      "97    Pop\n",
      "98    Pop\n",
      "99    Pop\n",
      "Name: genre, dtype: object\n"
     ]
    }
   ],
   "source": [
    "\n",
    "\n",
    "for epoch in range(N_EPOCHS):  # loop over the dataset multiple times\n",
    "\n",
    "    running_loss = 0.0\n",
    "    for i in range(0, train_size, batch_size):\n",
    "        data = df_mat_train[i:i + batch_size]\n",
    "        print(data['genre'])"
   ]
  },
  {
   "cell_type": "code",
   "execution_count": null,
   "metadata": {},
   "outputs": [],
   "source": []
  }
 ],
 "metadata": {
  "kernelspec": {
   "display_name": "Python 3",
   "language": "python",
   "name": "python3"
  },
  "language_info": {
   "codemirror_mode": {
    "name": "ipython",
    "version": 3
   },
   "file_extension": ".py",
   "mimetype": "text/x-python",
   "name": "python",
   "nbconvert_exporter": "python",
   "pygments_lexer": "ipython3",
   "version": "3.6.10"
  }
 },
 "nbformat": 4,
 "nbformat_minor": 2
}
