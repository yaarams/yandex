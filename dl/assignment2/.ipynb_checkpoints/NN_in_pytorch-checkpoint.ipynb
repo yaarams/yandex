{
 "cells": [
  {
   "cell_type": "markdown",
   "metadata": {
    "colab_type": "text",
    "id": "3CX7U16-d1S_"
   },
   "source": [
    "# Neural Network using PyTorch"
   ]
  },
  {
   "cell_type": "markdown",
   "metadata": {
    "colab_type": "text",
    "id": "lZijSuN2d1TE"
   },
   "source": [
    "In this exercise, you will build a neural network using PyTorch, and apply it to a dataset. Our goal in this exercise is not necessarily to obtain the best results on the dataset. We care more about understanding the different parameters, getting a hands-on experience training networks, and monitoring and debugging them. For this reason, I actually recommend that you don’t use a GPU, and run the code on your local machine, for simpler debugging.\n",
    "\n",
    "\n",
    "You can get relevant code snippets from [the PyTorch documentation](https://pytorch.org/tutorials/beginner/blitz/cifar10_tutorial.html) or other sources online. "
   ]
  },
  {
   "cell_type": "markdown",
   "metadata": {
    "colab_type": "text",
    "id": "2D_hdo0zd1TI"
   },
   "source": [
    "## Dataset\n",
    "We will use the CIFAR-10 dataset."
   ]
  },
  {
   "cell_type": "code",
   "execution_count": 2,
   "metadata": {
    "ExecuteTime": {
     "end_time": "2020-03-12T03:22:05.577442Z",
     "start_time": "2020-03-12T03:22:04.944943Z"
    },
    "colab": {},
    "colab_type": "code",
    "id": "EyJHWgQNd1TL"
   },
   "outputs": [],
   "source": [
    "import matplotlib.pyplot as plt\n",
    "import torch\n",
    "import torchvision\n",
    "import torchvision.transforms as transforms\n",
    "%matplotlib inline"
   ]
  },
  {
   "cell_type": "code",
   "execution_count": 3,
   "metadata": {
    "ExecuteTime": {
     "end_time": "2020-03-12T03:22:07.447520Z",
     "start_time": "2020-03-12T03:22:05.580433Z"
    },
    "colab": {},
    "colab_type": "code",
    "id": "9bR-HC9kd1TY",
    "outputId": "366c953d-0698-4ca7-ef32-0abb0d03f188"
   },
   "outputs": [
    {
     "name": "stdout",
     "output_type": "stream",
     "text": [
      "Files already downloaded and verified\n",
      "Files already downloaded and verified\n"
     ]
    }
   ],
   "source": [
    "transform = transforms.Compose(\n",
    "    [transforms.ToTensor(),\n",
    "     transforms.Normalize((0.5, 0.5, 0.5), (0.5, 0.5, 0.5))])\n",
    "\n",
    "trainset = torchvision.datasets.CIFAR10(root='./data', train=True,\n",
    "                                        download=True, transform=transform)\n",
    "trainloader = torch.utils.data.DataLoader(trainset, batch_size=4,\n",
    "                                          shuffle=True, num_workers=2)\n",
    "\n",
    "testset = torchvision.datasets.CIFAR10(root='./data', train=False,\n",
    "                                       download=True, transform=transform)\n",
    "testloader = torch.utils.data.DataLoader(testset, batch_size=4,\n",
    "                                         shuffle=False, num_workers=2)\n",
    "\n",
    "classes = ('plane', 'car', 'bird', 'cat',\n",
    "           'deer', 'dog', 'frog', 'horse', 'ship', 'truck')"
   ]
  },
  {
   "cell_type": "markdown",
   "metadata": {
    "colab_type": "text",
    "id": "kopdY1hjd1Ti"
   },
   "source": [
    "First, let's get to know the dataset. Plot a few examples of images and their labels:\n"
   ]
  },
  {
   "cell_type": "code",
   "execution_count": 114,
   "metadata": {
    "ExecuteTime": {
     "end_time": "2020-03-12T03:22:13.183638Z",
     "start_time": "2020-03-12T03:22:10.191153Z"
    },
    "colab": {},
    "colab_type": "code",
    "id": "yiOrLLw0d1Tk",
    "outputId": "faf20300-82f3-4a7b-bbd2-be71f27e452d"
   },
   "outputs": [
    {
     "data": {
      "image/png": "[encoded data removed]",
      "text/plain": [
       "<Figure size 432x288 with 1 Axes>"
      ]
     },
     "metadata": {
      "needs_background": "light"
     },
     "output_type": "display_data"
    },
    {
     "name": "stdout",
     "output_type": "stream",
     "text": [
      "dog   dog   car   dog\n"
     ]
    }
   ],
   "source": [
    "import matplotlib.pyplot as plt\n",
    "import numpy as np\n",
    "\n",
    "\n",
    "def imshow(img):\n",
    "    img = img / 2 + 0.5     # unnormalize\n",
    "    npimg = img.numpy()\n",
    "    plt.imshow(np.transpose(npimg, (1, 2, 0)))\n",
    "    plt.show()\n",
    "\n",
    "dataiter = iter(trainloader)\n",
    "images, labels = dataiter.next()\n",
    "imshow(torchvision.utils.make_grid(images))\n",
    "print('   '.join(classes[labels[j]] for j in range(4)))"
   ]
  },
  {
   "cell_type": "markdown",
   "metadata": {
    "colab_type": "text",
    "id": "Wv-Npaoed1Tq"
   },
   "source": [
    "Display the distribution of images per label."
   ]
  },
  {
   "cell_type": "code",
   "execution_count": 5,
   "metadata": {
    "ExecuteTime": {
     "end_time": "2020-03-12T03:22:13.668056Z",
     "start_time": "2020-03-12T03:22:13.185607Z"
    },
    "colab": {},
    "colab_type": "code",
    "id": "Xr_AHQDSd1Tu",
    "outputId": "8fe3977e-9400-4a42-9113-31e277d41060"
   },
   "outputs": [
    {
     "data": {
      "text/plain": [
       "{'plane': 5000,\n",
       " 'car': 5000,\n",
       " 'bird': 5000,\n",
       " 'cat': 5000,\n",
       " 'deer': 5000,\n",
       " 'dog': 5000,\n",
       " 'frog': 5000,\n",
       " 'horse': 5000,\n",
       " 'ship': 5000,\n",
       " 'truck': 5000}"
      ]
     },
     "execution_count": 5,
     "metadata": {},
     "output_type": "execute_result"
    }
   ],
   "source": [
    "temp = np.array(trainset.targets)\n",
    "unique, counts = np.unique(temp, return_counts=True)\n",
    "dict(zip(classes, counts))"
   ]
  },
  {
   "cell_type": "markdown",
   "metadata": {
    "colab_type": "text",
    "id": "-DrGo0lzd1T0"
   },
   "source": [
    "Is the data balanced? What effect is imbalanced data expected to have on your model's results? How can you work with imbalanced data?"
   ]
  },
  {
   "cell_type": "markdown",
   "metadata": {
    "colab": {},
    "colab_type": "code",
    "id": "fnEZHoM2d1T2"
   },
   "source": [
    "Yes. \n",
    "\n",
    "It's prone to biaseness towards the prevalent class and overfitting training data."
   ]
  },
  {
   "cell_type": "markdown",
   "metadata": {
    "colab_type": "text",
    "id": "q-9Ypmowd1T8"
   },
   "source": [
    "**NOTE:** It's a good practice when working on Neural Networks to start with a very small dataset and overfit on it. While we don't specifically ask you to do so in the sections below, we recommend that you take this approach, and first write and run your code using easy to use and debug platform, on a small dataset."
   ]
  },
  {
   "cell_type": "markdown",
   "metadata": {
    "colab_type": "text",
    "id": "Tt8bv7fLd1UE"
   },
   "source": [
    "## Build your own CNN classifier - Maria?\n",
    "In this section, you will develop your own CNN classifier.\n",
    "\n",
    "This is meant as an opportunity to get more experience building your own NN architectures using PyTorch, and our focus is on making sure you rewrite and review the needed code and not on obtaining optimal performance. That being said, within the limits of the time you have, try to come up with a NN architecture and hyperparameters that would achieve nice results on the dataset.  \n",
    "We do recommend that you keep this to only 3-4 Conv layers and 1-2 fully connected layers."
   ]
  },
  {
   "cell_type": "markdown",
   "metadata": {
    "colab_type": "text",
    "id": "tYM_AZEGd1UH"
   },
   "source": [
    "If you want a starting point, you can create this network:\n",
    "\n",
    "```\n",
    "Net(\n",
    "  (conv1): Conv2d(3, 6, kernel_size=(5, 5), stride=(1, 1))\n",
    "  (pool): MaxPool2d(kernel_size=2, stride=2, padding=0, dilation=1, ceil_mode=False)\n",
    "  (conv2): Conv2d(6, 16, kernel_size=(5, 5), stride=(1, 1))\n",
    "  (fc1): Linear(in_features=400, out_features=120, bias=True)\n",
    "  (fc2): Linear(in_features=120, out_features=84, bias=True)\n",
    "  (fc3): Linear(in_features=84, out_features=10, bias=True)\n",
    ")\n",
    "```"
   ]
  },
  {
   "cell_type": "markdown",
   "metadata": {
    "colab_type": "text",
    "id": "rC-Nohs8d1UI"
   },
   "source": [
    "When training the network, use the Adam optimizer."
   ]
  },
  {
   "cell_type": "code",
   "execution_count": 25,
   "metadata": {
    "ExecuteTime": {
     "end_time": "2020-03-12T03:22:14.105625Z",
     "start_time": "2020-03-12T03:22:14.096637Z"
    },
    "colab": {},
    "colab_type": "code",
    "id": "NML1FI6pd1UK"
   },
   "outputs": [],
   "source": [
    "import torch.nn as nn\n",
    "import torch.nn.functional as F\n",
    "import torch.optim as optim\n",
    "\n",
    "\n",
    "class Net(nn.Module):\n",
    "    def __init__(self):\n",
    "        super(Net, self).__init__()\n",
    "        self.conv1 = nn.Conv2d(3, 6, kernel_size=(5, 5), stride=(1, 1))\n",
    "        self.pool = nn.MaxPool2d(kernel_size=2, stride=2, padding=0, dilation=1, ceil_mode=False)\n",
    "        self.conv2 = nn.Conv2d(6, 16, kernel_size=(5, 5), stride=(1, 1))\n",
    "        self.pool1 = nn.MaxPool2d(kernel_size=2, stride=2, padding=0, dilation=1, ceil_mode=False)\n",
    "        self.fc1 = nn.Linear(400, 120, bias=True)\n",
    "        self.fc2 = nn.Linear(120, 10, bias=True)\n",
    "        # Loss function.\n",
    "        self.criterion = nn.CrossEntropyLoss()\n",
    "\n",
    "    def forward(self, X):\n",
    "        X = self.pool(F.relu(self.conv1(X)))\n",
    "        X = self.pool(F.relu(self.conv2(X)))\n",
    "        X = X.view(-1, 400)\n",
    "        X = F.relu(self.fc1(X))\n",
    "        return self.fc2(X)\n",
    "    \n",
    "    def loss(self, y_pred, y_true):\n",
    "        return self.criterion(y_pred, y_true)\n",
    "    \n",
    "    def trainWithLoader(self, trainloader, epochs=2, lr=0.001, print_stats=True):\n",
    "        optimizer = optim.Adam(self.parameters(), lr=lr)\n",
    "        for epoch in range(epochs):\n",
    "            running_loss = 0.0\n",
    "            for i, data in enumerate(trainloader, 0):\n",
    "                optimizer.zero_grad()\n",
    "                X, y_true = data\n",
    "\n",
    "                y_pred = self.forward(X)\n",
    "                loss = self.loss(y_pred, y_true)\n",
    "                loss.backward()\n",
    "                optimizer.step()\n",
    "\n",
    "                running_loss += loss.item()\n",
    "                if print_stats and i % 2000 == 0 and i != 0:\n",
    "                    print('[%d, %5d] loss: %.3f' % (epoch + 1, i, running_loss / 2000))\n",
    "                    running_loss = 0.0\n",
    "        print('Finished Training')\n",
    "    \n",
    "    def evaluate(self, testloader):\n",
    "        correct = 0\n",
    "        total = 0\n",
    "        with torch.no_grad():\n",
    "            for data in testloader:\n",
    "                X, y_true = data\n",
    "                y_pred = net(X)\n",
    "                _, predicted = torch.max(y_pred.data, 1)\n",
    "                total += y_true.size(0)\n",
    "                correct += (predicted == y_true).sum().item()\n",
    "        return correct / total\n",
    "\n",
    "\n",
    "\n",
    "net = Net()"
   ]
  },
  {
   "cell_type": "markdown",
   "metadata": {
    "colab_type": "text",
    "id": "p2u4hpSdd1UV"
   },
   "source": [
    "## Tensorboard\n",
    "TensorBoard provides visualization and tooling for machine learning experimentation:\n",
    "- Tracking and visualizing metrics such as loss and accuracy\n",
    "- Visualizing the model graph (ops and layers)\n",
    "- Viewing histograms of weights, biases, or other tensors as they change over time\n",
    "- Projecting embeddings to a lower dimensional space\n",
    "- Displaying images, text, and audio data\n",
    "- Profiling programs\n",
    "\n",
    "Tensorboard worked originally with Tensorflow but can now be used with PyTorch as well.  \n",
    "You can embed a tensorboard widget in a Jupyter Notebook, although if you're not using Google Colab we recommend that you open tensorboard separately."
   ]
  },
  {
   "cell_type": "markdown",
   "metadata": {
    "colab_type": "text",
    "id": "wupJ_m9rd1UX"
   },
   "source": [
    "To get started with Tensorboard, please read the following pages:\n",
    "\n",
    "PyTorch related:\n",
    "1. https://pytorch.org/tutorials/intermediate/tensorboard_tutorial.html\n",
    "1. https://becominghuman.ai/logging-in-tensorboard-with-pytorch-or-any-other-library-c549163dee9e\n",
    "1. https://towardsdatascience.com/https-medium-com-dinber19-take-a-deeper-look-at-your-pytorch-model-with-the-new-tensorboard-built-in-513969cf6a72\n",
    "1. https://pytorch.org/docs/stable/tensorboard.html\n",
    "1. https://github.com/yunjey/pytorch-tutorial/tree/master/tutorials/04-utils/tensorboard\n",
    "\n",
    "Tensorflow related:\n",
    "1. https://itnext.io/how-to-use-tensorboard-5d82f8654496\n",
    "1. https://www.datacamp.com/community/tutorials/tensorboard-tutorial\n",
    "1. https://medium.com/@anthony_sarkis/tensorboard-quick-start-in-5-minutes-e3ec69f673af\n",
    "1. https://www.guru99.com/tensorboard-tutorial.html\n",
    "1. https://www.youtube.com/watch?time_continue=1&v=s-lHP8v9qzY&feature=emb_logo\n",
    "1. https://www.youtube.com/watch?v=pSexXMdruFM\n"
   ]
  },
  {
   "cell_type": "markdown",
   "metadata": {
    "colab_type": "text",
    "id": "_8Rl8vuhd1UY"
   },
   "source": [
    "### Starting Tensorboard\n",
    "Jupyter Notebook has extensions for displaying TensorBoard inside the notebook. Still, I recommend that you run it separately, as it tends to get stuck in notebooks.\n",
    "\n",
    "The syntax to load TensorBoard in a notebook is this:\n",
    "```python\n",
    "# Load the TensorBoard notebook extension\n",
    "%load_ext tensorboard\n",
    "%tensorboard --logdir ./logs\n",
    "```"
   ]
  },
  {
   "cell_type": "markdown",
   "metadata": {
    "colab_type": "text",
    "id": "4rBVNXU5d1Ua"
   },
   "source": [
    "In the shell, you can instead run:\n",
    "```\n",
    "tensorboard --logdir ./logs\n",
    "```"
   ]
  },
  {
   "cell_type": "code",
   "execution_count": 34,
   "metadata": {
    "ExecuteTime": {
     "end_time": "2020-03-12T03:22:21.503129Z",
     "start_time": "2020-03-12T03:22:18.807319Z"
    },
    "colab": {},
    "colab_type": "code",
    "id": "yuJxEgVgd1Uc"
   },
   "outputs": [],
   "source": [
    "from torch.utils.tensorboard import SummaryWriter\n",
    "\n",
    "writer = SummaryWriter('logs')"
   ]
  },
  {
   "cell_type": "markdown",
   "metadata": {
    "colab_type": "text",
    "id": "gO7nL1OSd1Uh"
   },
   "source": [
    "### Show images using TensorBoard"
   ]
  },
  {
   "cell_type": "code",
   "execution_count": 87,
   "metadata": {
    "ExecuteTime": {
     "end_time": "2020-03-12T03:22:25.305404Z",
     "start_time": "2020-03-12T03:22:22.367810Z"
    },
    "colab": {},
    "colab_type": "code",
    "id": "u9B_Oaj-d1Ui"
   },
   "outputs": [
    {
     "data": {
      "image/png": "[encoded data removed]",
      "text/plain": [
       "<Figure size 432x288 with 1 Axes>"
      ]
     },
     "metadata": {
      "needs_background": "light"
     },
     "output_type": "display_data"
    }
   ],
   "source": [
    "dataiter = iter(trainloader)\n",
    "images, labels = dataiter.next()\n",
    "\n",
    "# create grid of images\n",
    "img_grid = torchvision.utils.make_grid(images)\n",
    "\n",
    "# show images\n",
    "imshow(img_grid)\n",
    "\n",
    "# write to tensorboard\n",
    "writer.add_image('img_grid', img_grid)\n",
    "writer.flush()"
   ]
  },
  {
   "cell_type": "markdown",
   "metadata": {
    "colab_type": "text",
    "id": "v08E-vwXd1Un"
   },
   "source": [
    "### Inspect the model graph\n",
    "You can print a network object to find useful information about it:"
   ]
  },
  {
   "cell_type": "code",
   "execution_count": 36,
   "metadata": {
    "ExecuteTime": {
     "end_time": "2020-03-12T03:39:13.437035Z",
     "start_time": "2020-03-12T03:39:13.433000Z"
    },
    "colab": {},
    "colab_type": "code",
    "id": "lWzwcOImd1Up"
   },
   "outputs": [
    {
     "name": "stdout",
     "output_type": "stream",
     "text": [
      "Net(\n",
      "  (conv1): Conv2d(3, 6, kernel_size=(5, 5), stride=(1, 1))\n",
      "  (pool): MaxPool2d(kernel_size=2, stride=2, padding=0, dilation=1, ceil_mode=False)\n",
      "  (conv2): Conv2d(6, 16, kernel_size=(5, 5), stride=(1, 1))\n",
      "  (pool1): MaxPool2d(kernel_size=2, stride=2, padding=0, dilation=1, ceil_mode=False)\n",
      "  (fc1): Linear(in_features=400, out_features=120, bias=True)\n",
      "  (fc2): Linear(in_features=120, out_features=10, bias=True)\n",
      "  (criterion): CrossEntropyLoss()\n",
      ")\n"
     ]
    }
   ],
   "source": [
    "print(net)"
   ]
  },
  {
   "cell_type": "markdown",
   "metadata": {
    "colab_type": "text",
    "id": "mA9MPEF-d1Uu"
   },
   "source": [
    "TensorBoard can help visualize the network graph. It takes practice to read these.  \n",
    "\n",
    "Write the graph to TensorBoard and review it."
   ]
  },
  {
   "cell_type": "code",
   "execution_count": 37,
   "metadata": {
    "ExecuteTime": {
     "end_time": "2020-03-12T03:22:27.132650Z",
     "start_time": "2020-03-12T03:22:27.080267Z"
    },
    "colab": {},
    "colab_type": "code",
    "id": "-SQqQ84ad1Uw"
   },
   "outputs": [],
   "source": [
    "writer.add_graph(net, images)\n",
    "writer.flush()"
   ]
  },
  {
   "cell_type": "markdown",
   "metadata": {
    "colab_type": "text",
    "id": "ZXMEekp5d1U0"
   },
   "source": [
    "You can also use the package `torchsummary` for a fuller info on the model:"
   ]
  },
  {
   "cell_type": "code",
   "execution_count": 38,
   "metadata": {
    "ExecuteTime": {
     "end_time": "2020-03-12T03:39:34.927085Z",
     "start_time": "2020-03-12T03:39:30.883979Z"
    },
    "colab": {},
    "colab_type": "code",
    "id": "ObeKC-kmd1U2",
    "outputId": "a00a4017-cd09-4779-801a-3390a1065875"
   },
   "outputs": [
    {
     "name": "stdout",
     "output_type": "stream",
     "text": [
      "Requirement already satisfied: torchsummary in /Users/mariao/opt/anaconda3/lib/python3.7/site-packages (1.5.1)\r\n"
     ]
    }
   ],
   "source": [
    "!pip install torchsummary"
   ]
  },
  {
   "cell_type": "code",
   "execution_count": 39,
   "metadata": {
    "ExecuteTime": {
     "end_time": "2020-03-12T03:40:32.330002Z",
     "start_time": "2020-03-12T03:40:32.304145Z"
    },
    "colab": {},
    "colab_type": "code",
    "id": "UWyYyXjJd1U7"
   },
   "outputs": [
    {
     "name": "stdout",
     "output_type": "stream",
     "text": [
      "----------------------------------------------------------------\n",
      "        Layer (type)               Output Shape         Param #\n",
      "================================================================\n",
      "            Conv2d-1            [-1, 6, 28, 28]             456\n",
      "         MaxPool2d-2            [-1, 6, 14, 14]               0\n",
      "            Conv2d-3           [-1, 16, 10, 10]           2,416\n",
      "         MaxPool2d-4             [-1, 16, 5, 5]               0\n",
      "            Linear-5                  [-1, 120]          48,120\n",
      "            Linear-6                   [-1, 10]           1,210\n",
      "================================================================\n",
      "Total params: 52,202\n",
      "Trainable params: 52,202\n",
      "Non-trainable params: 0\n",
      "----------------------------------------------------------------\n",
      "Input size (MB): 0.01\n",
      "Forward/backward pass size (MB): 0.06\n",
      "Params size (MB): 0.20\n",
      "Estimated Total Size (MB): 0.27\n",
      "----------------------------------------------------------------\n"
     ]
    }
   ],
   "source": [
    "channels=3; H=32; W=32\n",
    "from torchsummary import summary\n",
    "summary(net, input_size=(channels, H, W))"
   ]
  },
  {
   "cell_type": "markdown",
   "metadata": {
    "colab_type": "text",
    "id": "ZQUNiezwd1VA"
   },
   "source": [
    "## Train the network\n",
    "Next, we'll train the network. In the training loop, log relevant metrics that would allow you to plot in TensorBoard:"
   ]
  },
  {
   "cell_type": "markdown",
   "metadata": {
    "colab_type": "text",
    "id": "0i6i-c1Id1VB"
   },
   "source": [
    "1. The network loss\n",
    "1. Train and test error\n",
    "1. Average weight in the first layer - TODO\n",
    "1. Histogram of weights in the first layer - TODO"
   ]
  },
  {
   "cell_type": "code",
   "execution_count": 33,
   "metadata": {
    "ExecuteTime": {
     "end_time": "2020-03-12T02:25:56.483936Z",
     "start_time": "2020-03-12T02:17:35.780050Z"
    },
    "colab": {},
    "colab_type": "code",
    "id": "wCQdctVMd1VC"
   },
   "outputs": [
    {
     "name": "stdout",
     "output_type": "stream",
     "text": [
      "[1,  2000] loss: 1.789\n",
      "[1,  4000] loss: 1.580\n",
      "[1,  6000] loss: 1.487\n",
      "[1,  8000] loss: 1.416\n",
      "[1, 10000] loss: 1.399\n",
      "[1, 12000] loss: 1.376\n",
      "[2,  2000] loss: 1.288\n",
      "[2,  4000] loss: 1.274\n",
      "[2,  6000] loss: 1.245\n",
      "[2,  8000] loss: 1.232\n",
      "[2, 10000] loss: 1.233\n",
      "[2, 12000] loss: 1.216\n",
      "Finished Training\n",
      "Accuracy of the network on the train data: 0.61\n",
      "Accuracy of the network on the test data: 0.58\n"
     ]
    }
   ],
   "source": [
    "net.trainWithLoader(trainloader)\n",
    "print('Accuracy of the network on the train data: %.2f' % net.evaluate(trainloader))\n",
    "print('Accuracy of the network on the test data: %.2f' % net.evaluate(testloader))"
   ]
  },
  {
   "cell_type": "markdown",
   "metadata": {
    "colab_type": "text",
    "id": "gsG0tMCId1VG"
   },
   "source": [
    "### Precision-Recall Curve\n",
    "Use TensorBoard to plot the precision-recall curve:"
   ]
  },
  {
   "cell_type": "code",
   "execution_count": 40,
   "metadata": {
    "colab": {},
    "colab_type": "code",
    "id": "oRrZfVGfd1VJ"
   },
   "outputs": [],
   "source": [
    "# 1. gets the probability predictions in a test_size x num_classes Tensor\n",
    "# 2. gets the preds in a test_size Tensor\n",
    "\n",
    "class_probs = []\n",
    "class_preds = []\n",
    "with torch.no_grad():\n",
    "    for data in testloader:\n",
    "        images, labels = data\n",
    "        output = net(images)\n",
    "        class_probs_batch = [F.softmax(el, dim=0) for el in output]\n",
    "        _, class_preds_batch = torch.max(output, 1)\n",
    "\n",
    "        class_probs.append(class_probs_batch)\n",
    "        class_preds.append(class_preds_batch)\n",
    "\n",
    "test_probs = torch.cat([torch.stack(batch) for batch in class_probs])\n",
    "test_preds = torch.cat(class_preds)\n",
    "\n",
    "def add_pr_curve_tensorboard(class_index, test_probs, test_preds):\n",
    "    '''\n",
    "    Takes in a \"class_index\" from 0 to 9 and plots the corresponding\n",
    "    precision-recall curve\n",
    "    '''\n",
    "    tensorboard_preds = test_preds == class_index\n",
    "    tensorboard_probs = test_probs[:, class_index]\n",
    "\n",
    "    writer.add_pr_curve(classes[class_index],\n",
    "                        tensorboard_preds,\n",
    "                        tensorboard_probs,\n",
    "                        global_step=global_step)\n",
    "    writer.flush()\n",
    "\n",
    "# plot all the pr curves\n",
    "for i in range(len(classes)):\n",
    "    add_pr_curve_tensorboard(i, test_probs, test_preds)\n",
    "\n",
    "writer.close()"
   ]
  },
  {
   "cell_type": "markdown",
   "metadata": {
    "colab_type": "text",
    "id": "2_1mq7sod1VN"
   },
   "source": [
    "### Display Model Errors\n",
    "A valuable practice is to review errors made by the model in the test set. These might reveal cases of bad preprocessing or lead to come up with improvements to your original model.\n",
    "\n",
    "Show 12 images of errors made by the model. For each, display the true and predicted classes, and the model confidence in its answer."
   ]
  },
  {
   "cell_type": "code",
   "execution_count": 169,
   "metadata": {
    "colab": {},
    "colab_type": "code",
    "id": "Ut-vj_Efd1VP"
   },
   "outputs": [
    {
     "data": {
      "image/png": "[encoded data removed]",
      "text/plain": [
       "<Figure size 432x288 with 1 Axes>"
      ]
     },
     "metadata": {
      "needs_background": "light"
     },
     "output_type": "display_data"
    },
    {
     "name": "stdout",
     "output_type": "stream",
     "text": [
      "True class \"plane\", predicted \"ship\", confidence 0.86\n"
     ]
    },
    {
     "data": {
      "image/png": "[encoded data removed]",
      "text/plain": [
       "<Figure size 432x288 with 1 Axes>"
      ]
     },
     "metadata": {
      "needs_background": "light"
     },
     "output_type": "display_data"
    },
    {
     "name": "stdout",
     "output_type": "stream",
     "text": [
      "True class \"car\", predicted \"frog\", confidence 0.22\n"
     ]
    },
    {
     "data": {
      "image/png": "[encoded data removed]",
      "text/plain": [
       "<Figure size 432x288 with 1 Axes>"
      ]
     },
     "metadata": {
      "needs_background": "light"
     },
     "output_type": "display_data"
    },
    {
     "name": "stdout",
     "output_type": "stream",
     "text": [
      "True class \"cat\", predicted \"dog\", confidence 0.33\n"
     ]
    },
    {
     "data": {
      "image/png": "[encoded data removed]",
      "text/plain": [
       "<Figure size 432x288 with 1 Axes>"
      ]
     },
     "metadata": {
      "needs_background": "light"
     },
     "output_type": "display_data"
    },
    {
     "name": "stdout",
     "output_type": "stream",
     "text": [
      "True class \"dog\", predicted \"frog\", confidence 0.22\n"
     ]
    },
    {
     "data": {
      "image/png": "[encoded data removed]",
      "text/plain": [
       "<Figure size 432x288 with 1 Axes>"
      ]
     },
     "metadata": {
      "needs_background": "light"
     },
     "output_type": "display_data"
    },
    {
     "name": "stdout",
     "output_type": "stream",
     "text": [
      "True class \"truck\", predicted \"car\", confidence 0.45\n"
     ]
    },
    {
     "data": {
      "image/png": "[encoded data removed]",
      "text/plain": [
       "<Figure size 432x288 with 1 Axes>"
      ]
     },
     "metadata": {
      "needs_background": "light"
     },
     "output_type": "display_data"
    },
    {
     "name": "stdout",
     "output_type": "stream",
     "text": [
      "True class \"ship\", predicted \"frog\", confidence 0.32\n"
     ]
    },
    {
     "data": {
      "image/png": "[encoded data removed]",
      "text/plain": [
       "<Figure size 432x288 with 1 Axes>"
      ]
     },
     "metadata": {
      "needs_background": "light"
     },
     "output_type": "display_data"
    },
    {
     "name": "stdout",
     "output_type": "stream",
     "text": [
      "True class \"horse\", predicted \"cat\", confidence 0.33\n"
     ]
    },
    {
     "data": {
      "image/png": "[encoded data removed]",
      "text/plain": [
       "<Figure size 432x288 with 1 Axes>"
      ]
     },
     "metadata": {
      "needs_background": "light"
     },
     "output_type": "display_data"
    },
    {
     "name": "stdout",
     "output_type": "stream",
     "text": [
      "True class \"horse\", predicted \"truck\", confidence 0.27\n"
     ]
    },
    {
     "data": {
      "image/png": "[encoded data removed]",
      "text/plain": [
       "<Figure size 432x288 with 1 Axes>"
      ]
     },
     "metadata": {
      "needs_background": "light"
     },
     "output_type": "display_data"
    },
    {
     "name": "stdout",
     "output_type": "stream",
     "text": [
      "True class \"deer\", predicted \"plane\", confidence 0.46\n"
     ]
    },
    {
     "data": {
      "image/png": "[encoded data removed]",
      "text/plain": [
       "<Figure size 432x288 with 1 Axes>"
      ]
     },
     "metadata": {
      "needs_background": "light"
     },
     "output_type": "display_data"
    },
    {
     "name": "stdout",
     "output_type": "stream",
     "text": [
      "True class \"dog\", predicted \"deer\", confidence 0.55\n"
     ]
    },
    {
     "data": {
      "image/png": "[encoded data removed]",
      "text/plain": [
       "<Figure size 432x288 with 1 Axes>"
      ]
     },
     "metadata": {
      "needs_background": "light"
     },
     "output_type": "display_data"
    },
    {
     "name": "stdout",
     "output_type": "stream",
     "text": [
      "True class \"bird\", predicted \"deer\", confidence 0.40\n"
     ]
    },
    {
     "data": {
      "image/png": "[encoded data removed]",
      "text/plain": [
       "<Figure size 432x288 with 1 Axes>"
      ]
     },
     "metadata": {
      "needs_background": "light"
     },
     "output_type": "display_data"
    },
    {
     "name": "stdout",
     "output_type": "stream",
     "text": [
      "True class \"plane\", predicted \"deer\", confidence 0.27\n"
     ]
    }
   ],
   "source": [
    "displayed = 12\n",
    "true_targets = torch.IntTensor(testset.targets)\n",
    "misclassified = np.where(test_preds != true_targets)[0][:displayed]\n",
    "\n",
    "for i in misclassified:\n",
    "    plt.imshow(testset.data[i], interpolation='nearest')\n",
    "    plt.show()\n",
    "    true_class = classes[testset.targets[i]]\n",
    "    pred_class = classes[test_preds[i].numpy()]\n",
    "    print('True class \"%s\", predicted \"%s\", confidence %.2f' % (true_class, pred_class, test_probs[i].max().numpy()))"
   ]
  },
  {
   "cell_type": "markdown",
   "metadata": {},
   "source": [
    "It looks like the model bases its predicition on the prevalent color - if it's green then it predicts \"deer\", if it's blue then it predicts \"plane\"."
   ]
  },
  {
   "cell_type": "markdown",
   "metadata": {
    "colab_type": "text",
    "id": "Cqj4CjKQd1VU"
   },
   "source": [
    "## Batch Normalization - Avshalom?\n",
    "In this section, we'll add a Batch Norm layer to your network.  \n",
    "Use TensorBoard to compare the network's convergence (train and validation loss) with and without Batch Normalization."
   ]
  },
  {
   "cell_type": "code",
   "execution_count": null,
   "metadata": {},
   "outputs": [],
   "source": []
  },
  {
   "cell_type": "code",
   "execution_count": null,
   "metadata": {
    "ExecuteTime": {
     "end_time": "2020-03-12T02:02:02.225508Z",
     "start_time": "2020-03-12T02:02:02.204005Z"
    },
    "colab": {},
    "colab_type": "code",
    "id": "gFpaTKvId1VV"
   },
   "outputs": [],
   "source": []
  },
  {
   "cell_type": "markdown",
   "metadata": {
    "colab_type": "text",
    "id": "0ViX5cpnd1Ve"
   },
   "source": [
    "Use TensorBoard to plot the distribution of activations with and without Batch Normalization."
   ]
  },
  {
   "cell_type": "code",
   "execution_count": null,
   "metadata": {
    "colab": {},
    "colab_type": "code",
    "id": "bXfRwOu2d1Vf"
   },
   "outputs": [],
   "source": []
  },
  {
   "cell_type": "code",
   "execution_count": null,
   "metadata": {
    "colab": {},
    "colab_type": "code",
    "id": "xRfzjStEd1Vi"
   },
   "outputs": [],
   "source": []
  },
  {
   "cell_type": "code",
   "execution_count": null,
   "metadata": {
    "colab": {},
    "colab_type": "code",
    "id": "V2ndm7bOd1Vl"
   },
   "outputs": [],
   "source": []
  },
  {
   "cell_type": "markdown",
   "metadata": {
    "colab_type": "text",
    "id": "GlxnNHEId1Vp"
   },
   "source": [
    "## Data Augmentation\n",
    "Augmenting the data is a useful trick to increase the size of the training set and reduce the generalization error.  \n",
    "\n",
    "Useful resources: \n",
    "- [Explanation about augmentation](https://www.analyticsvidhya.com/blog/2019/12/image-augmentation-deep-learning-pytorch/)\n",
    "- The [torchvision transforms documentation](https://pytorch.org/docs/stable/torchvision/transforms.html)\n",
    "- The [albumentations](https://github.com/albumentations-team/albumentations) repo"
   ]
  },
  {
   "cell_type": "markdown",
   "metadata": {
    "colab_type": "text",
    "id": "ITdwG06Pd1Vr"
   },
   "source": [
    "Try to think which transformation can be useful for data augmentation for our task?"
   ]
  },
  {
   "cell_type": "code",
   "execution_count": null,
   "metadata": {
    "colab": {},
    "colab_type": "code",
    "id": "JqkAqQjqd1Vs"
   },
   "outputs": [],
   "source": []
  },
  {
   "cell_type": "markdown",
   "metadata": {
    "colab_type": "text",
    "id": "KBN4GBj-d1Vu"
   },
   "source": [
    "Apply 1 or 2 basic transformations and check how they affect the network's performance:"
   ]
  },
  {
   "cell_type": "code",
   "execution_count": null,
   "metadata": {
    "colab": {},
    "colab_type": "code",
    "id": "Fv2nQBPnd1Vw"
   },
   "outputs": [],
   "source": []
  },
  {
   "cell_type": "markdown",
   "metadata": {
    "colab_type": "text",
    "id": "H9Yl7gJad1Vz"
   },
   "source": [
    "## Transfer learning using a NN pre-trained on ImageNet\n",
    "In this section, we will use a pretrained network and build a classifier using it to predict the labels of our task."
   ]
  },
  {
   "cell_type": "markdown",
   "metadata": {
    "colab_type": "text",
    "id": "RFiF7XN0d1V0"
   },
   "source": [
    "You might find these resources useful:\n",
    "- https://pytorch.org/tutorials/beginner/transfer_learning_tutorial.html\n",
    "- https://towardsdatascience.com/transfer-learning-with-convolutional-neural-networks-in-pytorch-dd09190245ce\n",
    "- https://www.analyticsvidhya.com/blog/2019/10/how-to-master-transfer-learning-using-pytorch/\n",
    "- https://heartbeat.fritz.ai/transfer-learning-with-pytorch-cfcb69016c72"
   ]
  },
  {
   "cell_type": "markdown",
   "metadata": {
    "colab_type": "text",
    "id": "xLrA8m6Fd1V1"
   },
   "source": [
    "### Use a frozen pre-trained network\n",
    "Use a VGG-16 network, including its weights pretrained on ImageNet.  \n",
    "Use the pretrained network to obtain the distributed representation in the final layer (the one before the output softmax layer). Freeze the network weights, and add 2 fully connected layers on top of it to classify the images."
   ]
  },
  {
   "cell_type": "code",
   "execution_count": null,
   "metadata": {
    "colab": {},
    "colab_type": "code",
    "id": "34aeYQTxd1V2"
   },
   "outputs": [],
   "source": []
  },
  {
   "cell_type": "markdown",
   "metadata": {
    "colab_type": "text",
    "id": "1H5-zJ9bd1V5"
   },
   "source": [
    "### Fine tuning the weights\n",
    "In this section, we'll unfreeze the pre-trained weights of the network and allow them to change.  \n",
    "Be careful - when fine-tuning a network, there is a risk that our attempt to allow the network to adapt to the new domain will lead to a \"catastrophic forgetting\" of what it had previously learnt."
   ]
  },
  {
   "cell_type": "code",
   "execution_count": null,
   "metadata": {
    "colab": {},
    "colab_type": "code",
    "id": "JpjqLTVCd1V6"
   },
   "outputs": [],
   "source": []
  },
  {
   "cell_type": "markdown",
   "metadata": {
    "colab_type": "text",
    "id": "umo4wi-Nd1V9"
   },
   "source": [
    "## Suggested Resources\n",
    "1. A good explanation of the different losses - https://gombru.github.io/2019/04/03/ranking_loss/\n",
    "1. A repo with code implementing CNN classifiers, Siamese networks and Triplet loss with different selection regimes for the MNIST and Fashion-MNIST datasets - https://github.com/adambielski/siamese-triplet\n",
    "1. There are several resources online for the VGG-Face network (see https://www.robots.ox.ac.uk/~vgg/publications/2015/Parkhi15/parkhi15.pdf), that include pre-trained weights on a face recognition dataset. The weights are here - http://www.robots.ox.ac.uk/~vgg/software/vgg_face/, and PyTorch models are here - http://www.robots.ox.ac.uk/~albanie/pytorch-models.html, and you can also check out https://github.com/prlz77/vgg-face.pytorch and https://github.com/claudio-unipv/vggface-pytorch."
   ]
  }
 ],
 "metadata": {
  "colab": {
   "name": "NN_in_pytorch.ipynb",
   "provenance": []
  },
  "kernelspec": {
   "display_name": "Python 3",
   "language": "python",
   "name": "python3"
  },
  "language_info": {
   "codemirror_mode": {
    "name": "ipython",
    "version": 3
   },
   "file_extension": ".py",
   "mimetype": "text/x-python",
   "name": "python",
   "nbconvert_exporter": "python",
   "pygments_lexer": "ipython3",
   "version": "3.7.4"
  }
 },
 "nbformat": 4,
 "nbformat_minor": 1
}
