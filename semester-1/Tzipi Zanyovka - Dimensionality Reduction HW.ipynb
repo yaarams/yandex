{
 "cells": [
  {
   "cell_type": "markdown",
   "metadata": {},
   "source": [
    "# Dimensionality reduction"
   ]
  },
  {
   "cell_type": "markdown",
   "metadata": {},
   "source": [
    "In this task you will practice dimensionality reduction.\n",
    "Use code cells to answer the Tasks and Markdown cells for the Questions (Q's)."
   ]
  },
  {
   "cell_type": "code",
   "execution_count": 1,
   "metadata": {
    "ExecuteTime": {
     "end_time": "2020-01-19T21:37:49.671250Z",
     "start_time": "2020-01-19T21:37:49.507815Z"
    },
    "_cell_guid": "b1076dfc-b9ad-4769-8c92-a6c4dae69d19",
    "_uuid": "8f2839f25d086af736a60e9eeb907d3b93b6e0e5"
   },
   "outputs": [],
   "source": [
    "import sklearn\n",
    "from sklearn.tree import DecisionTreeClassifier\n",
    "from sklearn.model_selection import train_test_split\n",
    "from sklearn.datasets import load_breast_cancer\n",
    "import pandas as pd\n",
    "from sklearn.metrics import accuracy_score\n",
    "from sklearn.ensemble import RandomForestClassifier\n",
    "from sklearn.decomposition import PCA\n",
    "from sklearn.datasets import load_wine\n",
    "from sklearn.linear_model import LogisticRegression\n",
    "import numpy as np\n"
   ]
  },
  {
   "cell_type": "markdown",
   "metadata": {},
   "source": [
    "# Load data"
   ]
  },
  {
   "cell_type": "code",
   "execution_count": 2,
   "metadata": {
    "ExecuteTime": {
     "end_time": "2020-01-19T21:37:50.557100Z",
     "start_time": "2020-01-19T21:37:50.550698Z"
    }
   },
   "outputs": [],
   "source": [
    "(X, y) = load_wine(return_X_y=True)\n",
    "\n",
    "# split X into training and testing sets\n",
    "X_train, X_test, y_train, y_test = train_test_split(X, y, test_size=0.4, random_state=0,stratify=y)"
   ]
  },
  {
   "cell_type": "markdown",
   "metadata": {},
   "source": [
    "Lets take a quick look at the data:"
   ]
  },
  {
   "cell_type": "code",
   "execution_count": 3,
   "metadata": {
    "ExecuteTime": {
     "end_time": "2020-01-19T21:37:51.419334Z",
     "start_time": "2020-01-19T21:37:51.379508Z"
    }
   },
   "outputs": [
    {
     "data": {
      "text/html": [
       "<div>\n",
       "<style scoped>\n",
       "    .dataframe tbody tr th:only-of-type {\n",
       "        vertical-align: middle;\n",
       "    }\n",
       "\n",
       "    .dataframe tbody tr th {\n",
       "        vertical-align: top;\n",
       "    }\n",
       "\n",
       "    .dataframe thead th {\n",
       "        text-align: right;\n",
       "    }\n",
       "</style>\n",
       "<table border=\"1\" class=\"dataframe\">\n",
       "  <thead>\n",
       "    <tr style=\"text-align: right;\">\n",
       "      <th></th>\n",
       "      <th>0</th>\n",
       "      <th>1</th>\n",
       "      <th>2</th>\n",
       "      <th>3</th>\n",
       "      <th>4</th>\n",
       "      <th>5</th>\n",
       "      <th>6</th>\n",
       "      <th>7</th>\n",
       "      <th>8</th>\n",
       "      <th>9</th>\n",
       "      <th>10</th>\n",
       "      <th>11</th>\n",
       "      <th>12</th>\n",
       "    </tr>\n",
       "  </thead>\n",
       "  <tbody>\n",
       "    <tr>\n",
       "      <th>count</th>\n",
       "      <td>106.000000</td>\n",
       "      <td>106.000000</td>\n",
       "      <td>106.000000</td>\n",
       "      <td>106.000000</td>\n",
       "      <td>106.000000</td>\n",
       "      <td>106.000000</td>\n",
       "      <td>106.000000</td>\n",
       "      <td>106.000000</td>\n",
       "      <td>106.000000</td>\n",
       "      <td>106.000000</td>\n",
       "      <td>106.000000</td>\n",
       "      <td>106.000000</td>\n",
       "      <td>106.000000</td>\n",
       "    </tr>\n",
       "    <tr>\n",
       "      <th>mean</th>\n",
       "      <td>13.031792</td>\n",
       "      <td>2.332642</td>\n",
       "      <td>2.367170</td>\n",
       "      <td>19.701887</td>\n",
       "      <td>98.556604</td>\n",
       "      <td>2.282170</td>\n",
       "      <td>1.981509</td>\n",
       "      <td>0.375755</td>\n",
       "      <td>1.620849</td>\n",
       "      <td>5.150472</td>\n",
       "      <td>0.951321</td>\n",
       "      <td>2.617830</td>\n",
       "      <td>756.915094</td>\n",
       "    </tr>\n",
       "    <tr>\n",
       "      <th>std</th>\n",
       "      <td>0.821117</td>\n",
       "      <td>1.126702</td>\n",
       "      <td>0.271797</td>\n",
       "      <td>3.159023</td>\n",
       "      <td>13.749514</td>\n",
       "      <td>0.573592</td>\n",
       "      <td>1.013492</td>\n",
       "      <td>0.124869</td>\n",
       "      <td>0.592705</td>\n",
       "      <td>2.443026</td>\n",
       "      <td>0.216509</td>\n",
       "      <td>0.680315</td>\n",
       "      <td>326.825135</td>\n",
       "    </tr>\n",
       "    <tr>\n",
       "      <th>min</th>\n",
       "      <td>11.460000</td>\n",
       "      <td>0.890000</td>\n",
       "      <td>1.700000</td>\n",
       "      <td>12.000000</td>\n",
       "      <td>70.000000</td>\n",
       "      <td>1.250000</td>\n",
       "      <td>0.470000</td>\n",
       "      <td>0.130000</td>\n",
       "      <td>0.420000</td>\n",
       "      <td>1.740000</td>\n",
       "      <td>0.480000</td>\n",
       "      <td>1.270000</td>\n",
       "      <td>278.000000</td>\n",
       "    </tr>\n",
       "    <tr>\n",
       "      <th>25%</th>\n",
       "      <td>12.332500</td>\n",
       "      <td>1.632500</td>\n",
       "      <td>2.210000</td>\n",
       "      <td>17.500000</td>\n",
       "      <td>88.000000</td>\n",
       "      <td>1.800000</td>\n",
       "      <td>1.017500</td>\n",
       "      <td>0.270000</td>\n",
       "      <td>1.252500</td>\n",
       "      <td>3.180000</td>\n",
       "      <td>0.802500</td>\n",
       "      <td>1.972500</td>\n",
       "      <td>510.000000</td>\n",
       "    </tr>\n",
       "    <tr>\n",
       "      <th>50%</th>\n",
       "      <td>13.135000</td>\n",
       "      <td>1.845000</td>\n",
       "      <td>2.350000</td>\n",
       "      <td>19.500000</td>\n",
       "      <td>97.000000</td>\n",
       "      <td>2.210000</td>\n",
       "      <td>2.035000</td>\n",
       "      <td>0.360000</td>\n",
       "      <td>1.545000</td>\n",
       "      <td>4.800000</td>\n",
       "      <td>0.960000</td>\n",
       "      <td>2.795000</td>\n",
       "      <td>675.000000</td>\n",
       "    </tr>\n",
       "    <tr>\n",
       "      <th>75%</th>\n",
       "      <td>13.677500</td>\n",
       "      <td>3.135000</td>\n",
       "      <td>2.580000</td>\n",
       "      <td>21.575000</td>\n",
       "      <td>105.750000</td>\n",
       "      <td>2.787500</td>\n",
       "      <td>2.855000</td>\n",
       "      <td>0.477500</td>\n",
       "      <td>1.970000</td>\n",
       "      <td>6.200000</td>\n",
       "      <td>1.097500</td>\n",
       "      <td>3.167500</td>\n",
       "      <td>1023.750000</td>\n",
       "    </tr>\n",
       "    <tr>\n",
       "      <th>max</th>\n",
       "      <td>14.830000</td>\n",
       "      <td>5.650000</td>\n",
       "      <td>3.230000</td>\n",
       "      <td>28.500000</td>\n",
       "      <td>151.000000</td>\n",
       "      <td>3.380000</td>\n",
       "      <td>5.080000</td>\n",
       "      <td>0.630000</td>\n",
       "      <td>3.580000</td>\n",
       "      <td>13.000000</td>\n",
       "      <td>1.420000</td>\n",
       "      <td>4.000000</td>\n",
       "      <td>1680.000000</td>\n",
       "    </tr>\n",
       "  </tbody>\n",
       "</table>\n",
       "</div>"
      ],
      "text/plain": [
       "               0           1           2           3           4           5   \\\n",
       "count  106.000000  106.000000  106.000000  106.000000  106.000000  106.000000   \n",
       "mean    13.031792    2.332642    2.367170   19.701887   98.556604    2.282170   \n",
       "std      0.821117    1.126702    0.271797    3.159023   13.749514    0.573592   \n",
       "min     11.460000    0.890000    1.700000   12.000000   70.000000    1.250000   \n",
       "25%     12.332500    1.632500    2.210000   17.500000   88.000000    1.800000   \n",
       "50%     13.135000    1.845000    2.350000   19.500000   97.000000    2.210000   \n",
       "75%     13.677500    3.135000    2.580000   21.575000  105.750000    2.787500   \n",
       "max     14.830000    5.650000    3.230000   28.500000  151.000000    3.380000   \n",
       "\n",
       "               6           7           8           9           10          11  \\\n",
       "count  106.000000  106.000000  106.000000  106.000000  106.000000  106.000000   \n",
       "mean     1.981509    0.375755    1.620849    5.150472    0.951321    2.617830   \n",
       "std      1.013492    0.124869    0.592705    2.443026    0.216509    0.680315   \n",
       "min      0.470000    0.130000    0.420000    1.740000    0.480000    1.270000   \n",
       "25%      1.017500    0.270000    1.252500    3.180000    0.802500    1.972500   \n",
       "50%      2.035000    0.360000    1.545000    4.800000    0.960000    2.795000   \n",
       "75%      2.855000    0.477500    1.970000    6.200000    1.097500    3.167500   \n",
       "max      5.080000    0.630000    3.580000   13.000000    1.420000    4.000000   \n",
       "\n",
       "                12  \n",
       "count   106.000000  \n",
       "mean    756.915094  \n",
       "std     326.825135  \n",
       "min     278.000000  \n",
       "25%     510.000000  \n",
       "50%     675.000000  \n",
       "75%    1023.750000  \n",
       "max    1680.000000  "
      ]
     },
     "execution_count": 3,
     "metadata": {},
     "output_type": "execute_result"
    }
   ],
   "source": [
    "pd.DataFrame(X_train).describe()"
   ]
  },
  {
   "cell_type": "code",
   "execution_count": 4,
   "metadata": {
    "ExecuteTime": {
     "end_time": "2020-01-19T21:37:51.790915Z",
     "start_time": "2020-01-19T21:37:51.779564Z"
    }
   },
   "outputs": [
    {
     "data": {
      "text/html": [
       "<div>\n",
       "<style scoped>\n",
       "    .dataframe tbody tr th:only-of-type {\n",
       "        vertical-align: middle;\n",
       "    }\n",
       "\n",
       "    .dataframe tbody tr th {\n",
       "        vertical-align: top;\n",
       "    }\n",
       "\n",
       "    .dataframe thead th {\n",
       "        text-align: right;\n",
       "    }\n",
       "</style>\n",
       "<table border=\"1\" class=\"dataframe\">\n",
       "  <thead>\n",
       "    <tr style=\"text-align: right;\">\n",
       "      <th></th>\n",
       "      <th>0</th>\n",
       "      <th>1</th>\n",
       "      <th>2</th>\n",
       "      <th>3</th>\n",
       "      <th>4</th>\n",
       "      <th>5</th>\n",
       "      <th>6</th>\n",
       "      <th>7</th>\n",
       "      <th>8</th>\n",
       "      <th>9</th>\n",
       "      <th>10</th>\n",
       "      <th>11</th>\n",
       "      <th>12</th>\n",
       "    </tr>\n",
       "  </thead>\n",
       "  <tbody>\n",
       "    <tr>\n",
       "      <th>0</th>\n",
       "      <td>13.52</td>\n",
       "      <td>3.17</td>\n",
       "      <td>2.72</td>\n",
       "      <td>23.5</td>\n",
       "      <td>97.0</td>\n",
       "      <td>1.55</td>\n",
       "      <td>0.52</td>\n",
       "      <td>0.50</td>\n",
       "      <td>0.55</td>\n",
       "      <td>4.35</td>\n",
       "      <td>0.89</td>\n",
       "      <td>2.06</td>\n",
       "      <td>520.0</td>\n",
       "    </tr>\n",
       "    <tr>\n",
       "      <th>1</th>\n",
       "      <td>13.73</td>\n",
       "      <td>1.50</td>\n",
       "      <td>2.70</td>\n",
       "      <td>22.5</td>\n",
       "      <td>101.0</td>\n",
       "      <td>3.00</td>\n",
       "      <td>3.25</td>\n",
       "      <td>0.29</td>\n",
       "      <td>2.38</td>\n",
       "      <td>5.70</td>\n",
       "      <td>1.19</td>\n",
       "      <td>2.71</td>\n",
       "      <td>1285.0</td>\n",
       "    </tr>\n",
       "    <tr>\n",
       "      <th>2</th>\n",
       "      <td>13.76</td>\n",
       "      <td>1.53</td>\n",
       "      <td>2.70</td>\n",
       "      <td>19.5</td>\n",
       "      <td>132.0</td>\n",
       "      <td>2.95</td>\n",
       "      <td>2.74</td>\n",
       "      <td>0.50</td>\n",
       "      <td>1.35</td>\n",
       "      <td>5.40</td>\n",
       "      <td>1.25</td>\n",
       "      <td>3.00</td>\n",
       "      <td>1235.0</td>\n",
       "    </tr>\n",
       "    <tr>\n",
       "      <th>3</th>\n",
       "      <td>12.58</td>\n",
       "      <td>1.29</td>\n",
       "      <td>2.10</td>\n",
       "      <td>20.0</td>\n",
       "      <td>103.0</td>\n",
       "      <td>1.48</td>\n",
       "      <td>0.58</td>\n",
       "      <td>0.53</td>\n",
       "      <td>1.40</td>\n",
       "      <td>7.60</td>\n",
       "      <td>0.58</td>\n",
       "      <td>1.55</td>\n",
       "      <td>640.0</td>\n",
       "    </tr>\n",
       "    <tr>\n",
       "      <th>4</th>\n",
       "      <td>12.77</td>\n",
       "      <td>3.43</td>\n",
       "      <td>1.98</td>\n",
       "      <td>16.0</td>\n",
       "      <td>80.0</td>\n",
       "      <td>1.63</td>\n",
       "      <td>1.25</td>\n",
       "      <td>0.43</td>\n",
       "      <td>0.83</td>\n",
       "      <td>3.40</td>\n",
       "      <td>0.70</td>\n",
       "      <td>2.12</td>\n",
       "      <td>372.0</td>\n",
       "    </tr>\n",
       "  </tbody>\n",
       "</table>\n",
       "</div>"
      ],
      "text/plain": [
       "       0     1     2     3      4     5     6     7     8     9    10    11  \\\n",
       "0  13.52  3.17  2.72  23.5   97.0  1.55  0.52  0.50  0.55  4.35  0.89  2.06   \n",
       "1  13.73  1.50  2.70  22.5  101.0  3.00  3.25  0.29  2.38  5.70  1.19  2.71   \n",
       "2  13.76  1.53  2.70  19.5  132.0  2.95  2.74  0.50  1.35  5.40  1.25  3.00   \n",
       "3  12.58  1.29  2.10  20.0  103.0  1.48  0.58  0.53  1.40  7.60  0.58  1.55   \n",
       "4  12.77  3.43  1.98  16.0   80.0  1.63  1.25  0.43  0.83  3.40  0.70  2.12   \n",
       "\n",
       "       12  \n",
       "0   520.0  \n",
       "1  1285.0  \n",
       "2  1235.0  \n",
       "3   640.0  \n",
       "4   372.0  "
      ]
     },
     "execution_count": 4,
     "metadata": {},
     "output_type": "execute_result"
    }
   ],
   "source": [
    "pd.DataFrame(X_train).head()"
   ]
  },
  {
   "cell_type": "markdown",
   "metadata": {},
   "source": [
    "# PCA + Random forest"
   ]
  },
  {
   "cell_type": "markdown",
   "metadata": {},
   "source": [
    "Task 1: Use X_train, y_train to train a random forest with the deafult parameters. You can read more about the algorithm in SKlearn's documentation.\n",
    "Evaulate the algorithm using accuracy score and X_test, y_test."
   ]
  },
  {
   "cell_type": "code",
   "execution_count": 5,
   "metadata": {
    "ExecuteTime": {
     "end_time": "2020-01-19T21:37:53.063977Z",
     "start_time": "2020-01-19T21:37:52.948925Z"
    }
   },
   "outputs": [
    {
     "data": {
      "text/plain": [
       "0.9861111111111112"
      ]
     },
     "execution_count": 5,
     "metadata": {},
     "output_type": "execute_result"
    }
   ],
   "source": [
    "# Task 1\n",
    "rf = RandomForestClassifier(random_state = 42)\n",
    "rf.fit(X_train, y_train);\n",
    "y_pred_rf = rf.predict(X_test)\n",
    "accuracy_score(y_test, y_pred_rf)"
   ]
  },
  {
   "cell_type": "markdown",
   "metadata": {},
   "source": [
    "Task 2: Now do the same, but use PCA.\n",
    "\n",
    "In this task, we want to keep all of the variance! No data is going to be discarded.\n",
    "You are asked to use the maximal number of componenets for PCA.\n",
    "\n",
    "Q1: Your co-worker says that the results should be at least as good as the results we had without PCA. Explain why might he say that.\n",
    "\n",
    "Print the accuracy of Random forest + PCA."
   ]
  },
  {
   "cell_type": "code",
   "execution_count": 6,
   "metadata": {
    "ExecuteTime": {
     "end_time": "2020-01-19T21:37:54.260450Z",
     "start_time": "2020-01-19T21:37:54.141592Z"
    }
   },
   "outputs": [
    {
     "data": {
      "text/plain": [
       "0.9305555555555556"
      ]
     },
     "execution_count": 6,
     "metadata": {},
     "output_type": "execute_result"
    }
   ],
   "source": [
    "# Task 2 \n",
    "from sklearn.preprocessing import StandardScaler\n",
    "standardScaler = StandardScaler().fit(X_train)\n",
    "X_train_std = standardScaler.transform(X_train)\n",
    "X_test_std = standardScaler.transform(X_test)\n",
    "\n",
    "# from scikit docs:  if n_components is not set all components are kept:\n",
    "#n_components == min(n_samples, n_features)\n",
    "pca = PCA().fit(X_train_std)\n",
    "X_train_std = pca.transform(X_train_std)\n",
    "X_test_std = pca.transform(X_test_std)\n",
    "\n",
    "rf = RandomForestClassifier(random_state = 42)\n",
    "rf.fit(X_train_std, y_train);\n",
    "y_pred = rf.predict(X_test_std)\n",
    "accuracy_score(y_test, y_pred)"
   ]
  },
  {
   "cell_type": "markdown",
   "metadata": {},
   "source": [
    "A1: As we didn't reduce any dimension - he might have thought fit and predict result of RandomForrestClassifier shouldn't get worse."
   ]
  },
  {
   "cell_type": "markdown",
   "metadata": {},
   "source": [
    "Q2: Did the results improve\\stayed the same\\got worse? "
   ]
  },
  {
   "cell_type": "markdown",
   "metadata": {},
   "source": [
    "A2: The results have gotten worse.\n",
    "\n"
   ]
  },
  {
   "cell_type": "markdown",
   "metadata": {},
   "source": [
    "# PCA + logistice regression"
   ]
  },
  {
   "cell_type": "markdown",
   "metadata": {},
   "source": [
    "Task 3: repeat task 1 with logistic regression.\n",
    "\n",
    "Task 4: repeast task 2 with logistic regression."
   ]
  },
  {
   "cell_type": "code",
   "execution_count": 7,
   "metadata": {
    "ExecuteTime": {
     "end_time": "2020-01-19T21:37:57.775405Z",
     "start_time": "2020-01-19T21:37:56.841513Z"
    }
   },
   "outputs": [
    {
     "data": {
      "text/plain": [
       "0.9444444444444444"
      ]
     },
     "execution_count": 7,
     "metadata": {},
     "output_type": "execute_result"
    }
   ],
   "source": [
    "# Task 3\n",
    "lr = LogisticRegression(random_state = 42, max_iter = 10000)\n",
    "lr.fit(X_train, y_train)\n",
    "y_pred_lr = lr.predict(X_test)\n",
    "accuracy_score(y_test, y_pred_lr)"
   ]
  },
  {
   "cell_type": "code",
   "execution_count": 8,
   "metadata": {
    "ExecuteTime": {
     "end_time": "2020-01-19T21:37:57.928643Z",
     "start_time": "2020-01-19T21:37:57.917169Z"
    }
   },
   "outputs": [
    {
     "data": {
      "text/plain": [
       "0.9861111111111112"
      ]
     },
     "execution_count": 8,
     "metadata": {},
     "output_type": "execute_result"
    }
   ],
   "source": [
    "# Task 4\n",
    "from sklearn.preprocessing import StandardScaler\n",
    "\n",
    "# from scikit docs:  if n_components is not set all components are kept:\n",
    "#n_components == min(n_samples, n_features)\n",
    "pca = PCA().fit(X_train_std)\n",
    "X_train_std = pca.transform(X_train_std)\n",
    "X_test_std = pca.transform(X_test_std)\n",
    "\n",
    "lr = LogisticRegression(random_state = 42)\n",
    "lr.fit(X_train_std, y_train)\n",
    "y_pred = lr.predict(X_test_std)\n",
    "accuracy_score(y_test, y_pred)"
   ]
  },
  {
   "cell_type": "code",
   "execution_count": 9,
   "metadata": {
    "ExecuteTime": {
     "end_time": "2020-01-19T21:37:59.290525Z",
     "start_time": "2020-01-19T21:37:59.135813Z"
    }
   },
   "outputs": [
    {
     "data": {
      "image/png": "[encoded data removed]",
      "text/plain": [
       "<Figure size 432x288 with 1 Axes>"
      ]
     },
     "metadata": {
      "needs_background": "dark"
     },
     "output_type": "display_data"
    }
   ],
   "source": [
    "per_var = np.round(pca.explained_variance_ratio_ * 100, decimals=1)\n",
    "labels = ['PC' + str(x) for x in range(1, len(per_var) + 1)]\n",
    "\n",
    "plt.bar(x=range(1, len(per_var) + 1), height=per_var, tick_label=labels)\n",
    "plt.ylabel('Percentage of Explained Variance')\n",
    "plt.xlabel('Principal Component')\n",
    "plt.title('PCA Plot')\n",
    "plt.show()"
   ]
  },
  {
   "cell_type": "code",
   "execution_count": 10,
   "metadata": {
    "ExecuteTime": {
     "end_time": "2020-01-19T21:38:12.811227Z",
     "start_time": "2020-01-19T21:38:12.659064Z"
    }
   },
   "outputs": [
    {
     "data": {
      "image/png": "[encoded data removed]",
      "text/plain": [
       "<Figure size 432x288 with 1 Axes>"
      ]
     },
     "metadata": {
      "needs_background": "dark"
     },
     "output_type": "display_data"
    }
   ],
   "source": [
    "colors = ['r', 'b', 'g']\n",
    "markers = ['s', 'x', 'o']\n",
    "for l, c, m in zip(np.unique(y_train), colors, markers):\n",
    "    plt.scatter(X_train_std[y_train==l, 0], \n",
    "                X_train_std[y_train==l, 1], \n",
    "                c=c, label=l, marker=m) \n",
    "plt.title('PCA Graph')\n",
    "plt.xlabel('PC1 - {0}%'.format(per_var[0]))\n",
    "plt.ylabel('PC2 - {0}%'.format(per_var[1]))\n",
    "plt.legend(loc='lower left')\n",
    "plt.show()"
   ]
  },
  {
   "cell_type": "markdown",
   "metadata": {},
   "source": [
    "Q3: Did the results improved\\stayed the same\\got worse?"
   ]
  },
  {
   "cell_type": "markdown",
   "metadata": {},
   "source": [
    "A3: The results have improved."
   ]
  },
  {
   "cell_type": "markdown",
   "metadata": {},
   "source": [
    "Q4: How can you explain the difference between answers to Q2 and Q3. Hint: think about the nature of Logistic regression and the main difference of Random forest from it."
   ]
  },
  {
   "cell_type": "markdown",
   "metadata": {},
   "source": [
    "A4: \n",
    "Using PCA on our data before feeding it to either of the classifiers without reducing dimensions has basically rotated our data. \n",
    "This rotation can pose a problem for Decision trees, as they try to horizontally and vertically split the data points.\n",
    "\n",
    "Logistic regression, on the other hand, partitions the feature space by linear boundaries. Since PCA preserves the correlations between samples of the same clusters, and only rotates them, thus Logistic Regression is able to easily separate the clusters with linear boundaries.\n"
   ]
  },
  {
   "cell_type": "markdown",
   "metadata": {},
   "source": [
    "# Visualizing"
   ]
  },
  {
   "cell_type": "markdown",
   "metadata": {},
   "source": [
    "Task 5: Use locally linear embedding in sklearn to visualize the data. Plot the results.\n",
    "Optimze the n_neighbors by running at least 5 times and use the best looking result you can find."
   ]
  },
  {
   "cell_type": "code",
   "execution_count": 11,
   "metadata": {
    "ExecuteTime": {
     "end_time": "2020-01-19T21:38:15.717201Z",
     "start_time": "2020-01-19T21:38:15.707987Z"
    }
   },
   "outputs": [],
   "source": [
    "from sklearn.manifold import LocallyLinearEmbedding\n",
    "%matplotlib inline\n",
    "import matplotlib.pyplot as plt\n",
    "import seaborn as sns\n",
    "sns.set(rc={'figure.figsize':(12, 9)})"
   ]
  },
  {
   "cell_type": "code",
   "execution_count": 12,
   "metadata": {
    "ExecuteTime": {
     "end_time": "2020-01-19T21:38:16.410243Z",
     "start_time": "2020-01-19T21:38:16.001116Z"
    }
   },
   "outputs": [
    {
     "data": {
      "image/png": "[encoded data removed]",
      "text/plain": [
       "<Figure size 864x648 with 1 Axes>"
      ]
     },
     "metadata": {},
     "output_type": "display_data"
    }
   ],
   "source": [
    "# Task 5\n",
    "model = LocallyLinearEmbedding(n_neighbors=22, n_components=2, method='modified',\n",
    "                               eigen_solver='dense', max_iter=1000)\n",
    "X_transformed = model.fit_transform(X)\n",
    "\n",
    "palette = sns.color_palette(\"bright\", len(np.unique(y)))\n",
    "sns.scatterplot(X_transformed[:, 0], X_transformed[:, 1], hue=y, legend='full', palette=palette);"
   ]
  },
  {
   "cell_type": "markdown",
   "metadata": {},
   "source": [
    "Task 6: Use t-SNE to visualize the data. Plot the results."
   ]
  },
  {
   "cell_type": "code",
   "execution_count": 13,
   "metadata": {
    "ExecuteTime": {
     "end_time": "2020-01-19T21:38:16.959018Z",
     "start_time": "2020-01-19T21:38:16.956882Z"
    }
   },
   "outputs": [],
   "source": [
    "from sklearn.manifold import TSNE"
   ]
  },
  {
   "cell_type": "code",
   "execution_count": 19,
   "metadata": {
    "ExecuteTime": {
     "end_time": "2020-01-19T21:38:33.902167Z",
     "start_time": "2020-01-19T21:38:33.169112Z"
    }
   },
   "outputs": [
    {
     "name": "stdout",
     "output_type": "stream",
     "text": [
      "[t-SNE] Computing 151 nearest neighbors...\n",
      "[t-SNE] Indexed 178 samples in 0.000s...\n",
      "[t-SNE] Computed neighbors for 178 samples in 0.003s...\n",
      "[t-SNE] Computed conditional probabilities for sample 178 / 178\n",
      "[t-SNE] Mean sigma: 18.365570\n",
      "[t-SNE] KL divergence after 250 iterations with early exaggeration: 40.612633\n",
      "[t-SNE] KL divergence after 650 iterations: 0.077024\n"
     ]
    },
    {
     "data": {
      "image/png": "[encoded data removed]",
      "text/plain": [
       "<Figure size 864x648 with 1 Axes>"
      ]
     },
     "metadata": {},
     "output_type": "display_data"
    }
   ],
   "source": [
    "# Task 6\n",
    "tsne = TSNE(n_components=2, verbose=1, perplexity=50, learning_rate=10, n_iter=5000)\n",
    "X_transformed = tsne.fit_transform(X)\n",
    "\n",
    "palette = sns.color_palette(\"bright\", len(np.unique(y)))\n",
    "sns.scatterplot(X_transformed[:, 0], X_transformed[:, 1], hue=y, legend='full', palette=palette);"
   ]
  },
  {
   "cell_type": "markdown",
   "metadata": {},
   "source": [
    "Task 7: Use UMAP to visualize the data. Plot the results."
   ]
  },
  {
   "cell_type": "code",
   "execution_count": 15,
   "metadata": {
    "ExecuteTime": {
     "end_time": "2020-01-19T21:38:19.351612Z",
     "start_time": "2020-01-19T21:38:18.277363Z"
    }
   },
   "outputs": [],
   "source": [
    "import umap"
   ]
  },
  {
   "cell_type": "code",
   "execution_count": 45,
   "metadata": {
    "ExecuteTime": {
     "end_time": "2020-01-19T21:39:58.944741Z",
     "start_time": "2020-01-19T21:39:58.316467Z"
    }
   },
   "outputs": [
    {
     "data": {
      "image/png": "[encoded data removed]",
      "text/plain": [
       "<Figure size 864x648 with 1 Axes>"
      ]
     },
     "metadata": {},
     "output_type": "display_data"
    }
   ],
   "source": [
    "# Task 7\n",
    "reducer = umap.UMAP(n_neighbors=50, n_components=2)\n",
    "X_embedded = reducer.fit_transform(X)\n",
    "\n",
    "palette = sns.color_palette(\"bright\", len(np.unique(y)))\n",
    "sns.scatterplot(X_embedded[:,0], X_embedded[:,1], hue=y, legend='full', palette=palette);"
   ]
  },
  {
   "cell_type": "markdown",
   "metadata": {},
   "source": [
    "Q5: If we run one of this visualziaing algorithms various times with the default parameters, are we guranteed to see the same results? Why?"
   ]
  },
  {
   "cell_type": "markdown",
   "metadata": {},
   "source": [
    "A5: If we run the t-SNE several times, we are expected to see different results.\n",
    "The reason being that for each single point, picking neighboring points is being done in a stochastic manner, i.e. points that are far away have lower probability to get picked, as opposed to closer points.\n",
    "\n",
    "Same goes for UMAP."
   ]
  },
  {
   "cell_type": "code",
   "execution_count": null,
   "metadata": {},
   "outputs": [],
   "source": []
  }
 ],
 "metadata": {
  "jupytext": {
   "formats": "ipynb,py:light"
  },
  "kernelspec": {
   "display_name": "Python 3",
   "language": "python",
   "name": "python3"
  },
  "language_info": {
   "codemirror_mode": {
    "name": "ipython",
    "version": 3
   },
   "file_extension": ".py",
   "mimetype": "text/x-python",
   "name": "python",
   "nbconvert_exporter": "python",
   "pygments_lexer": "ipython3",
   "version": "3.7.4"
  },
  "toc": {
   "base_numbering": 1,
   "nav_menu": {},
   "number_sections": true,
   "sideBar": true,
   "skip_h1_title": false,
   "title_cell": "Table of Contents",
   "title_sidebar": "Contents",
   "toc_cell": false,
   "toc_position": {},
   "toc_section_display": true,
   "toc_window_display": false
  },
  "varInspector": {
   "cols": {
    "lenName": 16,
    "lenType": 16,
    "lenVar": 40
   },
   "kernels_config": {
    "python": {
     "delete_cmd_postfix": "",
     "delete_cmd_prefix": "del ",
     "library": "var_list.py",
     "varRefreshCmd": "print(var_dic_list())"
    },
    "r": {
     "delete_cmd_postfix": ") ",
     "delete_cmd_prefix": "rm(",
     "library": "var_list.r",
     "varRefreshCmd": "cat(var_dic_list()) "
    }
   },
   "types_to_exclude": [
    "module",
    "function",
    "builtin_function_or_method",
    "instance",
    "_Feature"
   ],
   "window_display": false
  }
 },
 "nbformat": 4,
 "nbformat_minor": 2
}
