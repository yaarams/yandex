{
 "cells": [
  {
   "cell_type": "markdown",
   "metadata": {
    "colab_type": "text",
    "id": "vbxKQz0Xbrj1"
   },
   "source": [
    "# CNA Homework"
   ]
  },
  {
   "cell_type": "markdown",
   "metadata": {
    "colab_type": "text",
    "id": "QJBzPa2gb6_D"
   },
   "source": [
    "## Part 1"
   ]
  },
  {
   "cell_type": "markdown",
   "metadata": {
    "colab_type": "text",
    "id": "NvzL6tPHcGwX"
   },
   "source": [
    "**Reddit Networks**"
   ]
  },
  {
   "cell_type": "markdown",
   "metadata": {
    "colab_type": "text",
    "id": "Squh54F8ayJs"
   },
   "source": [
    "Using the [Reddit networks dataset],(http://dynamics.cs.washington.edu/nobackup/reddit/) select the subreddit of your favorite TV show. Using the data of the selected subreddit, answer the following questions:"
   ]
  },
  {
   "cell_type": "markdown",
   "metadata": {
    "colab_type": "text",
    "id": "KhskghuZbIvA"
   },
   "source": [
    "*Task 1*: Calculate and visualize the degree distribution of the vertices in the network"
   ]
  },
  {
   "cell_type": "code",
   "execution_count": 113,
   "metadata": {},
   "outputs": [],
   "source": [
    "import os\n",
    "import turicreate as tc \n",
    "from tqdm.auto import tqdm\n",
    "import matplotlib.pyplot as plt\n",
    "import networkx as nx\n",
    "import numpy as np"
   ]
  },
  {
   "cell_type": "code",
   "execution_count": 58,
   "metadata": {},
   "outputs": [
    {
     "data": {
      "application/vnd.jupyter.widget-view+json": {
       "model_id": "08335e4fd4214885936a40838fde2530",
       "version_major": 2,
       "version_minor": 0
      },
      "text/plain": [
       "HBox(children=(FloatProgress(value=0.0, max=50.0), HTML(value='')))"
      ]
     },
     "metadata": {},
     "output_type": "display_data"
    },
    {
     "name": "stdout",
     "output_type": "stream",
     "text": [
      "\n"
     ]
    }
   ],
   "source": [
    "g = tc.SGraph()\n",
    "graphs_dir = 'data'\n",
    "sframes_paths = [graphs_dir +'/' + s for s in os.listdir(graphs_dir)]\n",
    "for folder in tqdm(sframes_paths):\n",
    "    if not folder.endswith(\".sgraph\"):\n",
    "        continue\n",
    "    subG = tc.load_sgraph(folder)\n",
    "    g = g.add_vertices(subG.get_vertices())\n",
    "    g = g.add_edges(subG.get_edges())"
   ]
  },
  {
   "cell_type": "code",
   "execution_count": 30,
   "metadata": {},
   "outputs": [
    {
     "data": {
      "text/html": [
       "<pre>Materializing SArray</pre>"
      ],
      "text/plain": [
       "Materializing SArray"
      ]
     },
     "metadata": {},
     "output_type": "display_data"
    },
    {
     "data": {
      "text/html": [
       "<html>                 <body>                     <iframe style=\"border:0;margin:0\" width=\"920\" height=\"770\" srcdoc='<html lang=\"en\">                         <head>                             <script src=\"https://cdnjs.cloudflare.com/ajax/libs/vega/5.4.0/vega.js\"></script>                             <script src=\"https://cdnjs.cloudflare.com/ajax/libs/vega-embed/4.0.0/vega-embed.js\"></script>                             <script src=\"https://cdnjs.cloudflare.com/ajax/libs/vega-tooltip/0.5.1/vega-tooltip.min.js\"></script>                             <link rel=\"stylesheet\" type=\"text/css\" href=\"https://cdnjs.cloudflare.com/ajax/libs/vega-tooltip/0.5.1/vega-tooltip.min.css\">                             <style>                             .vega-actions > a{                                 color:white;                                 text-decoration: none;                                 font-family: \"Arial\";                                 cursor:pointer;                                 padding:5px;                                 background:#AAAAAA;                                 border-radius:4px;                                 padding-left:10px;                                 padding-right:10px;                                 margin-right:5px;                             }                             .vega-actions{                                 margin-top:20px;                                 text-align:center                             }                            .vega-actions > a{                                 background:#999999;                            }                             </style>                         </head>                         <body>                             <div id=\"vis\">                             </div>                             <script>                                 var vega_json = \"{\\\"$schema\\\": \\\"https://vega.github.io/schema/vega/v4.json\\\", \\\"description\\\": \\\"A simple bar chart with embedded data.\\\", \\\"autosize\\\": {\\\"type\\\": \\\"fit\\\", \\\"resize\\\": false, \\\"contains\\\": \\\"padding\\\"}, \\\"width\\\": 720, \\\"height\\\": 550, \\\"padding\\\": 8, \\\"title\\\": \\\"Distribution of in degree\\\", \\\"style\\\": \\\"cell\\\", \\\"signals\\\": [{\\\"name\\\": \\\"bins\\\", \\\"update\\\": \\\"data(\\\\\\\"bins_data\\\\\\\")[0]\\\"}, {\\\"name\\\": \\\"binCount\\\", \\\"update\\\": \\\"(bins.stop - bins.start) / bins.step\\\"}, {\\\"name\\\": \\\"nullGap\\\", \\\"update\\\": \\\"data(\\\\\\\"nulls\\\\\\\").length ? 10 : 0\\\"}, {\\\"name\\\": \\\"barStep\\\", \\\"update\\\": \\\"(width - nullGap) / (1 + binCount)\\\"}], \\\"data\\\": [{\\\"name\\\": \\\"source_2\\\", \\\"values\\\": [{\\\"left\\\": -5, \\\"right\\\": 51, \\\"count\\\": 3099}, {\\\"left\\\": 51, \\\"right\\\": 107, \\\"count\\\": 211}, {\\\"left\\\": 107, \\\"right\\\": 163, \\\"count\\\": 47}, {\\\"left\\\": 163, \\\"right\\\": 219, \\\"count\\\": 18}, {\\\"left\\\": 219, \\\"right\\\": 275, \\\"count\\\": 12}, {\\\"left\\\": 275, \\\"right\\\": 331, \\\"count\\\": 7}, {\\\"left\\\": 331, \\\"right\\\": 387, \\\"count\\\": 2}, {\\\"left\\\": 387, \\\"right\\\": 443, \\\"count\\\": 1}, {\\\"left\\\": 443, \\\"right\\\": 499, \\\"count\\\": 3}, {\\\"left\\\": 499, \\\"right\\\": 555, \\\"count\\\": 2}, {\\\"left\\\": 555, \\\"right\\\": 611, \\\"count\\\": 0}, {\\\"left\\\": 611, \\\"right\\\": 667, \\\"count\\\": 1}, {\\\"left\\\": 667, \\\"right\\\": 723, \\\"count\\\": 1}, {\\\"left\\\": 723, \\\"right\\\": 779, \\\"count\\\": 2}, {\\\"left\\\": 779, \\\"right\\\": 835, \\\"count\\\": 1}, {\\\"left\\\": 835, \\\"right\\\": 891, \\\"count\\\": 0}, {\\\"left\\\": 891, \\\"right\\\": 947, \\\"count\\\": 0}, {\\\"left\\\": 947, \\\"right\\\": 1003, \\\"count\\\": 0}, {\\\"left\\\": 1003, \\\"right\\\": 1059, \\\"count\\\": 0}, {\\\"left\\\": 1059, \\\"right\\\": 1115, \\\"count\\\": 1}, {\\\"start\\\": -5, \\\"stop\\\": 1115, \\\"step\\\": 56}]}, {\\\"name\\\": \\\"counts\\\", \\\"source\\\": \\\"source_2\\\", \\\"transform\\\": [{\\\"type\\\": \\\"filter\\\", \\\"expr\\\": \\\"datum[\\\\\\\"missing\\\\\\\"] !== true &amp;&amp; datum[\\\\\\\"count\\\\\\\"] != null\\\"}]}, {\\\"name\\\": \\\"nulls\\\", \\\"source\\\": \\\"source_2\\\", \\\"transform\\\": [{\\\"expr\\\": \\\"datum[\\\\\\\"missing\\\\\\\"] === true &amp;&amp; datum[\\\\\\\"count\\\\\\\"] != null\\\", \\\"type\\\": \\\"filter\\\"}]}, {\\\"name\\\": \\\"bins_data\\\", \\\"source\\\": \\\"source_2\\\", \\\"transform\\\": [{\\\"expr\\\": \\\"datum[\\\\\\\"start\\\\\\\"] != null &amp;&amp; datum[\\\\\\\"stop\\\\\\\"] != null &amp;&amp; datum[\\\\\\\"step\\\\\\\"] != null\\\", \\\"type\\\": \\\"filter\\\"}]}], \\\"marks\\\": [{\\\"type\\\": \\\"rect\\\", \\\"from\\\": {\\\"data\\\": \\\"counts\\\"}, \\\"encode\\\": {\\\"update\\\": {\\\"x\\\": {\\\"scale\\\": \\\"xscale\\\", \\\"field\\\": \\\"left\\\", \\\"offset\\\": 1}, \\\"x2\\\": {\\\"scale\\\": \\\"xscale\\\", \\\"field\\\": \\\"right\\\"}, \\\"y\\\": {\\\"scale\\\": \\\"yscale\\\", \\\"field\\\": \\\"count\\\"}, \\\"y2\\\": {\\\"scale\\\": \\\"yscale\\\", \\\"value\\\": 0}, \\\"fill\\\": {\\\"value\\\": \\\"#108EE9\\\"}}, \\\"hover\\\": {\\\"fill\\\": {\\\"value\\\": \\\"#7EC2F3\\\"}}}}, {\\\"type\\\": \\\"rect\\\", \\\"from\\\": {\\\"data\\\": \\\"nulls\\\"}, \\\"encode\\\": {\\\"update\\\": {\\\"x\\\": {\\\"scale\\\": \\\"xscale-null\\\", \\\"value\\\": null, \\\"offset\\\": 1}, \\\"x2\\\": {\\\"scale\\\": \\\"xscale-null\\\", \\\"band\\\": 1}, \\\"y\\\": {\\\"scale\\\": \\\"yscale\\\", \\\"field\\\": \\\"count\\\"}, \\\"y2\\\": {\\\"scale\\\": \\\"yscale\\\", \\\"value\\\": 0}, \\\"fill\\\": {\\\"value\\\": \\\"#108EE9\\\"}}, \\\"hover\\\": {\\\"fill\\\": {\\\"value\\\": \\\"#7EC2F3\\\"}}}}], \\\"scales\\\": [{\\\"name\\\": \\\"yscale\\\", \\\"type\\\": \\\"linear\\\", \\\"range\\\": \\\"height\\\", \\\"round\\\": true, \\\"nice\\\": true, \\\"domain\\\": {\\\"fields\\\": [{\\\"data\\\": \\\"counts\\\", \\\"field\\\": \\\"count\\\"}, {\\\"data\\\": \\\"nulls\\\", \\\"field\\\": \\\"count\\\"}]}}, {\\\"name\\\": \\\"xscale\\\", \\\"type\\\": \\\"linear\\\", \\\"range\\\": [{\\\"signal\\\": \\\"nullGap ? barStep + nullGap : 0\\\"}, {\\\"signal\\\": \\\"width\\\"}], \\\"round\\\": true, \\\"domain\\\": {\\\"signal\\\": \\\"[bins.start, bins.stop]\\\"}, \\\"bins\\\": {\\\"signal\\\": \\\"bins\\\"}}, {\\\"name\\\": \\\"xscale-null\\\", \\\"type\\\": \\\"band\\\", \\\"range\\\": [{\\\"signal\\\": \\\"nullGap ? 0 : 1\\\"}, {\\\"signal\\\": \\\"nullGap ? barStep : 0\\\"}], \\\"round\\\": true, \\\"domain\\\": [{\\\"signal\\\": \\\"nullGap ? null : &apos;&apos;\\\"}]}], \\\"axes\\\": [{\\\"title\\\": \\\"Values\\\", \\\"orient\\\": \\\"bottom\\\", \\\"scale\\\": \\\"xscale\\\", \\\"tickMinStep\\\": 1, \\\"grid\\\": true}, {\\\"orient\\\": \\\"bottom\\\", \\\"scale\\\": \\\"xscale-null\\\"}, {\\\"title\\\": \\\"Count\\\", \\\"orient\\\": \\\"left\\\", \\\"scale\\\": \\\"yscale\\\", \\\"tickCount\\\": 5, \\\"offset\\\": {\\\"signal\\\": \\\"nullGap ? 5 : 0\\\"}, \\\"grid\\\": true}], \\\"config\\\": {\\\"axis\\\": {\\\"gridColor\\\": \\\"rgba(204,204,204,1.0)\\\", \\\"labelFont\\\": \\\"\\\\\\\"San Francisco\\\\\\\", HelveticaNeue, Arial\\\", \\\"labelFontSize\\\": 12, \\\"labelPadding\\\": 10, \\\"labelColor\\\": \\\"rgba(0,0,0,0.847)\\\", \\\"tickColor\\\": \\\"rgb(136,136,136)\\\", \\\"titleFont\\\": \\\"\\\\\\\"San Francisco\\\\\\\", HelveticaNeue, Arial\\\", \\\"titleFontWeight\\\": \\\"normal\\\", \\\"titlePadding\\\": 20, \\\"titleFontSize\\\": 14, \\\"titleColor\\\": \\\"rgba(0,0,0,0.847)\\\"}, \\\"axisY\\\": {\\\"minExtent\\\": 30}, \\\"legend\\\": {\\\"labelFont\\\": \\\"\\\\\\\"San Francisco\\\\\\\", HelveticaNeue, Arial\\\", \\\"labelColor\\\": \\\"rgba(0,0,0,0.847)\\\", \\\"titleFont\\\": \\\"\\\\\\\"San Francisco\\\\\\\", HelveticaNeue, Arial\\\", \\\"cornerRadius\\\": 30, \\\"gradientLength\\\": 608, \\\"titleColor\\\": \\\"rgba(0,0,0,0.847)\\\"}, \\\"range\\\": {\\\"heatmap\\\": {\\\"scheme\\\": \\\"greenblue\\\"}}, \\\"style\\\": {\\\"rect\\\": {\\\"stroke\\\": \\\"rgba(200, 200, 200, 0.5)\\\"}, \\\"cell\\\": {\\\"stroke\\\": \\\"transparent\\\"}, \\\"group-title\\\": {\\\"fontSize\\\": 29, \\\"font\\\": \\\"HelveticaNeue, Arial\\\", \\\"fontWeight\\\": \\\"normal\\\", \\\"fill\\\": \\\"rgba(0,0,0,0.65)\\\"}}, \\\"title\\\": {\\\"color\\\": \\\"rgba(0,0,0,0.847)\\\", \\\"font\\\": \\\"\\\\\\\"San Francisco\\\\\\\", HelveticaNeue, Arial\\\", \\\"fontSize\\\": 18, \\\"fontWeight\\\": \\\"normal\\\", \\\"offset\\\": 30}}}\";                                 var vega_json_parsed = JSON.parse(vega_json);                                 var toolTipOpts = {                                     showAllFields: true                                 };                                 if(vega_json_parsed[\"metadata\"] != null){                                     if(vega_json_parsed[\"metadata\"][\"bubbleOpts\"] != null){                                         toolTipOpts = vega_json_parsed[\"metadata\"][\"bubbleOpts\"];                                     };                                 };                                 vegaEmbed(\"#vis\", vega_json_parsed).then(function (result) {                                     vegaTooltip.vega(result.view, toolTipOpts);                                  });                             </script>                         </body>                     </html>' src=\"demo_iframe_srcdoc.htm\">                         <p>Your browser does not support iframes.</p>                     </iframe>                 </body>             </html>"
      ],
      "text/plain": [
       "<IPython.core.display.HTML object>"
      ]
     },
     "metadata": {},
     "output_type": "display_data"
    },
    {
     "data": {
      "text/plain": [
       "<turicreate.visualization._plot.Plot at 0xa27a06198>"
      ]
     },
     "execution_count": 30,
     "metadata": {},
     "output_type": "execute_result"
    }
   ],
   "source": [
    "m = tc.degree_counting.create(g)\n",
    "tc.visualization.histogram(m['graph'].vertices['in_degree'], title='Distribution of in degree')"
   ]
  },
  {
   "cell_type": "code",
   "execution_count": 18,
   "metadata": {},
   "outputs": [
    {
     "data": {
      "text/html": [
       "<pre>Materializing SArray</pre>"
      ],
      "text/plain": [
       "Materializing SArray"
      ]
     },
     "metadata": {},
     "output_type": "display_data"
    },
    {
     "data": {
      "text/html": [
       "<html>                 <body>                     <iframe style=\"border:0;margin:0\" width=\"920\" height=\"770\" srcdoc='<html lang=\"en\">                         <head>                             <script src=\"https://cdnjs.cloudflare.com/ajax/libs/vega/5.4.0/vega.js\"></script>                             <script src=\"https://cdnjs.cloudflare.com/ajax/libs/vega-embed/4.0.0/vega-embed.js\"></script>                             <script src=\"https://cdnjs.cloudflare.com/ajax/libs/vega-tooltip/0.5.1/vega-tooltip.min.js\"></script>                             <link rel=\"stylesheet\" type=\"text/css\" href=\"https://cdnjs.cloudflare.com/ajax/libs/vega-tooltip/0.5.1/vega-tooltip.min.css\">                             <style>                             .vega-actions > a{                                 color:white;                                 text-decoration: none;                                 font-family: \"Arial\";                                 cursor:pointer;                                 padding:5px;                                 background:#AAAAAA;                                 border-radius:4px;                                 padding-left:10px;                                 padding-right:10px;                                 margin-right:5px;                             }                             .vega-actions{                                 margin-top:20px;                                 text-align:center                             }                            .vega-actions > a{                                 background:#999999;                            }                             </style>                         </head>                         <body>                             <div id=\"vis\">                             </div>                             <script>                                 var vega_json = \"{\\\"$schema\\\": \\\"https://vega.github.io/schema/vega/v4.json\\\", \\\"description\\\": \\\"A simple bar chart with embedded data.\\\", \\\"autosize\\\": {\\\"type\\\": \\\"fit\\\", \\\"resize\\\": false, \\\"contains\\\": \\\"padding\\\"}, \\\"width\\\": 720, \\\"height\\\": 550, \\\"padding\\\": 8, \\\"title\\\": \\\"Distribution of out degree\\\", \\\"style\\\": \\\"cell\\\", \\\"signals\\\": [{\\\"name\\\": \\\"bins\\\", \\\"update\\\": \\\"data(\\\\\\\"bins_data\\\\\\\")[0]\\\"}, {\\\"name\\\": \\\"binCount\\\", \\\"update\\\": \\\"(bins.stop - bins.start) / bins.step\\\"}, {\\\"name\\\": \\\"nullGap\\\", \\\"update\\\": \\\"data(\\\\\\\"nulls\\\\\\\").length ? 10 : 0\\\"}, {\\\"name\\\": \\\"barStep\\\", \\\"update\\\": \\\"(width - nullGap) / (1 + binCount)\\\"}], \\\"data\\\": [{\\\"name\\\": \\\"source_2\\\", \\\"values\\\": [{\\\"left\\\": -31, \\\"right\\\": 45, \\\"count\\\": 3088}, {\\\"left\\\": 45, \\\"right\\\": 121, \\\"count\\\": 249}, {\\\"left\\\": 121, \\\"right\\\": 197, \\\"count\\\": 38}, {\\\"left\\\": 197, \\\"right\\\": 273, \\\"count\\\": 15}, {\\\"left\\\": 273, \\\"right\\\": 349, \\\"count\\\": 3}, {\\\"left\\\": 349, \\\"right\\\": 425, \\\"count\\\": 3}, {\\\"left\\\": 425, \\\"right\\\": 501, \\\"count\\\": 2}, {\\\"left\\\": 501, \\\"right\\\": 577, \\\"count\\\": 3}, {\\\"left\\\": 577, \\\"right\\\": 653, \\\"count\\\": 1}, {\\\"left\\\": 653, \\\"right\\\": 729, \\\"count\\\": 0}, {\\\"left\\\": 729, \\\"right\\\": 805, \\\"count\\\": 0}, {\\\"left\\\": 805, \\\"right\\\": 881, \\\"count\\\": 2}, {\\\"left\\\": 881, \\\"right\\\": 957, \\\"count\\\": 1}, {\\\"left\\\": 957, \\\"right\\\": 1033, \\\"count\\\": 1}, {\\\"left\\\": 1033, \\\"right\\\": 1109, \\\"count\\\": 0}, {\\\"left\\\": 1109, \\\"right\\\": 1185, \\\"count\\\": 0}, {\\\"left\\\": 1185, \\\"right\\\": 1261, \\\"count\\\": 0}, {\\\"left\\\": 1261, \\\"right\\\": 1337, \\\"count\\\": 1}, {\\\"left\\\": 1337, \\\"right\\\": 1413, \\\"count\\\": 0}, {\\\"left\\\": 1413, \\\"right\\\": 1489, \\\"count\\\": 1}, {\\\"start\\\": -31, \\\"stop\\\": 1489, \\\"step\\\": 76}]}, {\\\"name\\\": \\\"counts\\\", \\\"source\\\": \\\"source_2\\\", \\\"transform\\\": [{\\\"type\\\": \\\"filter\\\", \\\"expr\\\": \\\"datum[\\\\\\\"missing\\\\\\\"] !== true &amp;&amp; datum[\\\\\\\"count\\\\\\\"] != null\\\"}]}, {\\\"name\\\": \\\"nulls\\\", \\\"source\\\": \\\"source_2\\\", \\\"transform\\\": [{\\\"expr\\\": \\\"datum[\\\\\\\"missing\\\\\\\"] === true &amp;&amp; datum[\\\\\\\"count\\\\\\\"] != null\\\", \\\"type\\\": \\\"filter\\\"}]}, {\\\"name\\\": \\\"bins_data\\\", \\\"source\\\": \\\"source_2\\\", \\\"transform\\\": [{\\\"expr\\\": \\\"datum[\\\\\\\"start\\\\\\\"] != null &amp;&amp; datum[\\\\\\\"stop\\\\\\\"] != null &amp;&amp; datum[\\\\\\\"step\\\\\\\"] != null\\\", \\\"type\\\": \\\"filter\\\"}]}], \\\"marks\\\": [{\\\"type\\\": \\\"rect\\\", \\\"from\\\": {\\\"data\\\": \\\"counts\\\"}, \\\"encode\\\": {\\\"update\\\": {\\\"x\\\": {\\\"scale\\\": \\\"xscale\\\", \\\"field\\\": \\\"left\\\", \\\"offset\\\": 1}, \\\"x2\\\": {\\\"scale\\\": \\\"xscale\\\", \\\"field\\\": \\\"right\\\"}, \\\"y\\\": {\\\"scale\\\": \\\"yscale\\\", \\\"field\\\": \\\"count\\\"}, \\\"y2\\\": {\\\"scale\\\": \\\"yscale\\\", \\\"value\\\": 0}, \\\"fill\\\": {\\\"value\\\": \\\"#108EE9\\\"}}, \\\"hover\\\": {\\\"fill\\\": {\\\"value\\\": \\\"#7EC2F3\\\"}}}}, {\\\"type\\\": \\\"rect\\\", \\\"from\\\": {\\\"data\\\": \\\"nulls\\\"}, \\\"encode\\\": {\\\"update\\\": {\\\"x\\\": {\\\"scale\\\": \\\"xscale-null\\\", \\\"value\\\": null, \\\"offset\\\": 1}, \\\"x2\\\": {\\\"scale\\\": \\\"xscale-null\\\", \\\"band\\\": 1}, \\\"y\\\": {\\\"scale\\\": \\\"yscale\\\", \\\"field\\\": \\\"count\\\"}, \\\"y2\\\": {\\\"scale\\\": \\\"yscale\\\", \\\"value\\\": 0}, \\\"fill\\\": {\\\"value\\\": \\\"#108EE9\\\"}}, \\\"hover\\\": {\\\"fill\\\": {\\\"value\\\": \\\"#7EC2F3\\\"}}}}], \\\"scales\\\": [{\\\"name\\\": \\\"yscale\\\", \\\"type\\\": \\\"linear\\\", \\\"range\\\": \\\"height\\\", \\\"round\\\": true, \\\"nice\\\": true, \\\"domain\\\": {\\\"fields\\\": [{\\\"data\\\": \\\"counts\\\", \\\"field\\\": \\\"count\\\"}, {\\\"data\\\": \\\"nulls\\\", \\\"field\\\": \\\"count\\\"}]}}, {\\\"name\\\": \\\"xscale\\\", \\\"type\\\": \\\"linear\\\", \\\"range\\\": [{\\\"signal\\\": \\\"nullGap ? barStep + nullGap : 0\\\"}, {\\\"signal\\\": \\\"width\\\"}], \\\"round\\\": true, \\\"domain\\\": {\\\"signal\\\": \\\"[bins.start, bins.stop]\\\"}, \\\"bins\\\": {\\\"signal\\\": \\\"bins\\\"}}, {\\\"name\\\": \\\"xscale-null\\\", \\\"type\\\": \\\"band\\\", \\\"range\\\": [{\\\"signal\\\": \\\"nullGap ? 0 : 1\\\"}, {\\\"signal\\\": \\\"nullGap ? barStep : 0\\\"}], \\\"round\\\": true, \\\"domain\\\": [{\\\"signal\\\": \\\"nullGap ? null : &apos;&apos;\\\"}]}], \\\"axes\\\": [{\\\"title\\\": \\\"Values\\\", \\\"orient\\\": \\\"bottom\\\", \\\"scale\\\": \\\"xscale\\\", \\\"tickMinStep\\\": 1, \\\"grid\\\": true}, {\\\"orient\\\": \\\"bottom\\\", \\\"scale\\\": \\\"xscale-null\\\"}, {\\\"title\\\": \\\"Count\\\", \\\"orient\\\": \\\"left\\\", \\\"scale\\\": \\\"yscale\\\", \\\"tickCount\\\": 5, \\\"offset\\\": {\\\"signal\\\": \\\"nullGap ? 5 : 0\\\"}, \\\"grid\\\": true}], \\\"config\\\": {\\\"axis\\\": {\\\"gridColor\\\": \\\"rgba(204,204,204,1.0)\\\", \\\"labelFont\\\": \\\"\\\\\\\"San Francisco\\\\\\\", HelveticaNeue, Arial\\\", \\\"labelFontSize\\\": 12, \\\"labelPadding\\\": 10, \\\"labelColor\\\": \\\"rgba(0,0,0,0.847)\\\", \\\"tickColor\\\": \\\"rgb(136,136,136)\\\", \\\"titleFont\\\": \\\"\\\\\\\"San Francisco\\\\\\\", HelveticaNeue, Arial\\\", \\\"titleFontWeight\\\": \\\"normal\\\", \\\"titlePadding\\\": 20, \\\"titleFontSize\\\": 14, \\\"titleColor\\\": \\\"rgba(0,0,0,0.847)\\\"}, \\\"axisY\\\": {\\\"minExtent\\\": 30}, \\\"legend\\\": {\\\"labelFont\\\": \\\"\\\\\\\"San Francisco\\\\\\\", HelveticaNeue, Arial\\\", \\\"labelColor\\\": \\\"rgba(0,0,0,0.847)\\\", \\\"titleFont\\\": \\\"\\\\\\\"San Francisco\\\\\\\", HelveticaNeue, Arial\\\", \\\"cornerRadius\\\": 30, \\\"gradientLength\\\": 608, \\\"titleColor\\\": \\\"rgba(0,0,0,0.847)\\\"}, \\\"range\\\": {\\\"heatmap\\\": {\\\"scheme\\\": \\\"greenblue\\\"}}, \\\"style\\\": {\\\"rect\\\": {\\\"stroke\\\": \\\"rgba(200, 200, 200, 0.5)\\\"}, \\\"cell\\\": {\\\"stroke\\\": \\\"transparent\\\"}, \\\"group-title\\\": {\\\"fontSize\\\": 29, \\\"font\\\": \\\"HelveticaNeue, Arial\\\", \\\"fontWeight\\\": \\\"normal\\\", \\\"fill\\\": \\\"rgba(0,0,0,0.65)\\\"}}, \\\"title\\\": {\\\"color\\\": \\\"rgba(0,0,0,0.847)\\\", \\\"font\\\": \\\"\\\\\\\"San Francisco\\\\\\\", HelveticaNeue, Arial\\\", \\\"fontSize\\\": 18, \\\"fontWeight\\\": \\\"normal\\\", \\\"offset\\\": 30}}}\";                                 var vega_json_parsed = JSON.parse(vega_json);                                 var toolTipOpts = {                                     showAllFields: true                                 };                                 if(vega_json_parsed[\"metadata\"] != null){                                     if(vega_json_parsed[\"metadata\"][\"bubbleOpts\"] != null){                                         toolTipOpts = vega_json_parsed[\"metadata\"][\"bubbleOpts\"];                                     };                                 };                                 vegaEmbed(\"#vis\", vega_json_parsed).then(function (result) {                                     vegaTooltip.vega(result.view, toolTipOpts);                                  });                             </script>                         </body>                     </html>' src=\"demo_iframe_srcdoc.htm\">                         <p>Your browser does not support iframes.</p>                     </iframe>                 </body>             </html>"
      ],
      "text/plain": [
       "<IPython.core.display.HTML object>"
      ]
     },
     "metadata": {},
     "output_type": "display_data"
    },
    {
     "data": {
      "text/plain": [
       "<turicreate.visualization._plot.Plot at 0xa27aea240>"
      ]
     },
     "execution_count": 18,
     "metadata": {},
     "output_type": "execute_result"
    }
   ],
   "source": [
    "tc.visualization.histogram(m['graph'].vertices['out_degree'], title='Distribution of out degree')"
   ]
  },
  {
   "cell_type": "code",
   "execution_count": 59,
   "metadata": {},
   "outputs": [
    {
     "data": {
      "text/html": [
       "<pre>Counting out degree</pre>"
      ],
      "text/plain": [
       "Counting out degree"
      ]
     },
     "metadata": {},
     "output_type": "display_data"
    },
    {
     "data": {
      "text/html": [
       "<pre>Done counting out degree</pre>"
      ],
      "text/plain": [
       "Done counting out degree"
      ]
     },
     "metadata": {},
     "output_type": "display_data"
    },
    {
     "data": {
      "text/html": [
       "<pre>+-----------+-----------------------+</pre>"
      ],
      "text/plain": [
       "+-----------+-----------------------+"
      ]
     },
     "metadata": {},
     "output_type": "display_data"
    },
    {
     "data": {
      "text/html": [
       "<pre>| Iteration | L1 change in pagerank |</pre>"
      ],
      "text/plain": [
       "| Iteration | L1 change in pagerank |"
      ]
     },
     "metadata": {},
     "output_type": "display_data"
    },
    {
     "data": {
      "text/html": [
       "<pre>+-----------+-----------------------+</pre>"
      ],
      "text/plain": [
       "+-----------+-----------------------+"
      ]
     },
     "metadata": {},
     "output_type": "display_data"
    },
    {
     "data": {
      "text/html": [
       "<pre>| 1         | 2801.39               |</pre>"
      ],
      "text/plain": [
       "| 1         | 2801.39               |"
      ]
     },
     "metadata": {},
     "output_type": "display_data"
    },
    {
     "data": {
      "text/html": [
       "<pre>| 2         | 825.155               |</pre>"
      ],
      "text/plain": [
       "| 2         | 825.155               |"
      ]
     },
     "metadata": {},
     "output_type": "display_data"
    },
    {
     "data": {
      "text/html": [
       "<pre>| 3         | 341.218               |</pre>"
      ],
      "text/plain": [
       "| 3         | 341.218               |"
      ]
     },
     "metadata": {},
     "output_type": "display_data"
    },
    {
     "data": {
      "text/html": [
       "<pre>| 4         | 176.888               |</pre>"
      ],
      "text/plain": [
       "| 4         | 176.888               |"
      ]
     },
     "metadata": {},
     "output_type": "display_data"
    },
    {
     "data": {
      "text/html": [
       "<pre>| 5         | 106.359               |</pre>"
      ],
      "text/plain": [
       "| 5         | 106.359               |"
      ]
     },
     "metadata": {},
     "output_type": "display_data"
    },
    {
     "data": {
      "text/html": [
       "<pre>| 6         | 70.1775               |</pre>"
      ],
      "text/plain": [
       "| 6         | 70.1775               |"
      ]
     },
     "metadata": {},
     "output_type": "display_data"
    },
    {
     "data": {
      "text/html": [
       "<pre>| 7         | 49.5858               |</pre>"
      ],
      "text/plain": [
       "| 7         | 49.5858               |"
      ]
     },
     "metadata": {},
     "output_type": "display_data"
    },
    {
     "data": {
      "text/html": [
       "<pre>| 8         | 36.2362               |</pre>"
      ],
      "text/plain": [
       "| 8         | 36.2362               |"
      ]
     },
     "metadata": {},
     "output_type": "display_data"
    },
    {
     "data": {
      "text/html": [
       "<pre>| 9         | 26.855                |</pre>"
      ],
      "text/plain": [
       "| 9         | 26.855                |"
      ]
     },
     "metadata": {},
     "output_type": "display_data"
    },
    {
     "data": {
      "text/html": [
       "<pre>| 10        | 20.1534               |</pre>"
      ],
      "text/plain": [
       "| 10        | 20.1534               |"
      ]
     },
     "metadata": {},
     "output_type": "display_data"
    },
    {
     "data": {
      "text/html": [
       "<pre>| 11        | 15.2253               |</pre>"
      ],
      "text/plain": [
       "| 11        | 15.2253               |"
      ]
     },
     "metadata": {},
     "output_type": "display_data"
    },
    {
     "data": {
      "text/html": [
       "<pre>| 12        | 11.619                |</pre>"
      ],
      "text/plain": [
       "| 12        | 11.619                |"
      ]
     },
     "metadata": {},
     "output_type": "display_data"
    },
    {
     "data": {
      "text/html": [
       "<pre>| 13        | 8.92702               |</pre>"
      ],
      "text/plain": [
       "| 13        | 8.92702               |"
      ]
     },
     "metadata": {},
     "output_type": "display_data"
    },
    {
     "data": {
      "text/html": [
       "<pre>| 14        | 6.89036               |</pre>"
      ],
      "text/plain": [
       "| 14        | 6.89036               |"
      ]
     },
     "metadata": {},
     "output_type": "display_data"
    },
    {
     "data": {
      "text/html": [
       "<pre>| 15        | 5.34966               |</pre>"
      ],
      "text/plain": [
       "| 15        | 5.34966               |"
      ]
     },
     "metadata": {},
     "output_type": "display_data"
    },
    {
     "data": {
      "text/html": [
       "<pre>| 16        | 4.17004               |</pre>"
      ],
      "text/plain": [
       "| 16        | 4.17004               |"
      ]
     },
     "metadata": {},
     "output_type": "display_data"
    },
    {
     "data": {
      "text/html": [
       "<pre>| 17        | 3.269                 |</pre>"
      ],
      "text/plain": [
       "| 17        | 3.269                 |"
      ]
     },
     "metadata": {},
     "output_type": "display_data"
    },
    {
     "data": {
      "text/html": [
       "<pre>| 18        | 2.57402               |</pre>"
      ],
      "text/plain": [
       "| 18        | 2.57402               |"
      ]
     },
     "metadata": {},
     "output_type": "display_data"
    },
    {
     "data": {
      "text/html": [
       "<pre>| 19        | 2.03913               |</pre>"
      ],
      "text/plain": [
       "| 19        | 2.03913               |"
      ]
     },
     "metadata": {},
     "output_type": "display_data"
    },
    {
     "data": {
      "text/html": [
       "<pre>| 20        | 1.62088               |</pre>"
      ],
      "text/plain": [
       "| 20        | 1.62088               |"
      ]
     },
     "metadata": {},
     "output_type": "display_data"
    },
    {
     "data": {
      "text/html": [
       "<pre>+-----------+-----------------------+</pre>"
      ],
      "text/plain": [
       "+-----------+-----------------------+"
      ]
     },
     "metadata": {},
     "output_type": "display_data"
    }
   ],
   "source": [
    " pr = tc.pagerank.create(g)"
   ]
  },
  {
   "cell_type": "code",
   "execution_count": 60,
   "metadata": {},
   "outputs": [],
   "source": [
    "pr_out = pr['pagerank']\n",
    "g.vertices['pagerank'] = pr['graph'].vertices['pagerank']\n"
   ]
  },
  {
   "cell_type": "code",
   "execution_count": 82,
   "metadata": {},
   "outputs": [],
   "source": [
    "sub_vertices = g.vertices.sort('pagerank', ascending=False)[:20]\n",
    "\n",
    "subgraph = g.get_neighborhood(ids=sub_vertices['__id'], radius=1, full_subgraph=False)    \n",
    "\n"
   ]
  },
  {
   "cell_type": "code",
   "execution_count": 83,
   "metadata": {},
   "outputs": [
    {
     "data": {
      "text/plain": [
       "SGraph({'num_edges': 1309, 'num_vertices': 709})\n",
       "Vertex Fields:['__id', 'mindate', 'maxdate', 'pagerank']\n",
       "Edge Fields:['__src_id', '__dst_id', 'maxdate', 'mindate', 'weight']"
      ]
     },
     "execution_count": 83,
     "metadata": {},
     "output_type": "execute_result"
    }
   ],
   "source": [
    "subgraph"
   ]
  },
  {
   "cell_type": "code",
   "execution_count": 85,
   "metadata": {},
   "outputs": [
    {
     "data": {
      "image/png": "[encoded data removed]",
      "text/plain": [
       "<Figure size 432x288 with 1 Axes>"
      ]
     },
     "metadata": {},
     "output_type": "display_data"
    }
   ],
   "source": [
    "ng = nx.Graph()\n",
    "ng.add_nodes_from(subgraph.vertices['__id'])\n",
    "ng.add_edges_from(subgraph.edges['__src_id','__dst_id'].apply(lambda row: [v for (k,v) in row.items()]))\n",
    "\n",
    "\n",
    "nx.draw(ng)\n",
    "plt.title('Top 20 users neighbourhood')\n",
    "plt.show()"
   ]
  },
  {
   "cell_type": "code",
   "execution_count": 92,
   "metadata": {},
   "outputs": [],
   "source": [
    "ng = nx.DiGraph()\n",
    "ng.add_nodes_from(g.vertices['__id'])\n",
    "ng.add_edges_from(g.edges['__src_id','__dst_id'].apply(lambda row: [v for (k,v) in row.items()]))"
   ]
  },
  {
   "cell_type": "code",
   "execution_count": 118,
   "metadata": {},
   "outputs": [
    {
     "data": {
      "image/png": "[encoded data removed]",
      "text/plain": [
       "<Figure size 432x288 with 1 Axes>"
      ]
     },
     "metadata": {
      "needs_background": "light"
     },
     "output_type": "display_data"
    }
   ],
   "source": [
    "cc = nx.strongly_connected_components(ng)\n",
    "comps = np.array(sorted([len(c) for c in cc]))\n",
    "\n",
    "plt.hist(np.log(comps),  bins = 'auto')\n",
    "plt.ylabel('Strongly connected components distribution, log scale');\n"
   ]
  },
  {
   "cell_type": "code",
   "execution_count": 127,
   "metadata": {},
   "outputs": [
    {
     "data": {
      "image/png": "[encoded data removed]",
      "text/plain": [
       "<Figure size 432x288 with 1 Axes>"
      ]
     },
     "metadata": {
      "needs_background": "light"
     },
     "output_type": "display_data"
    }
   ],
   "source": [
    "cc = nx.weakly_connected_components(ng)\n",
    "comps = np.array(sorted([len(c) for c in cc]))\n",
    "\n",
    "plt.hist(np.log(comps),  bins = 'auto')\n",
    "\n",
    "plt.ylabel('Weakly connected components distribution, log scale');\n"
   ]
  },
  {
   "cell_type": "code",
   "execution_count": 129,
   "metadata": {},
   "outputs": [],
   "source": [
    "from networkx.algorithms import community\n",
    "communities_generator = community.girvan_newman(ng)\n",
    "top_level_communities = next(communities_generator)\n",
    "# community.greedy_modularity_communities(ng)"
   ]
  },
  {
   "cell_type": "code",
   "execution_count": 145,
   "metadata": {},
   "outputs": [],
   "source": [
    "next_level_communities = next(communities_generator)"
   ]
  },
  {
   "cell_type": "code",
   "execution_count": 159,
   "metadata": {},
   "outputs": [],
   "source": [
    "communities_more_than_one = [c for c in top_level_communities if len(c) > 1]\n",
    "centrality = nx.closeness_centrality(ng)\n"
   ]
  },
  {
   "cell_type": "code",
   "execution_count": 171,
   "metadata": {},
   "outputs": [
    {
     "name": "stdout",
     "output_type": "stream",
     "text": [
      "second most central in community ('fielderwielder', 0.1408312286665287)\n",
      "second most central in community ('reddit_crunch', 0.0)\n",
      "second most central in community ('sexrobot_sexrobot', 0.0)\n",
      "second most central in community ('Taroso', 0.0)\n",
      "second most central in community ('TheFreakingBatman', 0.000293513354857646)\n",
      "second most central in community ('robtheviking', 0.0)\n",
      "second most central in community ('dat828', 0.0)\n",
      "second most central in community ('Fighter0fTheNightman', 0.000293513354857646)\n",
      "second most central in community ('FreeRePhils', 0.0)\n",
      "second most central in community ('LUIGI2323', 0.0)\n",
      "second most central in community ('NoKittyMyCheesyPoof', 0.08843175634430017)\n",
      "second most central in community ('tr1lobyte', 0.0)\n",
      "second most central in community ('mohammad_on_speed', 0.0)\n",
      "second most central in community ('aflatminor', 0.00039135113981019463)\n",
      "second most central in community ('Blanket_Criticism', 0.0)\n",
      "second most central in community ('Randomwordcombo', 0.000293513354857646)\n",
      "second most central in community ('dbandbacon', 0.0)\n",
      "second most central in community ('Allemania', 0.0)\n",
      "second most central in community ('ANUS_CAPTAIN', 0.0)\n",
      "second most central in community ('Rendivious', 0.00039135113981019463)\n",
      "second most central in community ('SPAREustheCUTTER', 0.000293513354857646)\n",
      "second most central in community ('DrLipschitz', 0.0)\n",
      "second most central in community ('househippob', 0.0)\n",
      "second most central in community ('throwawayhere52', 0.0)\n",
      "second most central in community ('scrappydooooo117', 0.0005283240387437628)\n",
      "second most central in community ('Straight24Guy', 0.0)\n",
      "second most central in community ('davebees', 0.0)\n",
      "second most central in community ('EFORY', 0.0)\n",
      "second most central in community ('darogeke', 0.000293513354857646)\n",
      "second most central in community ('MRukkus', 0.0)\n",
      "second most central in community ('wivMIGforrevi', 0.0)\n",
      "second most central in community ('erinalexa', 0.0)\n",
      "second most central in community ('TotallyNotSamson', 0.000293513354857646)\n",
      "second most central in community ('ftlom', 0.000293513354857646)\n",
      "second most central in community ('kalle5', 0.0)\n",
      "second most central in community ('GallifreyDog', 0.0)\n",
      "second most central in community ('The_Night-Man_Cometh', 0.0)\n",
      "second most central in community ('iamaboredman', 0.0)\n",
      "second most central in community ('abhpro', 0.0)\n",
      "second most central in community ('zschneido', 0.000293513354857646)\n",
      "second most central in community ('dborrus', 0.0)\n",
      "second most central in community ('chimenti33', 0.0)\n",
      "second most central in community ('isnotclinteastwood', 0.0)\n",
      "second most central in community ('Celeste1492', 0.0)\n",
      "second most central in community ('wehopeuchoke', 0.0)\n",
      "second most central in community ('Sparb_Chittsworth', 0.0)\n",
      "second most central in community ('DanielOwain2015', 0.0)\n",
      "second most central in community ('pilg0re', 0.000293513354857646)\n",
      "second most central in community ('assfrog', 0.0)\n",
      "second most central in community ('VoteOnNovember7', 0.0)\n",
      "second most central in community ('Apple_Of_Eden', 0.000293513354857646)\n",
      "second most central in community ('radickulous', 0.0)\n",
      "second most central in community ('Is_it_really_art', 0.0)\n",
      "second most central in community ('dank_memer_420', 0.0)\n",
      "second most central in community ('Traveleravi', 0.0)\n",
      "second most central in community ('zipzapzooom', 0.0)\n",
      "second most central in community ('teddyrare', 0.0)\n",
      "second most central in community ('bryan89wr', 0.0)\n",
      "second most central in community ('whitelunick', 0.0)\n",
      "second most central in community ('bk_hotdog_man', 0.000293513354857646)\n",
      "second most central in community ('420_blazer', 0.0)\n",
      "second most central in community ('swagmonster4000', 0.000293513354857646)\n",
      "second most central in community ('InfiniteMcCloud', 0.0)\n",
      "second most central in community ('TheJamie', 0.0)\n",
      "second most central in community ('Long_Bone', 0.0)\n",
      "second most central in community ('plobster', 0.0)\n",
      "second most central in community ('troysrus', 0.000293513354857646)\n",
      "second most central in community ('JustFartedASecondAgo', 0.0)\n",
      "second most central in community ('MrDuGlass', 0.0)\n",
      "second most central in community ('FearOfFishs', 0.0)\n",
      "second most central in community ('rowlf_thedog', 0.000293513354857646)\n",
      "second most central in community ('cyril0', 0.000293513354857646)\n"
     ]
    }
   ],
   "source": [
    "for c in communities_more_than_one:\n",
    "    comm_centrality = { v: centrality[v] for v in c }\n",
    "    comm_centrality_sorted = sorted(comm_centrality.items(), key=lambda item: item[1])\n",
    "    print('second most central in community', comm_centrality_sorted[-2])\n"
   ]
  },
  {
   "cell_type": "markdown",
   "metadata": {
    "colab_type": "text",
    "id": "9B8BneBNbQg6"
   },
   "source": [
    "*Task 2*: Create a subgraph of the top-20 users according to the PageRank algorithm. Draw the subgraph."
   ]
  },
  {
   "cell_type": "markdown",
   "metadata": {
    "colab_type": "text",
    "id": "Ngvx0jvpbbrc"
   },
   "source": [
    "*Task 3*: Visualize the distribution of the network's strongly and weakly connected components."
   ]
  },
  {
   "cell_type": "markdown",
   "metadata": {
    "colab_type": "text",
    "id": "1py8MRufbe9e"
   },
   "source": [
    "*Task 4*: Split the network into communities, and find the second most central vertex in each community."
   ]
  },
  {
   "cell_type": "markdown",
   "metadata": {
    "colab_type": "text",
    "id": "O5X4xYV9a9_5"
   },
   "source": [
    "## Part 2"
   ]
  },
  {
   "cell_type": "code",
   "execution_count": 172,
   "metadata": {
    "colab": {},
    "colab_type": "code",
    "id": "IA8jsfgTaxKh"
   },
   "outputs": [],
   "source": [
    "import networkx as nx\n",
    "from networkx.algorithms.centrality import *\n",
    "from scipy.stats import spearmanr \n",
    "from networkx.generators.geometric import random_geometric_graph\n",
    "from networkx.algorithms.community import * "
   ]
  },
  {
   "cell_type": "markdown",
   "metadata": {
    "colab_type": "text",
    "id": "EPEVY9uYanSG"
   },
   "source": [
    "### Lets generate some networks\n",
    "\n",
    "Every network contains four sets of nodes. $a\\in \\{0.1,0.01\\}$ is the probability for an edge between two nodes in the same set. $b\\in \\{0.1,0.01\\}$ is the probability for an edge between two nodes in different communities."
   ]
  },
  {
   "cell_type": "code",
   "execution_count": 208,
   "metadata": {
    "colab": {},
    "colab_type": "code",
    "id": "WHpWnBJhanSS"
   },
   "outputs": [
    {
     "data": {
      "text/plain": [
       "[[[0.01, 0.01, 0.01, 0.01],\n",
       "  [0.01, 0.01, 0.01, 0.01],\n",
       "  [0.01, 0.01, 0.01, 0.01],\n",
       "  [0.01, 0.01, 0.01, 0.01]],\n",
       " [[0.1, 0.01, 0.01, 0.01],\n",
       "  [0.01, 0.1, 0.01, 0.01],\n",
       "  [0.01, 0.01, 0.1, 0.01],\n",
       "  [0.01, 0.01, 0.01, 0.1]],\n",
       " [[0.01, 0.1, 0.1, 0.1],\n",
       "  [0.1, 0.01, 0.1, 0.1],\n",
       "  [0.1, 0.1, 0.01, 0.1],\n",
       "  [0.1, 0.1, 0.1, 0.01]]]"
      ]
     },
     "execution_count": 208,
     "metadata": {},
     "output_type": "execute_result"
    }
   ],
   "source": [
    "blocks = [100,100,100,100]\n",
    "probs = [\n",
    "        [[a,b,b,b],\n",
    "         [b,a,b,b],\n",
    "         [b,b,a,b],\n",
    "         [b,b,b,a]]\n",
    "    for a,b in [(0.01,0.01),(0.1,0.01),(0.01,0.1)]\n",
    "    ]\n",
    "probs"
   ]
  },
  {
   "cell_type": "code",
   "execution_count": 174,
   "metadata": {
    "colab": {
     "base_uri": "https://localhost:8080/",
     "height": 34
    },
    "colab_type": "code",
    "id": "MtS91TWUanSy",
    "outputId": "ae84d7f9-c8ac-489e-c6fa-c9c43a19c8a2"
   },
   "outputs": [
    {
     "name": "stdout",
     "output_type": "stream",
     "text": [
      "There are 300 networks in total.\n"
     ]
    }
   ],
   "source": [
    "nets = [nx.generators.community.stochastic_block_model(blocks,p) for p in probs*100]\n",
    "print(\"There are {} networks in total.\".format(len(nets)))"
   ]
  },
  {
   "cell_type": "markdown",
   "metadata": {
    "colab_type": "text",
    "id": "U6uzcmEUanTW"
   },
   "source": [
    "### Node centrality \n",
    "Your code is here: replace [] accordingly to the comment in the row\n",
    "\n"
   ]
  },
  {
   "cell_type": "code",
   "execution_count": 180,
   "metadata": {
    "colab": {},
    "colab_type": "code",
    "id": "P6OkZrP2anTe"
   },
   "outputs": [
    {
     "data": {
      "text/plain": [
       "{'degree': {0: 0.03759398496240601,\n",
       "  1: 0.047619047619047616,\n",
       "  2: 0.03258145363408521,\n",
       "  3: 0.02506265664160401,\n",
       "  4: 0.03258145363408521,\n",
       "  5: 0.03759398496240601,\n",
       "  6: 0.05012531328320802,\n",
       "  7: 0.02756892230576441,\n",
       "  8: 0.02756892230576441,\n",
       "  9: 0.03508771929824561,\n",
       "  10: 0.03508771929824561,\n",
       "  11: 0.02756892230576441,\n",
       "  12: 0.045112781954887216,\n",
       "  13: 0.022556390977443608,\n",
       "  14: 0.03508771929824561,\n",
       "  15: 0.020050125313283207,\n",
       "  16: 0.02506265664160401,\n",
       "  17: 0.02756892230576441,\n",
       "  18: 0.05263157894736842,\n",
       "  19: 0.02506265664160401,\n",
       "  20: 0.03508771929824561,\n",
       "  21: 0.02506265664160401,\n",
       "  22: 0.02756892230576441,\n",
       "  23: 0.03258145363408521,\n",
       "  24: 0.03508771929824561,\n",
       "  25: 0.03007518796992481,\n",
       "  26: 0.045112781954887216,\n",
       "  27: 0.02756892230576441,\n",
       "  28: 0.03759398496240601,\n",
       "  29: 0.03258145363408521,\n",
       "  30: 0.03007518796992481,\n",
       "  31: 0.02756892230576441,\n",
       "  32: 0.045112781954887216,\n",
       "  33: 0.022556390977443608,\n",
       "  34: 0.03508771929824561,\n",
       "  35: 0.02756892230576441,\n",
       "  36: 0.022556390977443608,\n",
       "  37: 0.03007518796992481,\n",
       "  38: 0.02506265664160401,\n",
       "  39: 0.040100250626566414,\n",
       "  40: 0.02506265664160401,\n",
       "  41: 0.03258145363408521,\n",
       "  42: 0.045112781954887216,\n",
       "  43: 0.020050125313283207,\n",
       "  44: 0.02756892230576441,\n",
       "  45: 0.03759398496240601,\n",
       "  46: 0.03258145363408521,\n",
       "  47: 0.022556390977443608,\n",
       "  48: 0.020050125313283207,\n",
       "  49: 0.045112781954887216,\n",
       "  50: 0.03508771929824561,\n",
       "  51: 0.03007518796992481,\n",
       "  52: 0.040100250626566414,\n",
       "  53: 0.03759398496240601,\n",
       "  54: 0.03759398496240601,\n",
       "  55: 0.03007518796992481,\n",
       "  56: 0.05012531328320802,\n",
       "  57: 0.020050125313283207,\n",
       "  58: 0.022556390977443608,\n",
       "  59: 0.042606516290726815,\n",
       "  60: 0.040100250626566414,\n",
       "  61: 0.042606516290726815,\n",
       "  62: 0.05012531328320802,\n",
       "  63: 0.03258145363408521,\n",
       "  64: 0.03258145363408521,\n",
       "  65: 0.03007518796992481,\n",
       "  66: 0.02756892230576441,\n",
       "  67: 0.022556390977443608,\n",
       "  68: 0.02756892230576441,\n",
       "  69: 0.02756892230576441,\n",
       "  70: 0.03759398496240601,\n",
       "  71: 0.020050125313283207,\n",
       "  72: 0.02506265664160401,\n",
       "  73: 0.03759398496240601,\n",
       "  74: 0.012531328320802004,\n",
       "  75: 0.02756892230576441,\n",
       "  76: 0.03258145363408521,\n",
       "  77: 0.03007518796992481,\n",
       "  78: 0.03759398496240601,\n",
       "  79: 0.03759398496240601,\n",
       "  80: 0.045112781954887216,\n",
       "  81: 0.03258145363408521,\n",
       "  82: 0.03007518796992481,\n",
       "  83: 0.03258145363408521,\n",
       "  84: 0.03508771929824561,\n",
       "  85: 0.02506265664160401,\n",
       "  86: 0.05012531328320802,\n",
       "  87: 0.03258145363408521,\n",
       "  88: 0.045112781954887216,\n",
       "  89: 0.02506265664160401,\n",
       "  90: 0.03258145363408521,\n",
       "  91: 0.015037593984962405,\n",
       "  92: 0.022556390977443608,\n",
       "  93: 0.02756892230576441,\n",
       "  94: 0.020050125313283207,\n",
       "  95: 0.047619047619047616,\n",
       "  96: 0.02506265664160401,\n",
       "  97: 0.03007518796992481,\n",
       "  98: 0.03258145363408521,\n",
       "  99: 0.042606516290726815,\n",
       "  100: 0.02506265664160401,\n",
       "  101: 0.047619047619047616,\n",
       "  102: 0.03258145363408521,\n",
       "  103: 0.03007518796992481,\n",
       "  104: 0.03258145363408521,\n",
       "  105: 0.040100250626566414,\n",
       "  106: 0.02756892230576441,\n",
       "  107: 0.03007518796992481,\n",
       "  108: 0.03258145363408521,\n",
       "  109: 0.040100250626566414,\n",
       "  110: 0.03258145363408521,\n",
       "  111: 0.03508771929824561,\n",
       "  112: 0.03508771929824561,\n",
       "  113: 0.03759398496240601,\n",
       "  114: 0.03258145363408521,\n",
       "  115: 0.02506265664160401,\n",
       "  116: 0.03508771929824561,\n",
       "  117: 0.03258145363408521,\n",
       "  118: 0.03007518796992481,\n",
       "  119: 0.03759398496240601,\n",
       "  120: 0.03258145363408521,\n",
       "  121: 0.03508771929824561,\n",
       "  122: 0.040100250626566414,\n",
       "  123: 0.03508771929824561,\n",
       "  124: 0.03508771929824561,\n",
       "  125: 0.05012531328320802,\n",
       "  126: 0.045112781954887216,\n",
       "  127: 0.02506265664160401,\n",
       "  128: 0.03258145363408521,\n",
       "  129: 0.03258145363408521,\n",
       "  130: 0.03508771929824561,\n",
       "  131: 0.02506265664160401,\n",
       "  132: 0.042606516290726815,\n",
       "  133: 0.03508771929824561,\n",
       "  134: 0.03007518796992481,\n",
       "  135: 0.042606516290726815,\n",
       "  136: 0.03508771929824561,\n",
       "  137: 0.03508771929824561,\n",
       "  138: 0.020050125313283207,\n",
       "  139: 0.02506265664160401,\n",
       "  140: 0.03007518796992481,\n",
       "  141: 0.03007518796992481,\n",
       "  142: 0.040100250626566414,\n",
       "  143: 0.03007518796992481,\n",
       "  144: 0.03508771929824561,\n",
       "  145: 0.02506265664160401,\n",
       "  146: 0.02756892230576441,\n",
       "  147: 0.02756892230576441,\n",
       "  148: 0.03007518796992481,\n",
       "  149: 0.040100250626566414,\n",
       "  150: 0.02506265664160401,\n",
       "  151: 0.02756892230576441,\n",
       "  152: 0.03007518796992481,\n",
       "  153: 0.02506265664160401,\n",
       "  154: 0.020050125313283207,\n",
       "  155: 0.03508771929824561,\n",
       "  156: 0.03508771929824561,\n",
       "  157: 0.03258145363408521,\n",
       "  158: 0.022556390977443608,\n",
       "  159: 0.03007518796992481,\n",
       "  160: 0.022556390977443608,\n",
       "  161: 0.02506265664160401,\n",
       "  162: 0.042606516290726815,\n",
       "  163: 0.042606516290726815,\n",
       "  164: 0.03508771929824561,\n",
       "  165: 0.03759398496240601,\n",
       "  166: 0.03007518796992481,\n",
       "  167: 0.02756892230576441,\n",
       "  168: 0.05012531328320802,\n",
       "  169: 0.02506265664160401,\n",
       "  170: 0.040100250626566414,\n",
       "  171: 0.03508771929824561,\n",
       "  172: 0.03258145363408521,\n",
       "  173: 0.03508771929824561,\n",
       "  174: 0.015037593984962405,\n",
       "  175: 0.03258145363408521,\n",
       "  176: 0.042606516290726815,\n",
       "  177: 0.05513784461152882,\n",
       "  178: 0.040100250626566414,\n",
       "  179: 0.020050125313283207,\n",
       "  180: 0.03759398496240601,\n",
       "  181: 0.03759398496240601,\n",
       "  182: 0.02756892230576441,\n",
       "  183: 0.045112781954887216,\n",
       "  184: 0.03007518796992481,\n",
       "  185: 0.042606516290726815,\n",
       "  186: 0.03258145363408521,\n",
       "  187: 0.022556390977443608,\n",
       "  188: 0.03007518796992481,\n",
       "  189: 0.03508771929824561,\n",
       "  190: 0.022556390977443608,\n",
       "  191: 0.040100250626566414,\n",
       "  192: 0.040100250626566414,\n",
       "  193: 0.03759398496240601,\n",
       "  194: 0.045112781954887216,\n",
       "  195: 0.03508771929824561,\n",
       "  196: 0.03258145363408521,\n",
       "  197: 0.02756892230576441,\n",
       "  198: 0.022556390977443608,\n",
       "  199: 0.03007518796992481,\n",
       "  200: 0.03759398496240601,\n",
       "  201: 0.03007518796992481,\n",
       "  202: 0.03508771929824561,\n",
       "  203: 0.02756892230576441,\n",
       "  204: 0.02756892230576441,\n",
       "  205: 0.020050125313283207,\n",
       "  206: 0.03258145363408521,\n",
       "  207: 0.042606516290726815,\n",
       "  208: 0.020050125313283207,\n",
       "  209: 0.02756892230576441,\n",
       "  210: 0.045112781954887216,\n",
       "  211: 0.03007518796992481,\n",
       "  212: 0.022556390977443608,\n",
       "  213: 0.042606516290726815,\n",
       "  214: 0.03258145363408521,\n",
       "  215: 0.02756892230576441,\n",
       "  216: 0.03258145363408521,\n",
       "  217: 0.03759398496240601,\n",
       "  218: 0.040100250626566414,\n",
       "  219: 0.02506265664160401,\n",
       "  220: 0.03508771929824561,\n",
       "  221: 0.05012531328320802,\n",
       "  222: 0.02756892230576441,\n",
       "  223: 0.03258145363408521,\n",
       "  224: 0.03007518796992481,\n",
       "  225: 0.03007518796992481,\n",
       "  226: 0.022556390977443608,\n",
       "  227: 0.03759398496240601,\n",
       "  228: 0.040100250626566414,\n",
       "  229: 0.03258145363408521,\n",
       "  230: 0.02506265664160401,\n",
       "  231: 0.047619047619047616,\n",
       "  232: 0.020050125313283207,\n",
       "  233: 0.03508771929824561,\n",
       "  234: 0.02756892230576441,\n",
       "  235: 0.040100250626566414,\n",
       "  236: 0.022556390977443608,\n",
       "  237: 0.03508771929824561,\n",
       "  238: 0.03007518796992481,\n",
       "  239: 0.020050125313283207,\n",
       "  240: 0.015037593984962405,\n",
       "  241: 0.03508771929824561,\n",
       "  242: 0.03759398496240601,\n",
       "  243: 0.03007518796992481,\n",
       "  244: 0.03759398496240601,\n",
       "  245: 0.03759398496240601,\n",
       "  246: 0.03258145363408521,\n",
       "  247: 0.03759398496240601,\n",
       "  248: 0.03759398496240601,\n",
       "  249: 0.040100250626566414,\n",
       "  250: 0.022556390977443608,\n",
       "  251: 0.03258145363408521,\n",
       "  252: 0.020050125313283207,\n",
       "  253: 0.02756892230576441,\n",
       "  254: 0.05012531328320802,\n",
       "  255: 0.03007518796992481,\n",
       "  256: 0.03007518796992481,\n",
       "  257: 0.02506265664160401,\n",
       "  258: 0.03759398496240601,\n",
       "  259: 0.03258145363408521,\n",
       "  260: 0.012531328320802004,\n",
       "  261: 0.045112781954887216,\n",
       "  262: 0.02756892230576441,\n",
       "  263: 0.022556390977443608,\n",
       "  264: 0.022556390977443608,\n",
       "  265: 0.03007518796992481,\n",
       "  266: 0.03759398496240601,\n",
       "  267: 0.02506265664160401,\n",
       "  268: 0.02506265664160401,\n",
       "  269: 0.02506265664160401,\n",
       "  270: 0.047619047619047616,\n",
       "  271: 0.03258145363408521,\n",
       "  272: 0.017543859649122806,\n",
       "  273: 0.05012531328320802,\n",
       "  274: 0.017543859649122806,\n",
       "  275: 0.040100250626566414,\n",
       "  276: 0.045112781954887216,\n",
       "  277: 0.03508771929824561,\n",
       "  278: 0.047619047619047616,\n",
       "  279: 0.022556390977443608,\n",
       "  280: 0.03258145363408521,\n",
       "  281: 0.022556390977443608,\n",
       "  282: 0.040100250626566414,\n",
       "  283: 0.03508771929824561,\n",
       "  284: 0.03258145363408521,\n",
       "  285: 0.020050125313283207,\n",
       "  286: 0.040100250626566414,\n",
       "  287: 0.03508771929824561,\n",
       "  288: 0.045112781954887216,\n",
       "  289: 0.03258145363408521,\n",
       "  290: 0.03007518796992481,\n",
       "  291: 0.02756892230576441,\n",
       "  292: 0.02756892230576441,\n",
       "  293: 0.047619047619047616,\n",
       "  294: 0.020050125313283207,\n",
       "  295: 0.03258145363408521,\n",
       "  296: 0.020050125313283207,\n",
       "  297: 0.03508771929824561,\n",
       "  298: 0.045112781954887216,\n",
       "  299: 0.03007518796992481,\n",
       "  300: 0.03007518796992481,\n",
       "  301: 0.02756892230576441,\n",
       "  302: 0.042606516290726815,\n",
       "  303: 0.020050125313283207,\n",
       "  304: 0.040100250626566414,\n",
       "  305: 0.042606516290726815,\n",
       "  306: 0.02506265664160401,\n",
       "  307: 0.03007518796992481,\n",
       "  308: 0.05012531328320802,\n",
       "  309: 0.02756892230576441,\n",
       "  310: 0.02506265664160401,\n",
       "  311: 0.03007518796992481,\n",
       "  312: 0.03508771929824561,\n",
       "  313: 0.02756892230576441,\n",
       "  314: 0.02756892230576441,\n",
       "  315: 0.045112781954887216,\n",
       "  316: 0.040100250626566414,\n",
       "  317: 0.03508771929824561,\n",
       "  318: 0.02756892230576441,\n",
       "  319: 0.020050125313283207,\n",
       "  320: 0.03258145363408521,\n",
       "  321: 0.03007518796992481,\n",
       "  322: 0.020050125313283207,\n",
       "  323: 0.02756892230576441,\n",
       "  324: 0.042606516290726815,\n",
       "  325: 0.012531328320802004,\n",
       "  326: 0.05012531328320802,\n",
       "  327: 0.03759398496240601,\n",
       "  328: 0.03508771929824561,\n",
       "  329: 0.03508771929824561,\n",
       "  330: 0.03007518796992481,\n",
       "  331: 0.020050125313283207,\n",
       "  332: 0.02506265664160401,\n",
       "  333: 0.03508771929824561,\n",
       "  334: 0.03007518796992481,\n",
       "  335: 0.03007518796992481,\n",
       "  336: 0.03007518796992481,\n",
       "  337: 0.03258145363408521,\n",
       "  338: 0.02756892230576441,\n",
       "  339: 0.02506265664160401,\n",
       "  340: 0.015037593984962405,\n",
       "  341: 0.02756892230576441,\n",
       "  342: 0.03258145363408521,\n",
       "  343: 0.040100250626566414,\n",
       "  344: 0.03508771929824561,\n",
       "  345: 0.020050125313283207,\n",
       "  346: 0.02756892230576441,\n",
       "  347: 0.03258145363408521,\n",
       "  348: 0.015037593984962405,\n",
       "  349: 0.03258145363408521,\n",
       "  350: 0.03258145363408521,\n",
       "  351: 0.03258145363408521,\n",
       "  352: 0.02756892230576441,\n",
       "  353: 0.040100250626566414,\n",
       "  354: 0.02506265664160401,\n",
       "  355: 0.042606516290726815,\n",
       "  356: 0.03508771929824561,\n",
       "  357: 0.02506265664160401,\n",
       "  358: 0.017543859649122806,\n",
       "  359: 0.020050125313283207,\n",
       "  360: 0.020050125313283207,\n",
       "  361: 0.02756892230576441,\n",
       "  362: 0.045112781954887216,\n",
       "  363: 0.03508771929824561,\n",
       "  364: 0.03007518796992481,\n",
       "  365: 0.042606516290726815,\n",
       "  366: 0.03007518796992481,\n",
       "  367: 0.040100250626566414,\n",
       "  368: 0.03007518796992481,\n",
       "  369: 0.03258145363408521,\n",
       "  370: 0.03258145363408521,\n",
       "  371: 0.03007518796992481,\n",
       "  372: 0.03007518796992481,\n",
       "  373: 0.022556390977443608,\n",
       "  374: 0.022556390977443608,\n",
       "  375: 0.042606516290726815,\n",
       "  376: 0.042606516290726815,\n",
       "  377: 0.03258145363408521,\n",
       "  378: 0.02506265664160401,\n",
       "  379: 0.040100250626566414,\n",
       "  380: 0.045112781954887216,\n",
       "  381: 0.02756892230576441,\n",
       "  382: 0.03759398496240601,\n",
       "  383: 0.020050125313283207,\n",
       "  384: 0.03759398496240601,\n",
       "  385: 0.042606516290726815,\n",
       "  386: 0.015037593984962405,\n",
       "  387: 0.040100250626566414,\n",
       "  388: 0.02756892230576441,\n",
       "  389: 0.040100250626566414,\n",
       "  390: 0.03007518796992481,\n",
       "  391: 0.020050125313283207,\n",
       "  392: 0.017543859649122806,\n",
       "  393: 0.02506265664160401,\n",
       "  394: 0.03258145363408521,\n",
       "  395: 0.03258145363408521,\n",
       "  396: 0.020050125313283207,\n",
       "  397: 0.040100250626566414,\n",
       "  398: 0.03007518796992481,\n",
       "  399: 0.03508771929824561},\n",
       " 'closeness': {0: 0.381453154875717,\n",
       "  1: 0.3986013986013986,\n",
       "  2: 0.38036224976167776,\n",
       "  3: 0.3512323943661972,\n",
       "  4: 0.37464788732394366,\n",
       "  5: 0.3877551020408163,\n",
       "  6: 0.3942687747035573,\n",
       "  7: 0.36538461538461536,\n",
       "  8: 0.3674033149171271,\n",
       "  9: 0.3757062146892655,\n",
       "  10: 0.37012987012987014,\n",
       "  11: 0.3660550458715596,\n",
       "  12: 0.3919449901768173,\n",
       "  13: 0.3660550458715596,\n",
       "  14: 0.37116279069767444,\n",
       "  15: 0.3466550825369244,\n",
       "  16: 0.3697868396663577,\n",
       "  17: 0.3650503202195791,\n",
       "  18: 0.4006024096385542,\n",
       "  19: 0.3604336043360434,\n",
       "  20: 0.382183908045977,\n",
       "  21: 0.35816876122082586,\n",
       "  22: 0.3687615526802218,\n",
       "  23: 0.37927756653992395,\n",
       "  24: 0.381453154875717,\n",
       "  25: 0.36239782016348776,\n",
       "  26: 0.3896484375,\n",
       "  27: 0.35816876122082586,\n",
       "  28: 0.375,\n",
       "  29: 0.370817843866171,\n",
       "  30: 0.3778409090909091,\n",
       "  31: 0.3728971962616822,\n",
       "  32: 0.38072519083969464,\n",
       "  33: 0.3512323943661972,\n",
       "  34: 0.37748344370860926,\n",
       "  35: 0.3633879781420765,\n",
       "  36: 0.34485738980121,\n",
       "  37: 0.370817843866171,\n",
       "  38: 0.3617407071622847,\n",
       "  39: 0.38402309913378246,\n",
       "  40: 0.36272727272727273,\n",
       "  41: 0.3796384395813511,\n",
       "  42: 0.40181268882175225,\n",
       "  43: 0.34695652173913044,\n",
       "  44: 0.37047353760445684,\n",
       "  45: 0.382183908045977,\n",
       "  46: 0.36808118081180813,\n",
       "  47: 0.34847161572052404,\n",
       "  48: 0.36141304347826086,\n",
       "  49: 0.38926829268292684,\n",
       "  50: 0.3907933398628795,\n",
       "  51: 0.36639118457300274,\n",
       "  52: 0.3896484375,\n",
       "  53: 0.3862536302032914,\n",
       "  54: 0.38036224976167776,\n",
       "  55: 0.3620689655172414,\n",
       "  56: 0.3993993993993994,\n",
       "  57: 0.3367088607594937,\n",
       "  58: 0.35216240070609,\n",
       "  59: 0.3931034482758621,\n",
       "  60: 0.38,\n",
       "  61: 0.38036224976167776,\n",
       "  62: 0.3885102239532619,\n",
       "  63: 0.3739456419868791,\n",
       "  64: 0.382183908045977,\n",
       "  65: 0.37677053824362605,\n",
       "  66: 0.3647166361974406,\n",
       "  67: 0.35625,\n",
       "  68: 0.3647166361974406,\n",
       "  69: 0.36774193548387096,\n",
       "  70: 0.38700290979631424,\n",
       "  71: 0.3584905660377358,\n",
       "  72: 0.3601083032490975,\n",
       "  73: 0.3877551020408163,\n",
       "  74: 0.3330550918196995,\n",
       "  75: 0.3687615526802218,\n",
       "  76: 0.3825503355704698,\n",
       "  77: 0.3633879781420765,\n",
       "  78: 0.3877551020408163,\n",
       "  79: 0.3836538461538462,\n",
       "  80: 0.39504950495049507,\n",
       "  81: 0.38,\n",
       "  82: 0.3728971962616822,\n",
       "  83: 0.3858800773694391,\n",
       "  84: 0.38,\n",
       "  85: 0.37220149253731344,\n",
       "  86: 0.40100502512562813,\n",
       "  87: 0.37116279069767444,\n",
       "  88: 0.3896484375,\n",
       "  89: 0.36538461538461536,\n",
       "  90: 0.3760603204524034,\n",
       "  91: 0.3392857142857143,\n",
       "  92: 0.36571952337305225,\n",
       "  93: 0.36141304347826086,\n",
       "  94: 0.34786399302528337,\n",
       "  95: 0.3907933398628795,\n",
       "  96: 0.36808118081180813,\n",
       "  97: 0.3687615526802218,\n",
       "  98: 0.370817843866171,\n",
       "  99: 0.39387956564659427,\n",
       "  100: 0.357847533632287,\n",
       "  101: 0.4063136456211813,\n",
       "  102: 0.370817843866171,\n",
       "  103: 0.38181818181818183,\n",
       "  104: 0.3670653173873045,\n",
       "  105: 0.38328530259365995,\n",
       "  106: 0.3601083032490975,\n",
       "  107: 0.37429643527204504,\n",
       "  108: 0.3789173789173789,\n",
       "  109: 0.37677053824362605,\n",
       "  110: 0.38737864077669903,\n",
       "  111: 0.38,\n",
       "  112: 0.37047353760445684,\n",
       "  113: 0.38926829268292684,\n",
       "  114: 0.37748344370860926,\n",
       "  115: 0.34938704028021017,\n",
       "  116: 0.3753527751646284,\n",
       "  117: 0.3633879781420765,\n",
       "  118: 0.3715083798882682,\n",
       "  119: 0.3825503355704698,\n",
       "  120: 0.375,\n",
       "  121: 0.3739456419868791,\n",
       "  122: 0.3877551020408163,\n",
       "  123: 0.37429643527204504,\n",
       "  124: 0.3885102239532619,\n",
       "  125: 0.3970149253731343,\n",
       "  126: 0.3907933398628795,\n",
       "  127: 0.3643835616438356,\n",
       "  128: 0.38036224976167776,\n",
       "  129: 0.3674033149171271,\n",
       "  130: 0.3718546132339236,\n",
       "  131: 0.3637192342752963,\n",
       "  132: 0.3836538461538462,\n",
       "  133: 0.38476374156219867,\n",
       "  134: 0.3674033149171271,\n",
       "  135: 0.38402309913378246,\n",
       "  136: 0.38402309913378246,\n",
       "  137: 0.382183908045977,\n",
       "  138: 0.3537234042553192,\n",
       "  139: 0.3506151142355009,\n",
       "  140: 0.3739456419868791,\n",
       "  141: 0.3643835616438356,\n",
       "  142: 0.38926829268292684,\n",
       "  143: 0.37324602432179604,\n",
       "  144: 0.38328530259365995,\n",
       "  145: 0.34938704028021017,\n",
       "  146: 0.3604336043360434,\n",
       "  147: 0.3670653173873045,\n",
       "  148: 0.3715083798882682,\n",
       "  149: 0.39002932551319647,\n",
       "  150: 0.3660550458715596,\n",
       "  151: 0.36405109489051096,\n",
       "  152: 0.37464788732394366,\n",
       "  153: 0.36774193548387096,\n",
       "  154: 0.3487762237762238,\n",
       "  155: 0.37220149253731344,\n",
       "  156: 0.3885102239532619,\n",
       "  157: 0.3778409090909091,\n",
       "  158: 0.3392857142857143,\n",
       "  159: 0.36239782016348776,\n",
       "  160: 0.357847533632287,\n",
       "  161: 0.3604336043360434,\n",
       "  162: 0.37677053824362605,\n",
       "  163: 0.38,\n",
       "  164: 0.37927756653992395,\n",
       "  165: 0.38476374156219867,\n",
       "  166: 0.37927756653992395,\n",
       "  167: 0.35816876122082586,\n",
       "  168: 0.3986013986013986,\n",
       "  169: 0.35529830810329477,\n",
       "  170: 0.37819905213270144,\n",
       "  171: 0.381453154875717,\n",
       "  172: 0.37047353760445684,\n",
       "  173: 0.3718546132339236,\n",
       "  174: 0.3176751592356688,\n",
       "  175: 0.37819905213270144,\n",
       "  176: 0.40100502512562813,\n",
       "  177: 0.40797546012269936,\n",
       "  178: 0.3855072463768116,\n",
       "  179: 0.35561497326203206,\n",
       "  180: 0.381453154875717,\n",
       "  181: 0.3739456419868791,\n",
       "  182: 0.3728971962616822,\n",
       "  183: 0.38700290979631424,\n",
       "  184: 0.36808118081180813,\n",
       "  185: 0.3836538461538462,\n",
       "  186: 0.3858800773694391,\n",
       "  187: 0.35625,\n",
       "  188: 0.3687615526802218,\n",
       "  189: 0.3697868396663577,\n",
       "  190: 0.3684210526315789,\n",
       "  191: 0.3825503355704698,\n",
       "  192: 0.3858800773694391,\n",
       "  193: 0.3825503355704698,\n",
       "  194: 0.3862536302032914,\n",
       "  195: 0.38036224976167776,\n",
       "  196: 0.3739456419868791,\n",
       "  197: 0.36272727272727273,\n",
       "  198: 0.35881294964028776,\n",
       "  199: 0.3728971962616822,\n",
       "  200: 0.3757062146892655,\n",
       "  201: 0.3728971962616822,\n",
       "  202: 0.38513513513513514,\n",
       "  203: 0.370817843866171,\n",
       "  204: 0.3630573248407643,\n",
       "  205: 0.3575268817204301,\n",
       "  206: 0.3753527751646284,\n",
       "  207: 0.3904109589041096,\n",
       "  208: 0.34545454545454546,\n",
       "  209: 0.35913591359135916,\n",
       "  210: 0.381453154875717,\n",
       "  211: 0.3610859728506787,\n",
       "  212: 0.35881294964028776,\n",
       "  213: 0.3866279069767442,\n",
       "  214: 0.382183908045977,\n",
       "  215: 0.36571952337305225,\n",
       "  216: 0.3670653173873045,\n",
       "  217: 0.3757062146892655,\n",
       "  218: 0.3877551020408163,\n",
       "  219: 0.3728971962616822,\n",
       "  220: 0.3718546132339236,\n",
       "  221: 0.3911764705882353,\n",
       "  222: 0.36405109489051096,\n",
       "  223: 0.36672794117647056,\n",
       "  224: 0.370817843866171,\n",
       "  225: 0.36808118081180813,\n",
       "  226: 0.35185185185185186,\n",
       "  227: 0.382183908045977,\n",
       "  228: 0.37220149253731344,\n",
       "  229: 0.3715083798882682,\n",
       "  230: 0.35688729874776387,\n",
       "  231: 0.39544103072348863,\n",
       "  232: 0.35978358881875566,\n",
       "  233: 0.38476374156219867,\n",
       "  234: 0.36141304347826086,\n",
       "  235: 0.38036224976167776,\n",
       "  236: 0.35688729874776387,\n",
       "  237: 0.3715083798882682,\n",
       "  238: 0.3604336043360434,\n",
       "  239: 0.3534100974313552,\n",
       "  240: 0.3384223918575064,\n",
       "  241: 0.382183908045977,\n",
       "  242: 0.38926829268292684,\n",
       "  243: 0.3697868396663577,\n",
       "  244: 0.38439306358381503,\n",
       "  245: 0.3904109589041096,\n",
       "  246: 0.37927756653992395,\n",
       "  247: 0.38513513513513514,\n",
       "  248: 0.37254901960784315,\n",
       "  249: 0.38108882521489973,\n",
       "  250: 0.35216240070609,\n",
       "  251: 0.38476374156219867,\n",
       "  252: 0.3472584856396867,\n",
       "  253: 0.3643835616438356,\n",
       "  254: 0.3970149253731343,\n",
       "  255: 0.3575268817204301,\n",
       "  256: 0.3760603204524034,\n",
       "  257: 0.357847533632287,\n",
       "  258: 0.36672794117647056,\n",
       "  259: 0.38476374156219867,\n",
       "  260: 0.3192,\n",
       "  261: 0.39544103072348863,\n",
       "  262: 0.3687615526802218,\n",
       "  263: 0.35881294964028776,\n",
       "  264: 0.3617407071622847,\n",
       "  265: 0.3604336043360434,\n",
       "  266: 0.3825503355704698,\n",
       "  267: 0.3546666666666667,\n",
       "  268: 0.3620689655172414,\n",
       "  269: 0.35185185185185186,\n",
       "  270: 0.3862536302032914,\n",
       "  271: 0.37047353760445684,\n",
       "  272: 0.3352941176470588,\n",
       "  273: 0.4054878048780488,\n",
       "  274: 0.344559585492228,\n",
       "  275: 0.38328530259365995,\n",
       "  276: 0.3927165354330709,\n",
       "  277: 0.3691026827012026,\n",
       "  278: 0.4063136456211813,\n",
       "  279: 0.36538461538461536,\n",
       "  280: 0.37677053824362605,\n",
       "  281: 0.35247349823321555,\n",
       "  282: 0.38476374156219867,\n",
       "  283: 0.37855787476280833,\n",
       "  284: 0.3829174664107486,\n",
       "  285: 0.3463541666666667,\n",
       "  286: 0.38328530259365995,\n",
       "  287: 0.38328530259365995,\n",
       "  288: 0.3911764705882353,\n",
       "  289: 0.3684210526315789,\n",
       "  290: 0.3674033149171271,\n",
       "  291: 0.37429643527204504,\n",
       "  292: 0.37047353760445684,\n",
       "  293: 0.39349112426035504,\n",
       "  294: 0.3475609756097561,\n",
       "  295: 0.37359550561797755,\n",
       "  296: 0.3466550825369244,\n",
       "  297: 0.38108882521489973,\n",
       "  298: 0.3862536302032914,\n",
       "  299: 0.37012987012987014,\n",
       "  300: 0.3796384395813511,\n",
       "  301: 0.37047353760445684,\n",
       "  302: 0.38181818181818183,\n",
       "  303: 0.3601083032490975,\n",
       "  304: 0.37641509433962267,\n",
       "  305: 0.3942687747035573,\n",
       "  306: 0.3643835616438356,\n",
       "  307: 0.3757062146892655,\n",
       "  308: 0.3993993993993994,\n",
       "  309: 0.3739456419868791,\n",
       "  310: 0.35720680393912263,\n",
       "  311: 0.3630573248407643,\n",
       "  312: 0.3836538461538462,\n",
       "  313: 0.3530973451327434,\n",
       "  314: 0.36808118081180813,\n",
       "  315: 0.3904109589041096,\n",
       "  316: 0.381453154875717,\n",
       "  317: 0.3660550458715596,\n",
       "  318: 0.35945945945945945,\n",
       "  319: 0.3421955403087479,\n",
       "  320: 0.35978358881875566,\n",
       "  321: 0.3718546132339236,\n",
       "  322: 0.35720680393912263,\n",
       "  323: 0.37116279069767444,\n",
       "  324: 0.3866279069767442,\n",
       "  325: 0.3199679230152366,\n",
       "  326: 0.3993993993993994,\n",
       "  327: 0.38402309913378246,\n",
       "  328: 0.3697868396663577,\n",
       "  329: 0.3778409090909091,\n",
       "  330: 0.3650503202195791,\n",
       "  331: 0.3559322033898305,\n",
       "  332: 0.3601083032490975,\n",
       "  333: 0.3789173789173789,\n",
       "  334: 0.3691026827012026,\n",
       "  335: 0.3825503355704698,\n",
       "  336: 0.37116279069767444,\n",
       "  337: 0.36672794117647056,\n",
       "  338: 0.3650503202195791,\n",
       "  339: 0.35656836461126007,\n",
       "  340: 0.34190231362467866,\n",
       "  341: 0.36944444444444446,\n",
       "  342: 0.3715083798882682,\n",
       "  343: 0.38402309913378246,\n",
       "  344: 0.38036224976167776,\n",
       "  345: 0.3496932515337423,\n",
       "  346: 0.35561497326203206,\n",
       "  347: 0.37429643527204504,\n",
       "  348: 0.33222314737718567,\n",
       "  349: 0.37220149253731344,\n",
       "  350: 0.382183908045977,\n",
       "  351: 0.3670653173873045,\n",
       "  352: 0.36639118457300274,\n",
       "  353: 0.3771266540642722,\n",
       "  354: 0.36808118081180813,\n",
       "  355: 0.3919449901768173,\n",
       "  356: 0.3739456419868791,\n",
       "  357: 0.36571952337305225,\n",
       "  358: 0.3333333333333333,\n",
       "  359: 0.35625,\n",
       "  360: 0.3506151142355009,\n",
       "  361: 0.36808118081180813,\n",
       "  362: 0.3966202783300199,\n",
       "  363: 0.3778409090909091,\n",
       "  364: 0.3674033149171271,\n",
       "  365: 0.3877551020408163,\n",
       "  366: 0.36639118457300274,\n",
       "  367: 0.39544103072348863,\n",
       "  368: 0.37677053824362605,\n",
       "  369: 0.3789173789173789,\n",
       "  370: 0.382183908045977,\n",
       "  371: 0.36571952337305225,\n",
       "  372: 0.36774193548387096,\n",
       "  373: 0.35498220640569395,\n",
       "  374: 0.35978358881875566,\n",
       "  375: 0.382183908045977,\n",
       "  376: 0.38402309913378246,\n",
       "  377: 0.37464788732394366,\n",
       "  378: 0.36774193548387096,\n",
       "  379: 0.38813229571984437,\n",
       "  380: 0.38813229571984437,\n",
       "  381: 0.3691026827012026,\n",
       "  382: 0.3885102239532619,\n",
       "  383: 0.3515418502202643,\n",
       "  384: 0.370817843866171,\n",
       "  385: 0.3778409090909091,\n",
       "  386: 0.3355761143818335,\n",
       "  387: 0.3789173789173789,\n",
       "  388: 0.3674033149171271,\n",
       "  389: 0.38328530259365995,\n",
       "  390: 0.3753527751646284,\n",
       "  391: 0.35,\n",
       "  392: 0.3424892703862661,\n",
       "  393: 0.35978358881875566,\n",
       "  394: 0.37220149253731344,\n",
       "  395: 0.375,\n",
       "  396: 0.3546666666666667,\n",
       "  397: 0.3739456419868791,\n",
       "  398: 0.3604336043360434,\n",
       "  399: 0.37324602432179604},\n",
       " 'betweenness': {0: 0.004756318380682399,\n",
       "  1: 0.00967914783307263,\n",
       "  2: 0.004198882878038158,\n",
       "  3: 0.0014592033067743417,\n",
       "  4: 0.004029775152579204,\n",
       "  5: 0.005803811729113349,\n",
       "  6: 0.007729976502294502,\n",
       "  7: 0.0035908113662501285,\n",
       "  8: 0.0028667694308835145,\n",
       "  9: 0.0040613922339697035,\n",
       "  10: 0.0035132371464616677,\n",
       "  11: 0.0028487664718658953,\n",
       "  12: 0.008090608100769102,\n",
       "  13: 0.002419538056280581,\n",
       "  14: 0.005405018516644041,\n",
       "  15: 0.0007286070925401905,\n",
       "  16: 0.0032464653380174712,\n",
       "  17: 0.0021672028518821876,\n",
       "  18: 0.010125555381505615,\n",
       "  19: 0.002890987412865768,\n",
       "  20: 0.0043029040368287785,\n",
       "  21: 0.001953982027748729,\n",
       "  22: 0.00365593838408392,\n",
       "  23: 0.003932301525360297,\n",
       "  24: 0.005819993306577934,\n",
       "  25: 0.002572591996442261,\n",
       "  26: 0.009747206101868506,\n",
       "  27: 0.0027191894567179034,\n",
       "  28: 0.005209680360424599,\n",
       "  29: 0.003292951190944275,\n",
       "  30: 0.0035054544422503673,\n",
       "  31: 0.002923387275756194,\n",
       "  32: 0.005488210981669529,\n",
       "  33: 0.0020454344064904954,\n",
       "  34: 0.004595452134757669,\n",
       "  35: 0.002703977126458961,\n",
       "  36: 0.0014000671645128448,\n",
       "  37: 0.00372675403544004,\n",
       "  38: 0.002962932272777967,\n",
       "  39: 0.004848881450856579,\n",
       "  40: 0.0023979025285930018,\n",
       "  41: 0.003923460447848422,\n",
       "  42: 0.009087404507442217,\n",
       "  43: 0.0008094715293423334,\n",
       "  44: 0.003504013117002277,\n",
       "  45: 0.005924220639388999,\n",
       "  46: 0.0033651915876120736,\n",
       "  47: 0.002103573972041064,\n",
       "  48: 0.0019566575546177117,\n",
       "  49: 0.006631598112409556,\n",
       "  50: 0.005321568133335673,\n",
       "  51: 0.0030848653202832357,\n",
       "  52: 0.00637700101817217,\n",
       "  53: 0.006000651581786823,\n",
       "  54: 0.004726356057622541,\n",
       "  55: 0.0030644260180371437,\n",
       "  56: 0.010431418895435977,\n",
       "  57: 0.001099905131788119,\n",
       "  58: 0.001572472899062598,\n",
       "  59: 0.009471696939143286,\n",
       "  60: 0.004532223662628424,\n",
       "  61: 0.007121673823036895,\n",
       "  62: 0.008044730382512771,\n",
       "  63: 0.005479411123599212,\n",
       "  64: 0.005515553353128473,\n",
       "  65: 0.004190502152025482,\n",
       "  66: 0.0021819249126837806,\n",
       "  67: 0.0015736759259048216,\n",
       "  68: 0.00352790579754563,\n",
       "  69: 0.0031117312513294334,\n",
       "  70: 0.005726411795847319,\n",
       "  71: 0.0014268725198532412,\n",
       "  72: 0.0017193955359950618,\n",
       "  73: 0.006132279461437332,\n",
       "  74: 0.0004586145717023678,\n",
       "  75: 0.0031103664331311857,\n",
       "  76: 0.004064307696492603,\n",
       "  77: 0.002943842342909929,\n",
       "  78: 0.005897613666436574,\n",
       "  79: 0.007414484561115029,\n",
       "  80: 0.00903906472685619,\n",
       "  81: 0.005210780562024407,\n",
       "  82: 0.0028387265572780993,\n",
       "  83: 0.003992923918498342,\n",
       "  84: 0.005079035780593114,\n",
       "  85: 0.00206584144977867,\n",
       "  86: 0.009492846247282508,\n",
       "  87: 0.0037579438948811598,\n",
       "  88: 0.006645797547583082,\n",
       "  89: 0.0025657435006155036,\n",
       "  90: 0.0036848687105047982,\n",
       "  91: 0.0009591552038180125,\n",
       "  92: 0.002997773236780339,\n",
       "  93: 0.0027624161087569403,\n",
       "  94: 0.0009308759208629841,\n",
       "  95: 0.006916209055439253,\n",
       "  96: 0.0028911279051292947,\n",
       "  97: 0.003343165743553797,\n",
       "  98: 0.003598991314493561,\n",
       "  99: 0.0076566022792792605,\n",
       "  100: 0.002190604632581221,\n",
       "  101: 0.01046186384374511,\n",
       "  102: 0.004739974167308436,\n",
       "  103: 0.004096161584042421,\n",
       "  104: 0.004311458406331117,\n",
       "  105: 0.005278058256583934,\n",
       "  106: 0.0029309284369648317,\n",
       "  107: 0.004234414368035125,\n",
       "  108: 0.004828797156235626,\n",
       "  109: 0.004699365072555772,\n",
       "  110: 0.005452703922877691,\n",
       "  111: 0.004432286794613771,\n",
       "  112: 0.003104450459621655,\n",
       "  113: 0.006322171071922551,\n",
       "  114: 0.004008848470802061,\n",
       "  115: 0.001958295252156661,\n",
       "  116: 0.0048657938266802574,\n",
       "  117: 0.002188787833802566,\n",
       "  118: 0.0037614567938818316,\n",
       "  119: 0.006596438465636478,\n",
       "  120: 0.0036687852543533244,\n",
       "  121: 0.004388962573941623,\n",
       "  122: 0.006535187870971101,\n",
       "  123: 0.0034289972480665443,\n",
       "  124: 0.005511324750072828,\n",
       "  125: 0.010345941066025812,\n",
       "  126: 0.00807359751008681,\n",
       "  127: 0.0021004356382700734,\n",
       "  128: 0.004719743133430282,\n",
       "  129: 0.003036373754660676,\n",
       "  130: 0.0040941844630555035,\n",
       "  131: 0.00297992599160179,\n",
       "  132: 0.0066922397496552155,\n",
       "  133: 0.005067793892376644,\n",
       "  134: 0.002425545603764416,\n",
       "  135: 0.005705887739325087,\n",
       "  136: 0.0047287158488651705,\n",
       "  137: 0.006132216214505249,\n",
       "  138: 0.000973944655625196,\n",
       "  139: 0.0011242074461503678,\n",
       "  140: 0.0034319391315381434,\n",
       "  141: 0.0025172385139525686,\n",
       "  142: 0.00641127863672563,\n",
       "  143: 0.004046104343013206,\n",
       "  144: 0.005257646322543992,\n",
       "  145: 0.0022045268103266496,\n",
       "  146: 0.002611476289091929,\n",
       "  147: 0.0028252446426960103,\n",
       "  148: 0.003371553660673628,\n",
       "  149: 0.006059438544978282,\n",
       "  150: 0.0029192948357316595,\n",
       "  151: 0.0023362696824667174,\n",
       "  152: 0.0033314002055695197,\n",
       "  153: 0.002022919626862144,\n",
       "  154: 0.002063414815520441,\n",
       "  155: 0.004876862690743883,\n",
       "  156: 0.004645233635559409,\n",
       "  157: 0.0041455192237162776,\n",
       "  158: 0.0015507032081825717,\n",
       "  159: 0.0029908529464830057,\n",
       "  160: 0.0023847588212651365,\n",
       "  161: 0.0026242916277447086,\n",
       "  162: 0.004559516248231119,\n",
       "  163: 0.005578845830090388,\n",
       "  164: 0.004512019279614893,\n",
       "  165: 0.006237764702082697,\n",
       "  166: 0.004085588593053372,\n",
       "  167: 0.0023059497016839894,\n",
       "  168: 0.010817441552590986,\n",
       "  169: 0.0022213460716001034,\n",
       "  170: 0.004494287799524642,\n",
       "  171: 0.004644258720427693,\n",
       "  172: 0.003916777983131523,\n",
       "  173: 0.003582508608116485,\n",
       "  174: 0.00042829974389676373,\n",
       "  175: 0.005147127252556857,\n",
       "  176: 0.008361229307133362,\n",
       "  177: 0.012092749783803864,\n",
       "  178: 0.004652732268787431,\n",
       "  179: 0.0012779010037562823,\n",
       "  180: 0.005939697680296895,\n",
       "  181: 0.0035104350680732945,\n",
       "  182: 0.0035928763505146733,\n",
       "  183: 0.006740032910808484,\n",
       "  184: 0.002102720867081286,\n",
       "  185: 0.005753868578772549,\n",
       "  186: 0.005629134042723367,\n",
       "  187: 0.0016621685723797412,\n",
       "  188: 0.0036688577622374188,\n",
       "  189: 0.0029452980050980503,\n",
       "  190: 0.002161871461434418,\n",
       "  191: 0.006650639651412691,\n",
       "  192: 0.007702605510312015,\n",
       "  193: 0.00621572965736687,\n",
       "  194: 0.007601356065792056,\n",
       "  195: 0.004238427641134433,\n",
       "  196: 0.0042171756356251654,\n",
       "  197: 0.002921744472942184,\n",
       "  198: 0.0016132297400888553,\n",
       "  199: 0.004770771397124022,\n",
       "  200: 0.004182826274163208,\n",
       "  201: 0.0029907147363407837,\n",
       "  202: 0.005653392240811195,\n",
       "  203: 0.002899210450891016,\n",
       "  204: 0.002376094823313122,\n",
       "  205: 0.0018306037634287693,\n",
       "  206: 0.004667727109662798,\n",
       "  207: 0.007452913105728414,\n",
       "  208: 0.002005482395807971,\n",
       "  209: 0.002284999567764528,\n",
       "  210: 0.006854681716457834,\n",
       "  211: 0.0036394384451648603,\n",
       "  212: 0.0028143657732252435,\n",
       "  213: 0.0069786382179097255,\n",
       "  214: 0.005194747376990243,\n",
       "  215: 0.002712350584172623,\n",
       "  216: 0.003389113091532348,\n",
       "  217: 0.004532769993164578,\n",
       "  218: 0.006488979358204473,\n",
       "  219: 0.0029459817276245104,\n",
       "  220: 0.005423601590982236,\n",
       "  221: 0.010223532601249655,\n",
       "  222: 0.00310789753420156,\n",
       "  223: 0.0026148611997169626,\n",
       "  224: 0.0039029418227736973,\n",
       "  225: 0.004093588712538269,\n",
       "  226: 0.0014577706382585705,\n",
       "  227: 0.005035571925757491,\n",
       "  228: 0.004614537212318714,\n",
       "  229: 0.002481599594812691,\n",
       "  230: 0.0022664492318427163,\n",
       "  231: 0.009011866286665119,\n",
       "  232: 0.0012588297546428865,\n",
       "  233: 0.005197472646806401,\n",
       "  234: 0.0020300025861416967,\n",
       "  235: 0.006067929346305116,\n",
       "  236: 0.002109327772983627,\n",
       "  237: 0.00441227516375708,\n",
       "  238: 0.0028529726667861416,\n",
       "  239: 0.0014730602009839764,\n",
       "  240: 0.0005167662073589794,\n",
       "  241: 0.005709122742506991,\n",
       "  242: 0.005295336131198917,\n",
       "  243: 0.003696009511102715,\n",
       "  244: 0.006138261403064102,\n",
       "  245: 0.006926248254482549,\n",
       "  246: 0.005909421104353511,\n",
       "  247: 0.005903432021133754,\n",
       "  248: 0.004006266174107474,\n",
       "  249: 0.006142054829097535,\n",
       "  250: 0.00219500946678213,\n",
       "  251: 0.004610005106540528,\n",
       "  252: 0.0010608169972277518,\n",
       "  253: 0.0028123254986258655,\n",
       "  254: 0.01050545407123324,\n",
       "  255: 0.003141470543521837,\n",
       "  256: 0.004754372919727444,\n",
       "  257: 0.0022675167086746743,\n",
       "  258: 0.003334328228122007,\n",
       "  259: 0.005854903001220551,\n",
       "  260: 0.0002815304110921737,\n",
       "  261: 0.009222624967582011,\n",
       "  262: 0.003180217585986659,\n",
       "  263: 0.00168767276313688,\n",
       "  264: 0.0015959320417167037,\n",
       "  265: 0.003083520708760975,\n",
       "  266: 0.005541197270383455,\n",
       "  267: 0.001768503280615079,\n",
       "  268: 0.0022585903470187553,\n",
       "  269: 0.0021092006795259445,\n",
       "  270: 0.007900262296198599,\n",
       "  271: 0.00400394218345336,\n",
       "  272: 0.0005666621598099188,\n",
       "  273: 0.011857927918003237,\n",
       "  274: 0.001313588637345509,\n",
       "  275: 0.005890836463465063,\n",
       "  276: 0.00781132760472427,\n",
       "  277: 0.00366620985373641,\n",
       "  278: 0.011545005276863739,\n",
       "  279: 0.0021279236185086496,\n",
       "  280: 0.005563315684150128,\n",
       "  281: 0.0019479226567015993,\n",
       "  282: 0.008780268610805825,\n",
       "  283: 0.003985004119395802,\n",
       "  284: 0.005518173260600139,\n",
       "  285: 0.0009623797439278787,\n",
       "  286: 0.006600006225559174,\n",
       "  287: 0.005106049379777021,\n",
       "  288: 0.006973131810098343,\n",
       "  289: 0.003520511901939512,\n",
       "  290: 0.003257386464463584,\n",
       "  291: 0.002728880306039048,\n",
       "  292: 0.0027072054015122127,\n",
       "  293: 0.008984348439767073,\n",
       "  294: 0.001437864530480862,\n",
       "  295: 0.004912209893070201,\n",
       "  296: 0.0013948059552717947,\n",
       "  297: 0.004526792450770128,\n",
       "  298: 0.007286599129036791,\n",
       "  299: 0.00372335216568598,\n",
       "  300: 0.0042485825052006295,\n",
       "  301: 0.0030264136300976667,\n",
       "  302: 0.007005026076446444,\n",
       "  303: 0.002403144193431173,\n",
       "  304: 0.005132693964403547,\n",
       "  305: 0.007442855738323677,\n",
       "  306: 0.0029689572071258255,\n",
       "  307: 0.0048530719775605365,\n",
       "  308: 0.009503356867243556,\n",
       "  309: 0.003433760704716832,\n",
       "  310: 0.0025872212809639203,\n",
       "  311: 0.002250979386974342,\n",
       "  312: 0.007285720214509124,\n",
       "  313: 0.002975306217011675,\n",
       "  314: 0.003919796221820393,\n",
       "  315: 0.008473581440614487,\n",
       "  316: 0.006403229331465914,\n",
       "  317: 0.0030821106012650563,\n",
       "  318: 0.0022858174635072273,\n",
       "  319: 0.0015473002401738456,\n",
       "  320: 0.0032741507516583198,\n",
       "  321: 0.00436203152107533,\n",
       "  322: 0.0019457077759347176,\n",
       "  323: 0.0035942554128608113,\n",
       "  324: 0.006698253340530188,\n",
       "  325: 0.00027985703820752,\n",
       "  326: 0.010974849752786807,\n",
       "  327: 0.005984927756142779,\n",
       "  328: 0.003916152208334631,\n",
       "  329: 0.004160210429672361,\n",
       "  330: 0.003478564040236641,\n",
       "  331: 0.001796860057979112,\n",
       "  332: 0.001924394453026863,\n",
       "  333: 0.00484053154145381,\n",
       "  334: 0.003860821237304461,\n",
       "  335: 0.004316247934231468,\n",
       "  336: 0.0034359476448338287,\n",
       "  337: 0.0032398169109674256,\n",
       "  338: 0.0025977005772209404,\n",
       "  339: 0.0023064602137336126,\n",
       "  340: 0.001171820393947052,\n",
       "  341: 0.0029723784498835704,\n",
       "  342: 0.004575070227265633,\n",
       "  343: 0.005531766422826167,\n",
       "  344: 0.004612747433856952,\n",
       "  345: 0.0019550529356037443,\n",
       "  346: 0.0026270366846331827,\n",
       "  347: 0.004028561505434444,\n",
       "  348: 0.0008617092711580795,\n",
       "  349: 0.004500066902493767,\n",
       "  350: 0.00516089524571727,\n",
       "  351: 0.0033571384594523346,\n",
       "  352: 0.003691514974467007,\n",
       "  353: 0.006517410641262417,\n",
       "  354: 0.0031190310832402706,\n",
       "  355: 0.006136345559185936,\n",
       "  356: 0.005045320580353227,\n",
       "  357: 0.002531996440003604,\n",
       "  358: 0.0008509138616827471,\n",
       "  359: 0.0013138472621044702,\n",
       "  360: 0.0019004833185290594,\n",
       "  361: 0.0032644207895930776,\n",
       "  362: 0.009620009055294617,\n",
       "  363: 0.004737944433887514,\n",
       "  364: 0.004377314985506452,\n",
       "  365: 0.008966907492837533,\n",
       "  366: 0.002229852784168492,\n",
       "  367: 0.008643803247542225,\n",
       "  368: 0.003737913507727772,\n",
       "  369: 0.004384788978212876,\n",
       "  370: 0.004773245208116292,\n",
       "  371: 0.003061120159028006,\n",
       "  372: 0.003269469985855808,\n",
       "  373: 0.0011718158572372004,\n",
       "  374: 0.0027848591610273705,\n",
       "  375: 0.006614822313993798,\n",
       "  376: 0.007074439171535853,\n",
       "  377: 0.0036884494267782997,\n",
       "  378: 0.0029475064298226366,\n",
       "  379: 0.006213951825453587,\n",
       "  380: 0.006639473427199061,\n",
       "  381: 0.0032162403094930874,\n",
       "  382: 0.005811294126678244,\n",
       "  383: 0.0009745652351970699,\n",
       "  384: 0.0047131854808657855,\n",
       "  385: 0.004395047583067958,\n",
       "  386: 0.0007220548464669776,\n",
       "  387: 0.0056284825954581955,\n",
       "  388: 0.002691322220971555,\n",
       "  389: 0.006598503456381608,\n",
       "  390: 0.004239751053447255,\n",
       "  391: 0.0013011940511613211,\n",
       "  392: 0.0010405196988471951,\n",
       "  393: 0.0025666996939889175,\n",
       "  394: 0.006489645375171877,\n",
       "  395: 0.00545708219977381,\n",
       "  396: 0.0017727751422164449,\n",
       "  397: 0.005017890546064834,\n",
       "  398: 0.002507657573140247,\n",
       "  399: 0.004231996625752554}}"
      ]
     },
     "execution_count": 180,
     "metadata": {},
     "output_type": "execute_result"
    }
   ],
   "source": [
    "centralities =  [ {\n",
    "                    'degree': list(nx.degree_centrality(G).values()), #replace [] with a sequence of node degree centralities \n",
    "                    'closeness': list(nx.closeness_centrality(G)).values(),\n",
    "                    'betweenness': list(betweenness_centrality(G).values())\n",
    "                  } \n",
    "                for G in nets\n",
    "                ]\n",
    "centralities[1]"
   ]
  },
  {
   "cell_type": "code",
   "execution_count": 201,
   "metadata": {
    "colab": {},
    "colab_type": "code",
    "id": "rRZXnaiUanTv"
   },
   "outputs": [
    {
     "data": {
      "text/plain": [
       "[(0.8882141028725534, 0.9610989859654334, 0.8679628931882576),\n",
       " (0.9009331983209327, 0.9278696643455474, 0.9418498427317726),\n",
       " (0.9643934967373632, 0.9826481672229762, 0.9445888417910382),\n",
       " (0.8606089186512599, 0.9656943266034282, 0.8565769139143651),\n",
       " (0.8904867449839371, 0.9249195465168621, 0.9391918958701847),\n",
       " (0.9661786925243282, 0.9818490655528376, 0.9407336171637573),\n",
       " (0.8850010822377643, 0.9606754750099961, 0.8788388656398348),\n",
       " (0.9259916237418453, 0.9485761787825437, 0.9457500881304672),\n",
       " (0.9581552609074612, 0.9790302317871202, 0.9350999584413114),\n",
       " (0.8990510620068648, 0.9716528977679726, 0.8963729522975211),\n",
       " (0.8661895388373531, 0.9063909945260804, 0.9374405134078035),\n",
       " (0.9639628960065667, 0.9848349751784989, 0.9440055222922512),\n",
       " (0.8777269924894212, 0.9635380106093062, 0.8852609439157307),\n",
       " (0.888069127698678, 0.9160314458175067, 0.9249995088432947),\n",
       " (0.9584136300095608, 0.9828742705207233, 0.9409538369291114),\n",
       " (0.8875719043219307, 0.959425117730691, 0.8642904313916628),\n",
       " (0.8940644044677242, 0.9256366964015896, 0.9322670831485198),\n",
       " (0.960513074014819, 0.9818797185217149, 0.9337761030369222),\n",
       " (0.8876272660420306, 0.9638240643680986, 0.9034525286606254),\n",
       " (0.9104697404064631, 0.9381435864586729, 0.9434675234186757),\n",
       " (0.950900930064499, 0.9833977153329408, 0.9246661356158387),\n",
       " (0.8911167323271433, 0.9560614193464555, 0.8820427800297389),\n",
       " (0.9317880214955085, 0.9371478129681572, 0.9449351530917823),\n",
       " (0.9634890337438498, 0.9852145067842388, 0.9382015534011582),\n",
       " (0.8912405925391924, 0.9542171737659344, 0.8684581658167482),\n",
       " (0.9076125606450477, 0.9266784326961702, 0.940622320410885),\n",
       " (0.9661753858174562, 0.9842814900114847, 0.9439741655143468),\n",
       " (0.8475160149233892, 0.9671895908933145, 0.8603170282719157),\n",
       " (0.8978600998335216, 0.9182215150996056, 0.9326086814176209),\n",
       " (0.9625151339792332, 0.9834619680621989, 0.9381865154729503),\n",
       " (0.8803920254616743, 0.9659723290275838, 0.8747342103735345),\n",
       " (0.889827402483466, 0.9237117901362306, 0.9241399894571848),\n",
       " (0.956028548055727, 0.9847944675005835, 0.9338570635983295),\n",
       " (0.8816674117429185, 0.9608635792399184, 0.8663686074060832),\n",
       " (0.8937043677033568, 0.917360092178317, 0.9459626184620485),\n",
       " (0.9639799303341378, 0.9835823401715438, 0.9458982377035059),\n",
       " (0.8629420542716337, 0.9536434652641447, 0.8445544558040824),\n",
       " (0.879804944829727, 0.9091542626657331, 0.9365655814309085),\n",
       " (0.9582164708971608, 0.9778401189366901, 0.9288741747161162),\n",
       " (0.8607528921196644, 0.9583346139848901, 0.8729468292350144),\n",
       " (0.8980755340877198, 0.9330129712060686, 0.9378583022155329),\n",
       " (0.9574440179362844, 0.9845306501220417, 0.9356972919032548),\n",
       " (0.8966147423177004, 0.954071318506932, 0.876077366310354),\n",
       " (0.8940821873094288, 0.9237145355363416, 0.9294703052054235),\n",
       " (0.9623242755908289, 0.9858783496989056, 0.9368971760186325),\n",
       " (0.8978709534485362, 0.9695050328397095, 0.8940928603367516),\n",
       " (0.9045925603815275, 0.9262993498930764, 0.9332222033455835),\n",
       " (0.9653687166337219, 0.9794995640721564, 0.9333056975042562),\n",
       " (0.8720397256171721, 0.9581088729923418, 0.8854515894571511),\n",
       " (0.9111695382987072, 0.9301895744311027, 0.9475315265245473),\n",
       " (0.9563082552933015, 0.9815893200960639, 0.9322064975198486),\n",
       " (0.8842320766570985, 0.9594273176996697, 0.8644856070476322),\n",
       " (0.9057502500296493, 0.9398903944244307, 0.9410786793617253),\n",
       " (0.9595267341605783, 0.9822305295100549, 0.9343622176314273),\n",
       " (0.8895763196847146, 0.9421877838358138, 0.8605187032304196),\n",
       " (0.8931041174650474, 0.9217707534706766, 0.9367842229582044),\n",
       " (0.9512666185819354, 0.9835034073180231, 0.9264807748689321),\n",
       " (0.8899732287421381, 0.9625803728657777, 0.8787378999628731),\n",
       " (0.8889030465757539, 0.9117234763186804, 0.9324258936453774),\n",
       " (0.9499689244966033, 0.9846276830967645, 0.928151540515776),\n",
       " (0.8694862083655671, 0.9591901286642792, 0.86698070103811),\n",
       " (0.908340107146642, 0.9196592043020309, 0.9310451720869363),\n",
       " (0.9493361780384941, 0.9847112992410757, 0.9279722476621549),\n",
       " (0.8833298126070166, 0.963256339906338, 0.8760848600661107),\n",
       " (0.9029863701391547, 0.9282532952730508, 0.9341892396239757),\n",
       " (0.9526437615859096, 0.9830108659897421, 0.9312351408374601),\n",
       " (0.8866839746796258, 0.9615121035326295, 0.8817780826961208),\n",
       " (0.9012046639615322, 0.9092257295085187, 0.9146515570611403),\n",
       " (0.9604217786554173, 0.9841163189379922, 0.9452774374216345),\n",
       " (0.8344397928550933, 0.9628879355179318, 0.8648117659936636),\n",
       " (0.8857334330224698, 0.918611100751326, 0.9433883591664801),\n",
       " (0.9615116652777812, 0.9839409210225366, 0.9396261167675918),\n",
       " (0.8887865105331759, 0.9670651606787065, 0.8854630276681796),\n",
       " (0.9003447004911489, 0.9185844101257693, 0.9446713231421172),\n",
       " (0.9637838798594232, 0.9855361971707436, 0.9460764179132761),\n",
       " (0.8667424092111391, 0.9585061853934419, 0.8521873784731759),\n",
       " (0.8898320965274953, 0.9218875717945745, 0.9276763737331821),\n",
       " (0.9574393353158949, 0.9835557474285206, 0.9360613673885985),\n",
       " (0.8989490840843776, 0.962979865824527, 0.8868829935503834),\n",
       " (0.886222007361538, 0.9086924686080787, 0.9396340449935632),\n",
       " (0.9640735818588484, 0.984628725577908, 0.9402055625807456),\n",
       " (0.868622114595213, 0.9578584948887702, 0.8780263289714408),\n",
       " (0.9110084557413122, 0.9236621898946469, 0.9428193177752314),\n",
       " (0.9587634582599551, 0.9849144077681564, 0.9417197827353804),\n",
       " (0.8734475995259706, 0.9594197732596197, 0.8499409785893278),\n",
       " (0.897672599414163, 0.923730892074396, 0.9307063816936457),\n",
       " (0.9534506789837351, 0.9831517808636333, 0.9300313258425342),\n",
       " (0.8901796614504403, 0.9628797795416195, 0.8792240579133825),\n",
       " (0.8810325560154706, 0.9112845395279353, 0.9489257052745048),\n",
       " (0.9532938545833721, 0.9827369636929792, 0.9294144486779087),\n",
       " (0.873242705538124, 0.958163640446086, 0.8850213007703402),\n",
       " (0.8811918612904871, 0.9132380481133142, 0.9420950327514457),\n",
       " (0.9526664647558963, 0.9803678778507943, 0.9271174414509282),\n",
       " (0.8819029217783836, 0.9565074944969408, 0.8548733385211832),\n",
       " (0.9080129498234262, 0.9314672646554415, 0.9410455405806486),\n",
       " (0.9522119452662627, 0.9818053990282181, 0.9261211143563773),\n",
       " (0.8806921877056128, 0.9588174445171334, 0.882971924195558),\n",
       " (0.9034711102585764, 0.9353105506166388, 0.9398940880356474),\n",
       " (0.9591090838500148, 0.9821194473633386, 0.9339027431541604),\n",
       " (0.896440755240027, 0.9711951591815259, 0.8978921464661644),\n",
       " (0.900994387444374, 0.9213037669070435, 0.9354052235055726),\n",
       " (0.9575903158160897, 0.9828749337981333, 0.9396174330829823),\n",
       " (0.8837655457132172, 0.9370494224838136, 0.8467365499105176),\n",
       " (0.8996175891195228, 0.9312708600806217, 0.9393866173803451),\n",
       " (0.9601293420241107, 0.98250412404594, 0.9350517390483782),\n",
       " (0.8836489362685199, 0.9558945831084351, 0.8695956969357599),\n",
       " (0.9126540379363398, 0.9426512832915162, 0.9428521626465359),\n",
       " (0.9501291800486906, 0.9849700776698932, 0.9321241237095146),\n",
       " (0.8875493983284978, 0.9616387371075653, 0.8859413437254345),\n",
       " (0.9053403958327798, 0.9451111835539864, 0.946034936764578),\n",
       " (0.9568516387107332, 0.981943406052137, 0.9301286506661652),\n",
       " (0.8918877338261834, 0.960063950772011, 0.8884838783823961),\n",
       " (0.8605860936812653, 0.901785918807071, 0.930693353400181),\n",
       " (0.9662158796934291, 0.983307492780919, 0.9431396407730336),\n",
       " (0.8771934512919092, 0.9610429969740308, 0.8652156254409582),\n",
       " (0.9087110692588481, 0.925659812321128, 0.9448450687248314),\n",
       " (0.9601437790638431, 0.9873123545981263, 0.9400339013519757),\n",
       " (0.8711727627174798, 0.9657864518752068, 0.8780732138272423),\n",
       " (0.894848008477421, 0.9217174953122188, 0.9362749912824561),\n",
       " (0.9591796236052569, 0.9825779394395135, 0.9348589231564011),\n",
       " (0.845391916596251, 0.9508178679481756, 0.8570631708200667),\n",
       " (0.9034263506741004, 0.9300814159018723, 0.9491568893176823),\n",
       " (0.9659831476260469, 0.9828341588876008, 0.9453180284375251),\n",
       " (0.8999923037714845, 0.9575540809316244, 0.8787982958397892),\n",
       " (0.9117261695708624, 0.9265539313917136, 0.9471208415371583),\n",
       " (0.9596517943015044, 0.9825824812954902, 0.9327134261459822),\n",
       " (0.8847390720404001, 0.9613929004829932, 0.884747534917684),\n",
       " (0.9113678042872051, 0.9435533384266909, 0.9369468988557001),\n",
       " (0.9656746172350651, 0.9824824933183791, 0.9455382984380211),\n",
       " (0.886286776500689, 0.9570004483036197, 0.8938673422474304),\n",
       " (0.9106230348426031, 0.943818535404533, 0.9502304539172619),\n",
       " (0.9540407238684958, 0.9820880365990252, 0.93166905123726),\n",
       " (0.861575873070329, 0.9589155343363416, 0.8667492468322151),\n",
       " (0.896031708195296, 0.9313814486518651, 0.923842266158635),\n",
       " (0.9618571558606513, 0.9834504572104772, 0.9377511022105831),\n",
       " (0.8831004182925267, 0.9539340205155571, 0.8761936157222511),\n",
       " (0.8997566884333608, 0.9242319581732185, 0.938447623793419),\n",
       " (0.9618815303879469, 0.9839395010576861, 0.9374960924958193),\n",
       " (0.876302875705347, 0.962170354511306, 0.8806535632135138),\n",
       " (0.9047441698923373, 0.9245763536404943, 0.9306327979119727),\n",
       " (0.953522362755663, 0.9853305197849855, 0.932526854355081),\n",
       " (0.8749612860179307, 0.954286785782526, 0.8741350240221135),\n",
       " (0.868840295057052, 0.9022938723341947, 0.9306747231415207),\n",
       " (0.9624510725738871, 0.9821035740844881, 0.9363058341373539),\n",
       " (0.8974652922630458, 0.9532464218735428, 0.8864432522991186),\n",
       " (0.9002029572164769, 0.9228752272180163, 0.9378545793070288),\n",
       " (0.9584394383921462, 0.9850607565318575, 0.9374795985253924),\n",
       " (0.8710644945763908, 0.9566066998812807, 0.8622970757423408),\n",
       " (0.8682159145922679, 0.9088462000192501, 0.9386061218942333),\n",
       " (0.954632402332317, 0.9837989794568797, 0.930313383057543),\n",
       " (0.8764466948829563, 0.9632202987363537, 0.8829946221027235),\n",
       " (0.8920185155991096, 0.9321251029442983, 0.936878593557056),\n",
       " (0.9696631338915348, 0.9804154328252668, 0.9521975415145157),\n",
       " (0.8450600742333778, 0.9535036318859306, 0.8345920822577824),\n",
       " (0.8845077597863507, 0.9162317749304228, 0.936981615871531),\n",
       " (0.9527148775709996, 0.9839174607024457, 0.9300284015504494),\n",
       " (0.8667756568516465, 0.9649900121424931, 0.8923695577986734),\n",
       " (0.9079243480927824, 0.9257810344617167, 0.9431650884100417),\n",
       " (0.9587136856748609, 0.9856528426691, 0.9354200079129302),\n",
       " (0.8860521762938359, 0.9639488836367401, 0.8950476806794738),\n",
       " (0.8974993795872755, 0.9306727611759779, 0.9361671862295319),\n",
       " (0.952582969313729, 0.9823720510233049, 0.9297311497064339),\n",
       " (0.8818916141380725, 0.9645059166682347, 0.8793105561661947),\n",
       " (0.9098839166065817, 0.9321890241745907, 0.9540671522124407),\n",
       " (0.9477386463133268, 0.9803592594324618, 0.9215534831906189),\n",
       " (0.8760199354811287, 0.9555471691644888, 0.867205027806983),\n",
       " (0.9053188439311338, 0.9342875921516282, 0.9385291556162821),\n",
       " (0.956957146303633, 0.9833233301633912, 0.9349178454738808),\n",
       " (0.8858170074703675, 0.9679582002878979, 0.8796449228282377),\n",
       " (0.8899534025224924, 0.909228563683628, 0.9406082036095644),\n",
       " (0.9616541950838944, 0.9800078784074102, 0.9386619526473574),\n",
       " (0.8881962803286768, 0.9661422121798247, 0.8823058479569372),\n",
       " (0.9170601804714755, 0.9431233248060911, 0.9383727511121746),\n",
       " (0.9543505942938288, 0.982186694744537, 0.9278882905330789),\n",
       " (0.8719306106836862, 0.9519515401612686, 0.8925774039542734),\n",
       " (0.9050236673181354, 0.9324314640408468, 0.9331930390412801),\n",
       " (0.958739733064094, 0.984948483167198, 0.940616855645072),\n",
       " (0.8980218246964232, 0.9650484640764843, 0.9023265090274971),\n",
       " (0.8963357410935445, 0.9155213607656117, 0.9410420382241093),\n",
       " (0.9527791425645267, 0.9832708667740218, 0.925971472916274),\n",
       " (0.8698087910003194, 0.9681659335416196, 0.8833622199962451),\n",
       " (0.8999331015091475, 0.9256879216236458, 0.9456753715112355),\n",
       " (0.9609272198866385, 0.9832460512567492, 0.9375201226449725),\n",
       " (0.8649009704354993, 0.962718582762435, 0.8691178125500612),\n",
       " (0.9178719762252345, 0.9322018832426169, 0.9398600924584518),\n",
       " (0.9526636699522278, 0.9837339998187324, 0.9298311602587112),\n",
       " (0.8807511035559558, 0.9653893763606936, 0.8855296216251644),\n",
       " (0.8837729505890822, 0.9087593962648273, 0.9427780962271043),\n",
       " (0.9531345012339703, 0.9834421428215604, 0.9279131639427813),\n",
       " (0.8909527121920562, 0.9654182638291515, 0.876721698759702),\n",
       " (0.904188516737645, 0.9300451106903969, 0.9319885942717271),\n",
       " (0.9525438420278045, 0.9793924593291932, 0.9247096438743043),\n",
       " (0.8983825894153269, 0.9669780983009814, 0.8842964760847569),\n",
       " (0.890354122047318, 0.9340391867517707, 0.9393713639988263),\n",
       " (0.9678150606237061, 0.9808648993534681, 0.9437190635935578),\n",
       " (0.8752809430540566, 0.9702573023707063, 0.8697571243222791),\n",
       " (0.9242262888499626, 0.9367528073636988, 0.9495092310076966),\n",
       " (0.9576350891640166, 0.983519442629791, 0.9343124451718988),\n",
       " (0.8883298169207774, 0.954075113547113, 0.8975316916677513),\n",
       " (0.9052689406308263, 0.923199391359654, 0.9379946243538463),\n",
       " (0.9611180475907397, 0.9858041584946455, 0.9390170182036188),\n",
       " (0.8959718957365473, 0.9617141250510339, 0.8931748715422403),\n",
       " (0.89260265694837, 0.9224492185148819, 0.9435891090924018),\n",
       " (0.9642101622390354, 0.9820346880177258, 0.93973993510822),\n",
       " (0.8693401495507417, 0.9597634759762319, 0.8657314452181525),\n",
       " (0.8938718100150298, 0.9222475104362132, 0.9174665387987444),\n",
       " (0.956829017333258, 0.9855065080184581, 0.9384463743177012),\n",
       " (0.8828627161631827, 0.9666827241049717, 0.8940347743155455),\n",
       " (0.8654800797408794, 0.8962589195613374, 0.9456124911853443),\n",
       " (0.954247842788721, 0.9836585760840244, 0.9299742433785095),\n",
       " (0.871730069197109, 0.9565703427639234, 0.870879340818147),\n",
       " (0.9077440616955134, 0.9331462483766181, 0.9311450265087611),\n",
       " (0.9602163563108636, 0.981971810119252, 0.9361832308856843),\n",
       " (0.8747568283302807, 0.9555047741516824, 0.8717598152312352),\n",
       " (0.9008074768386951, 0.9222896550710453, 0.9354479623692897),\n",
       " (0.9645355150278602, 0.983032154794838, 0.9427333272950235),\n",
       " (0.8920389915229819, 0.9570159892936915, 0.8689672333418342),\n",
       " (0.8907642063013318, 0.9317158575826111, 0.9301317051451885),\n",
       " (0.9364034312404456, 0.979972408884076, 0.9125604507032665),\n",
       " (0.8682958751785811, 0.9664833324821798, 0.8899099352682355),\n",
       " (0.8931628359063751, 0.9059243222555129, 0.9260407736714278),\n",
       " (0.9544935158778401, 0.9817273099875163, 0.9296238364622819),\n",
       " (0.8583533728622121, 0.9638684770695016, 0.8634400456877747),\n",
       " (0.878321767208794, 0.9132728720052528, 0.9252604084092725),\n",
       " (0.953842259901168, 0.9803022101461099, 0.9328253878710703),\n",
       " (0.891297931677287, 0.9574931630343573, 0.8695960735848552),\n",
       " (0.9105144330105452, 0.9352812875540097, 0.9413456657654543),\n",
       " (0.9582626647939592, 0.9812807975247173, 0.9324262294823067),\n",
       " (0.8680704513823547, 0.9518690401414689, 0.8581098201447062),\n",
       " (0.8958088158957722, 0.915282191921238, 0.9426882623988584),\n",
       " (0.9625718311274718, 0.9819491723274569, 0.9339002678316439),\n",
       " (0.8895058053244662, 0.9479398287289824, 0.8763825244903434),\n",
       " (0.8906429022137352, 0.9125684301480025, 0.9342826662759246),\n",
       " (0.9583846879304884, 0.9818817982964255, 0.9298968660246639),\n",
       " (0.8377821713975911, 0.9479039738053299, 0.8459796638204072),\n",
       " (0.9219024061440895, 0.9410376804609804, 0.9424155724483867),\n",
       " (0.9639431426151647, 0.982815856391412, 0.9408131384492218),\n",
       " (0.8773549471805903, 0.9695114910926157, 0.884790527014),\n",
       " (0.8964275334140935, 0.9237746461436304, 0.937689864239627),\n",
       " (0.9615257641153662, 0.9838951045981195, 0.9365654455603498),\n",
       " (0.8887354717388108, 0.9634337587872092, 0.8915478217458013),\n",
       " (0.8968457532615143, 0.9280098283091043, 0.945331308094795),\n",
       " (0.9520799481071685, 0.9800959039699062, 0.9274580865690286),\n",
       " (0.8731428628870641, 0.9531064209813989, 0.8799155678784526),\n",
       " (0.8861662248756623, 0.9160987993637455, 0.9369877082113223),\n",
       " (0.9617721766880364, 0.9824143502163842, 0.9353543686761575),\n",
       " (0.8727428677883152, 0.9617633309645857, 0.8770972318636283),\n",
       " (0.8794103596457753, 0.916147696743586, 0.927744395490253),\n",
       " (0.9610548900886736, 0.979078188314015, 0.9330141433412246),\n",
       " (0.8727329417540232, 0.9595599512250743, 0.8802374071061027),\n",
       " (0.9099703985179486, 0.930566164872871, 0.9439859949275351),\n",
       " (0.9589074227918044, 0.9829750369910851, 0.9345595565566982),\n",
       " (0.8648781964492637, 0.9583126578826063, 0.8823981700122769),\n",
       " (0.8953353720439942, 0.9253021917321893, 0.9417523257737125),\n",
       " (0.9559893100259527, 0.9845582798057511, 0.9369787433803145),\n",
       " (0.8526341381590815, 0.9551855986798798, 0.8624966834577348),\n",
       " (0.8941789492195, 0.9288042987199023, 0.9356841963354159),\n",
       " (0.9507608872148314, 0.9795985621049594, 0.9239184647070879),\n",
       " (0.8978596442514404, 0.9639700747496729, 0.8964384286335816),\n",
       " (0.9095044743562891, 0.9300493563471629, 0.9302193636832321),\n",
       " (0.9547524266211228, 0.9819005088551752, 0.9336856739255995),\n",
       " (0.904947047216172, 0.955167660813346, 0.8856465532257272),\n",
       " (0.8961375508705216, 0.9167807809849663, 0.933222978144777),\n",
       " (0.9633328207899495, 0.9834785819039392, 0.9390233390663031),\n",
       " (0.8894892743163413, 0.966073722167308, 0.8840962350332996),\n",
       " (0.9300387434737264, 0.9246791642611533, 0.9363065636109343),\n",
       " (0.9633608918381809, 0.9816281692104196, 0.9403858130852714),\n",
       " (0.863372507559357, 0.957060070604176, 0.8427318584705203),\n",
       " (0.8840640053130707, 0.9133762517260551, 0.9326646650441885),\n",
       " (0.9504252417179448, 0.9802393195169063, 0.9239533707245641),\n",
       " (0.8707801703723069, 0.9469966126379279, 0.8437395013667428),\n",
       " (0.9167013873678855, 0.9324666164017539, 0.9429575388171113),\n",
       " (0.9573512759561514, 0.9828528542218428, 0.933085810612436),\n",
       " (0.881970014045858, 0.9656461219291346, 0.891572040080384),\n",
       " (0.9073801030981873, 0.9401831430133393, 0.9369936618112241),\n",
       " (0.9559012156609905, 0.9841658225240193, 0.9304779931151318),\n",
       " (0.8681295406258068, 0.939361260264724, 0.8358395550701975),\n",
       " (0.9086198119179427, 0.9308902296953574, 0.9369678989575762),\n",
       " (0.9564422514078609, 0.9836000367202083, 0.9313418752419313),\n",
       " (0.8501141807600027, 0.9428108431623069, 0.8223554474465162),\n",
       " (0.910931154549257, 0.9288382474916435, 0.9401897173968609),\n",
       " (0.9604915004170117, 0.984121356752019, 0.9384954663893923),\n",
       " (0.8556189968708853, 0.957533126195284, 0.8699957149838118),\n",
       " (0.8878141394172651, 0.9226025810241053, 0.9241061504809649),\n",
       " (0.9528605757960977, 0.9834621917822518, 0.928620970438243),\n",
       " (0.8881688267279624, 0.9641624850508834, 0.8949483386440078),\n",
       " (0.9000057742369963, 0.9301472130137278, 0.9357219517493385),\n",
       " (0.958928039366774, 0.9839078143482511, 0.9379564934893365),\n",
       " (0.9017134326306935, 0.9658519876837461, 0.9037925959832916),\n",
       " (0.9001348093231236, 0.9269367437044381, 0.941215369078663),\n",
       " (0.9603046839062747, 0.9847235468268148, 0.9401006623130805),\n",
       " (0.8521872131530644, 0.9583147407085052, 0.86070580938596),\n",
       " (0.8865731446161385, 0.9046764850728748, 0.9312709436633395),\n",
       " (0.9575127926874152, 0.9866072552129596, 0.9366172061067014),\n",
       " (0.85454941289668, 0.9600839708953917, 0.8550854869823716),\n",
       " (0.8965625324757731, 0.9170271224862178, 0.9317015153746395),\n",
       " (0.9470888463860422, 0.9785606358695788, 0.9193357183363365),\n",
       " (0.8914909644685529, 0.9628978779009079, 0.8818333189298371),\n",
       " (0.8790054765221231, 0.9155449732406528, 0.9379670958863672),\n",
       " (0.9647747522633249, 0.97964716129543, 0.9430406213000891)]"
      ]
     },
     "execution_count": 201,
     "metadata": {},
     "output_type": "execute_result"
    }
   ],
   "source": [
    "#here we compute the corralations between the three centrality measures for each network\n",
    "#every network is characterized by the tripplet of centrality correlations\n",
    "centrality_correlations = [\n",
    "    (\n",
    "        spearmanr(c['degree'],c['closeness'])[0],\n",
    "        spearmanr(c['degree'],c['betweenness'])[0],\n",
    "        spearmanr(c['betweenness'],c['closeness'])[0],\n",
    "    )\n",
    "    for c in centralities\n",
    "]\n",
    "# centralities2 = []\n",
    "# for c in centralities:\n",
    "#     centralities2 += [ {\n",
    "#         'degree': list(c['degree'].values()),\n",
    "#         'betweenness': list(c['betweenness'].values()),\n",
    "#         'closeness': list(c['closeness'].values())\n",
    "#                       } ]\n",
    "    \n",
    "# centralities = centralities2\n"
   ]
  },
  {
   "cell_type": "markdown",
   "metadata": {
    "colab_type": "text",
    "id": "F9dPEOceanT_"
   },
   "source": [
    "### Build a meta-network\n",
    "\n",
    "where networks are nodes connected by an edge if their centrality correlations are similar "
   ]
  },
  {
   "cell_type": "code",
   "execution_count": 202,
   "metadata": {
    "colab": {},
    "colab_type": "code",
    "id": "SdsMMRaeanUF"
   },
   "outputs": [],
   "source": [
    "radius = 0.025\n",
    "G = random_geometric_graph(n=len(nets), radius=radius, dim=3, pos=dict(enumerate(centrality_correlations)))"
   ]
  },
  {
   "cell_type": "code",
   "execution_count": 203,
   "metadata": {
    "colab": {
     "base_uri": "https://localhost:8080/",
     "height": 51
    },
    "colab_type": "code",
    "id": "x_iVVHOuanUV",
    "outputId": "427551ab-2255-41d9-fa70-c929f659fd71"
   },
   "outputs": [
    {
     "name": "stdout",
     "output_type": "stream",
     "text": [
      "number of nodes in G is the same as the number of networks in nets:300\n",
      "number of edges in G is:10454\n"
     ]
    }
   ],
   "source": [
    "print(\"number of nodes in G is the same as the number of networks in nets:{}\".format(G.number_of_nodes()))\n",
    "print(\"number of edges in G is:{}\".format(G.number_of_edges()))"
   ]
  },
  {
   "cell_type": "code",
   "execution_count": 206,
   "metadata": {
    "colab": {},
    "colab_type": "code",
    "id": "cGLCb-SyanUm"
   },
   "outputs": [
    {
     "data": {
      "image/png": "[encoded data removed]",
      "text/plain": [
       "<Figure size 864x864 with 1 Axes>"
      ]
     },
     "metadata": {},
     "output_type": "display_data"
    }
   ],
   "source": [
    "pos = nx.spring_layout(G)\n",
    "plt.figure(3,figsize=(12,12)) \n",
    "nx.draw(G, pos=pos,node_size=3,alpha=0.2)"
   ]
  },
  {
   "cell_type": "markdown",
   "metadata": {
    "colab_type": "text",
    "id": "lUuY_8eVanU3"
   },
   "source": [
    "### Communities"
   ]
  },
  {
   "cell_type": "markdown",
   "metadata": {
    "colab_type": "text",
    "id": "P1rjhXqeanU8"
   },
   "source": [
    "#### What is the number of communities in nets[1]?"
   ]
  },
  {
   "cell_type": "code",
   "execution_count": 207,
   "metadata": {
    "colab": {},
    "colab_type": "code",
    "id": "7dIbdaL2anVB"
   },
   "outputs": [
    {
     "data": {
      "text/plain": [
       "<networkx.classes.graph.Graph at 0xa2cab2470>"
      ]
     },
     "execution_count": 207,
     "metadata": {},
     "output_type": "execute_result"
    }
   ],
   "source": [
    "#find the community structure of nets[1] and print the number of communities in nets[1]\n",
    "nets[1]"
   ]
  },
  {
   "cell_type": "markdown",
   "metadata": {
    "colab_type": "text",
    "id": "NpK0SkWvanVR"
   },
   "source": [
    "#### How could you know it without running community detection?"
   ]
  },
  {
   "cell_type": "markdown",
   "metadata": {
    "colab_type": "text",
    "id": "02cqRhn7anVW"
   },
   "source": []
  },
  {
   "cell_type": "markdown",
   "metadata": {
    "colab_type": "text",
    "id": "thvrQrAQanVb"
   },
   "source": [
    "#### What is the number of communities in the meta-network G?"
   ]
  },
  {
   "cell_type": "code",
   "execution_count": 0,
   "metadata": {
    "colab": {},
    "colab_type": "code",
    "id": "7BhmDMMranVg"
   },
   "outputs": [],
   "source": [
    "#find the community structure of nets[1] and print the number of communities in nets[1]"
   ]
  },
  {
   "cell_type": "markdown",
   "metadata": {
    "colab_type": "text",
    "id": "5zmV-qyOanVw"
   },
   "source": [
    "#### Explain why is there this number of communities in G? "
   ]
  },
  {
   "cell_type": "markdown",
   "metadata": {
    "colab_type": "text",
    "id": "1R14BCIuanV0"
   },
   "source": []
  }
 ],
 "metadata": {
  "colab": {
   "name": "Y_Data_CNA_Excersize.ipynb",
   "provenance": [],
   "toc_visible": true
  },
  "kernelspec": {
   "display_name": "Python 3",
   "language": "python",
   "name": "python3"
  },
  "language_info": {
   "codemirror_mode": {
    "name": "ipython",
    "version": 3
   },
   "file_extension": ".py",
   "mimetype": "text/x-python",
   "name": "python",
   "nbconvert_exporter": "python",
   "pygments_lexer": "ipython3",
   "version": "3.6.9"
  }
 },
 "nbformat": 4,
 "nbformat_minor": 1
}
